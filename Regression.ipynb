{
 "cells": [
  {
   "cell_type": "code",
   "execution_count": null,
   "id": "a7277023-5dce-49db-8268-e726097e870d",
   "metadata": {},
   "outputs": [
    {
     "name": "stderr",
     "output_type": "stream",
     "text": [
      "Warning message in install.packages(\"GGally\"):\n",
      "“installation of package ‘GGally’ had non-zero exit status”\n",
      "Updating HTML index of packages in '.Library'\n",
      "\n",
      "Making 'packages.html' ...\n",
      " done\n",
      "\n",
      "Warning message in install.packages(\"corrplot\"):\n",
      "“installation of package ‘corrplot’ had non-zero exit status”\n",
      "Updating HTML index of packages in '.Library'\n",
      "\n",
      "Making 'packages.html' ...\n"
     ]
    }
   ],
   "source": [
    "install.packages(\"GGally\")\n",
    "install.packages(\"corrplot\")  \n",
    "install.packages(\"themis\")"
   ]
  },
  {
   "cell_type": "code",
   "execution_count": 2,
   "id": "41d4e2cc-4e58-4012-9c6f-06bc357fb6b1",
   "metadata": {},
   "outputs": [
    {
     "name": "stderr",
     "output_type": "stream",
     "text": [
      "── \u001b[1mAttaching packages\u001b[22m ─────────────────────────────────────── tidyverse 1.3.1 ──\n",
      "\n",
      "\u001b[32m✔\u001b[39m \u001b[34mggplot2\u001b[39m 3.3.6     \u001b[32m✔\u001b[39m \u001b[34mpurrr  \u001b[39m 0.3.4\n",
      "\u001b[32m✔\u001b[39m \u001b[34mtibble \u001b[39m 3.1.7     \u001b[32m✔\u001b[39m \u001b[34mdplyr  \u001b[39m 1.0.9\n",
      "\u001b[32m✔\u001b[39m \u001b[34mtidyr  \u001b[39m 1.2.0     \u001b[32m✔\u001b[39m \u001b[34mstringr\u001b[39m 1.4.0\n",
      "\u001b[32m✔\u001b[39m \u001b[34mreadr  \u001b[39m 2.1.2     \u001b[32m✔\u001b[39m \u001b[34mforcats\u001b[39m 0.5.1\n",
      "\n",
      "── \u001b[1mConflicts\u001b[22m ────────────────────────────────────────── tidyverse_conflicts() ──\n",
      "\u001b[31m✖\u001b[39m \u001b[34mdplyr\u001b[39m::\u001b[32mfilter()\u001b[39m masks \u001b[34mstats\u001b[39m::filter()\n",
      "\u001b[31m✖\u001b[39m \u001b[34mdplyr\u001b[39m::\u001b[32mlag()\u001b[39m    masks \u001b[34mstats\u001b[39m::lag()\n",
      "\n",
      "── \u001b[1mAttaching packages\u001b[22m ────────────────────────────────────── tidymodels 1.0.0 ──\n",
      "\n",
      "\u001b[32m✔\u001b[39m \u001b[34mbroom       \u001b[39m 1.0.0     \u001b[32m✔\u001b[39m \u001b[34mrsample     \u001b[39m 1.0.0\n",
      "\u001b[32m✔\u001b[39m \u001b[34mdials       \u001b[39m 1.0.0     \u001b[32m✔\u001b[39m \u001b[34mtune        \u001b[39m 1.0.0\n",
      "\u001b[32m✔\u001b[39m \u001b[34minfer       \u001b[39m 1.0.2     \u001b[32m✔\u001b[39m \u001b[34mworkflows   \u001b[39m 1.0.0\n",
      "\u001b[32m✔\u001b[39m \u001b[34mmodeldata   \u001b[39m 1.0.0     \u001b[32m✔\u001b[39m \u001b[34mworkflowsets\u001b[39m 1.0.0\n",
      "\u001b[32m✔\u001b[39m \u001b[34mparsnip     \u001b[39m 1.0.0     \u001b[32m✔\u001b[39m \u001b[34myardstick   \u001b[39m 1.0.0\n",
      "\u001b[32m✔\u001b[39m \u001b[34mrecipes     \u001b[39m 1.0.1     \n",
      "\n",
      "── \u001b[1mConflicts\u001b[22m ───────────────────────────────────────── tidymodels_conflicts() ──\n",
      "\u001b[31m✖\u001b[39m \u001b[34mscales\u001b[39m::\u001b[32mdiscard()\u001b[39m masks \u001b[34mpurrr\u001b[39m::discard()\n",
      "\u001b[31m✖\u001b[39m \u001b[34mdplyr\u001b[39m::\u001b[32mfilter()\u001b[39m   masks \u001b[34mstats\u001b[39m::filter()\n",
      "\u001b[31m✖\u001b[39m \u001b[34mrecipes\u001b[39m::\u001b[32mfixed()\u001b[39m  masks \u001b[34mstringr\u001b[39m::fixed()\n",
      "\u001b[31m✖\u001b[39m \u001b[34mdplyr\u001b[39m::\u001b[32mlag()\u001b[39m      masks \u001b[34mstats\u001b[39m::lag()\n",
      "\u001b[31m✖\u001b[39m \u001b[34myardstick\u001b[39m::\u001b[32mspec()\u001b[39m masks \u001b[34mreadr\u001b[39m::spec()\n",
      "\u001b[31m✖\u001b[39m \u001b[34mrecipes\u001b[39m::\u001b[32mstep()\u001b[39m   masks \u001b[34mstats\u001b[39m::step()\n",
      "\u001b[34m•\u001b[39m Dig deeper into tidy modeling with R at \u001b[32mhttps://www.tmwr.org\u001b[39m\n",
      "\n"
     ]
    },
    {
     "ename": "ERROR",
     "evalue": "Error in library(GGally): there is no package called ‘GGally’\n",
     "output_type": "error",
     "traceback": [
      "Error in library(GGally): there is no package called ‘GGally’\nTraceback:\n",
      "1. library(GGally)"
     ]
    }
   ],
   "source": [
    "library(repr)\n",
    "library(tidyverse)\n",
    "library(tidymodels)\n",
    "library(RColorBrewer)\n",
    "options(repr.matrix.max.rows = 6)\n",
    "library(GGally)       \n",
    "library(corrplot)\n",
    "library(cowplot)"
   ]
  },
  {
   "cell_type": "code",
   "execution_count": 47,
   "id": "a7558ecf-7ac6-47be-99c9-b259517fdf21",
   "metadata": {},
   "outputs": [
    {
     "name": "stderr",
     "output_type": "stream",
     "text": [
      "\u001b[36mℹ\u001b[39m Using \u001b[34m\u001b[34m\"','\"\u001b[34m\u001b[39m as decimal and \u001b[34m\u001b[34m\"'.'\"\u001b[34m\u001b[39m as grouping mark. Use `read_delim()` for more control.\n",
      "\n",
      "Warning message:\n",
      "“One or more parsing issues, see `problems()` for details”\n",
      "\u001b[1mRows: \u001b[22m\u001b[34m1599\u001b[39m \u001b[1mColumns: \u001b[22m\u001b[34m12\u001b[39m\n",
      "\u001b[36m──\u001b[39m \u001b[1mColumn specification\u001b[22m \u001b[36m────────────────────────────────────────────────────────\u001b[39m\n",
      "\u001b[1mDelimiter:\u001b[22m \";\"\n",
      "\u001b[31mchr\u001b[39m (5): volatile acidity, citric acid, chlorides, density, sulphates\n",
      "\u001b[32mdbl\u001b[39m (2): total sulfur dioxide, quality\n",
      "\n",
      "\u001b[36mℹ\u001b[39m Use `spec()` to retrieve the full column specification for this data.\n",
      "\u001b[36mℹ\u001b[39m Specify the column types or set `show_col_types = FALSE` to quiet this message.\n"
     ]
    },
    {
     "data": {
      "text/html": [
       "<table class=\"dataframe\">\n",
       "<caption>A tibble: 6 × 12</caption>\n",
       "<thead>\n",
       "\t<tr><th scope=col>fixed acidity</th><th scope=col>volatile acidity</th><th scope=col>citric acid</th><th scope=col>residual sugar</th><th scope=col>chlorides</th><th scope=col>free sulfur dioxide</th><th scope=col>total sulfur dioxide</th><th scope=col>density</th><th scope=col>pH</th><th scope=col>sulphates</th><th scope=col>alcohol</th><th scope=col>quality</th></tr>\n",
       "\t<tr><th scope=col>&lt;dbl&gt;</th><th scope=col>&lt;chr&gt;</th><th scope=col>&lt;chr&gt;</th><th scope=col>&lt;dbl&gt;</th><th scope=col>&lt;chr&gt;</th><th scope=col>&lt;dbl&gt;</th><th scope=col>&lt;dbl&gt;</th><th scope=col>&lt;chr&gt;</th><th scope=col>&lt;dbl&gt;</th><th scope=col>&lt;chr&gt;</th><th scope=col>&lt;dbl&gt;</th><th scope=col>&lt;fct&gt;</th></tr>\n",
       "</thead>\n",
       "<tbody>\n",
       "\t<tr><td> 74</td><td>0.7 </td><td>0   </td><td>19</td><td>0.076</td><td>11</td><td>34</td><td>0.9978</td><td>351</td><td>0.56</td><td>94</td><td>5</td></tr>\n",
       "\t<tr><td> 78</td><td>0.88</td><td>0   </td><td>26</td><td>0.098</td><td>25</td><td>67</td><td>0.9968</td><td> 32</td><td>0.68</td><td>98</td><td>5</td></tr>\n",
       "\t<tr><td> 78</td><td>0.76</td><td>0.04</td><td>23</td><td>0.092</td><td>15</td><td>54</td><td>0.997 </td><td>326</td><td>0.65</td><td>98</td><td>5</td></tr>\n",
       "\t<tr><td>112</td><td>0.28</td><td>0.56</td><td>19</td><td>0.075</td><td>17</td><td>60</td><td>0.998 </td><td>316</td><td>0.58</td><td>98</td><td>6</td></tr>\n",
       "\t<tr><td> 74</td><td>0.7 </td><td>0   </td><td>19</td><td>0.076</td><td>11</td><td>34</td><td>0.9978</td><td>351</td><td>0.56</td><td>94</td><td>5</td></tr>\n",
       "\t<tr><td> 74</td><td>0.66</td><td>0   </td><td>18</td><td>0.075</td><td>13</td><td>40</td><td>0.9978</td><td>351</td><td>0.56</td><td>94</td><td>5</td></tr>\n",
       "</tbody>\n",
       "</table>\n"
      ],
      "text/latex": [
       "A tibble: 6 × 12\n",
       "\\begin{tabular}{llllllllllll}\n",
       " fixed acidity & volatile acidity & citric acid & residual sugar & chlorides & free sulfur dioxide & total sulfur dioxide & density & pH & sulphates & alcohol & quality\\\\\n",
       " <dbl> & <chr> & <chr> & <dbl> & <chr> & <dbl> & <dbl> & <chr> & <dbl> & <chr> & <dbl> & <fct>\\\\\n",
       "\\hline\n",
       "\t  74 & 0.7  & 0    & 19 & 0.076 & 11 & 34 & 0.9978 & 351 & 0.56 & 94 & 5\\\\\n",
       "\t  78 & 0.88 & 0    & 26 & 0.098 & 25 & 67 & 0.9968 &  32 & 0.68 & 98 & 5\\\\\n",
       "\t  78 & 0.76 & 0.04 & 23 & 0.092 & 15 & 54 & 0.997  & 326 & 0.65 & 98 & 5\\\\\n",
       "\t 112 & 0.28 & 0.56 & 19 & 0.075 & 17 & 60 & 0.998  & 316 & 0.58 & 98 & 6\\\\\n",
       "\t  74 & 0.7  & 0    & 19 & 0.076 & 11 & 34 & 0.9978 & 351 & 0.56 & 94 & 5\\\\\n",
       "\t  74 & 0.66 & 0    & 18 & 0.075 & 13 & 40 & 0.9978 & 351 & 0.56 & 94 & 5\\\\\n",
       "\\end{tabular}\n"
      ],
      "text/markdown": [
       "\n",
       "A tibble: 6 × 12\n",
       "\n",
       "| fixed acidity &lt;dbl&gt; | volatile acidity &lt;chr&gt; | citric acid &lt;chr&gt; | residual sugar &lt;dbl&gt; | chlorides &lt;chr&gt; | free sulfur dioxide &lt;dbl&gt; | total sulfur dioxide &lt;dbl&gt; | density &lt;chr&gt; | pH &lt;dbl&gt; | sulphates &lt;chr&gt; | alcohol &lt;dbl&gt; | quality &lt;fct&gt; |\n",
       "|---|---|---|---|---|---|---|---|---|---|---|---|\n",
       "|  74 | 0.7  | 0    | 19 | 0.076 | 11 | 34 | 0.9978 | 351 | 0.56 | 94 | 5 |\n",
       "|  78 | 0.88 | 0    | 26 | 0.098 | 25 | 67 | 0.9968 |  32 | 0.68 | 98 | 5 |\n",
       "|  78 | 0.76 | 0.04 | 23 | 0.092 | 15 | 54 | 0.997  | 326 | 0.65 | 98 | 5 |\n",
       "| 112 | 0.28 | 0.56 | 19 | 0.075 | 17 | 60 | 0.998  | 316 | 0.58 | 98 | 6 |\n",
       "|  74 | 0.7  | 0    | 19 | 0.076 | 11 | 34 | 0.9978 | 351 | 0.56 | 94 | 5 |\n",
       "|  74 | 0.66 | 0    | 18 | 0.075 | 13 | 40 | 0.9978 | 351 | 0.56 | 94 | 5 |\n",
       "\n"
      ],
      "text/plain": [
       "  fixed acidity volatile acidity citric acid residual sugar chlorides\n",
       "1  74           0.7              0           19             0.076    \n",
       "2  78           0.88             0           26             0.098    \n",
       "3  78           0.76             0.04        23             0.092    \n",
       "4 112           0.28             0.56        19             0.075    \n",
       "5  74           0.7              0           19             0.076    \n",
       "6  74           0.66             0           18             0.075    \n",
       "  free sulfur dioxide total sulfur dioxide density pH  sulphates alcohol\n",
       "1 11                  34                   0.9978  351 0.56      94     \n",
       "2 25                  67                   0.9968   32 0.68      98     \n",
       "3 15                  54                   0.997   326 0.65      98     \n",
       "4 17                  60                   0.998   316 0.58      98     \n",
       "5 11                  34                   0.9978  351 0.56      94     \n",
       "6 13                  40                   0.9978  351 0.56      94     \n",
       "  quality\n",
       "1 5      \n",
       "2 5      \n",
       "3 5      \n",
       "4 6      \n",
       "5 5      \n",
       "6 5      "
      ]
     },
     "metadata": {},
     "output_type": "display_data"
    }
   ],
   "source": [
    "winequalityRed <- read_csv2(\"https://archive.ics.uci.edu/ml/machine-learning-databases/wine-quality/winequality-red.csv\")|> \n",
    "                    mutate(quality = as.factor(quality))\n",
    "head(winequalityRed)\n",
    "\n",
    "\n"
   ]
  },
  {
   "cell_type": "code",
   "execution_count": 48,
   "id": "b4d44860-8c49-4bac-bef1-ec740ba63443",
   "metadata": {},
   "outputs": [
    {
     "data": {
      "text/html": [
       "<table class=\"dataframe\">\n",
       "<caption>A tibble: 6 × 12</caption>\n",
       "<thead>\n",
       "\t<tr><th scope=col>fixed_acidity</th><th scope=col>volatile_acidity</th><th scope=col>citric_acid</th><th scope=col>residual_sugar</th><th scope=col>chlorides</th><th scope=col>free_SO2</th><th scope=col>total_SO2</th><th scope=col>density</th><th scope=col>pH</th><th scope=col>sulphates</th><th scope=col>alcohol</th><th scope=col>quality</th></tr>\n",
       "\t<tr><th scope=col>&lt;dbl&gt;</th><th scope=col>&lt;dbl&gt;</th><th scope=col>&lt;dbl&gt;</th><th scope=col>&lt;dbl&gt;</th><th scope=col>&lt;dbl&gt;</th><th scope=col>&lt;dbl&gt;</th><th scope=col>&lt;dbl&gt;</th><th scope=col>&lt;dbl&gt;</th><th scope=col>&lt;dbl&gt;</th><th scope=col>&lt;dbl&gt;</th><th scope=col>&lt;dbl&gt;</th><th scope=col>&lt;fct&gt;</th></tr>\n",
       "</thead>\n",
       "<tbody>\n",
       "\t<tr><td> 74</td><td>0.70</td><td>0.00</td><td>19</td><td>0.076</td><td>11</td><td>34</td><td>0.9978</td><td>351</td><td>0.56</td><td>94</td><td>5</td></tr>\n",
       "\t<tr><td> 78</td><td>0.88</td><td>0.00</td><td>26</td><td>0.098</td><td>25</td><td>67</td><td>0.9968</td><td> 32</td><td>0.68</td><td>98</td><td>5</td></tr>\n",
       "\t<tr><td> 78</td><td>0.76</td><td>0.04</td><td>23</td><td>0.092</td><td>15</td><td>54</td><td>0.9970</td><td>326</td><td>0.65</td><td>98</td><td>5</td></tr>\n",
       "\t<tr><td>112</td><td>0.28</td><td>0.56</td><td>19</td><td>0.075</td><td>17</td><td>60</td><td>0.9980</td><td>316</td><td>0.58</td><td>98</td><td>6</td></tr>\n",
       "\t<tr><td> 74</td><td>0.70</td><td>0.00</td><td>19</td><td>0.076</td><td>11</td><td>34</td><td>0.9978</td><td>351</td><td>0.56</td><td>94</td><td>5</td></tr>\n",
       "\t<tr><td> 74</td><td>0.66</td><td>0.00</td><td>18</td><td>0.075</td><td>13</td><td>40</td><td>0.9978</td><td>351</td><td>0.56</td><td>94</td><td>5</td></tr>\n",
       "</tbody>\n",
       "</table>\n"
      ],
      "text/latex": [
       "A tibble: 6 × 12\n",
       "\\begin{tabular}{llllllllllll}\n",
       " fixed\\_acidity & volatile\\_acidity & citric\\_acid & residual\\_sugar & chlorides & free\\_SO2 & total\\_SO2 & density & pH & sulphates & alcohol & quality\\\\\n",
       " <dbl> & <dbl> & <dbl> & <dbl> & <dbl> & <dbl> & <dbl> & <dbl> & <dbl> & <dbl> & <dbl> & <fct>\\\\\n",
       "\\hline\n",
       "\t  74 & 0.70 & 0.00 & 19 & 0.076 & 11 & 34 & 0.9978 & 351 & 0.56 & 94 & 5\\\\\n",
       "\t  78 & 0.88 & 0.00 & 26 & 0.098 & 25 & 67 & 0.9968 &  32 & 0.68 & 98 & 5\\\\\n",
       "\t  78 & 0.76 & 0.04 & 23 & 0.092 & 15 & 54 & 0.9970 & 326 & 0.65 & 98 & 5\\\\\n",
       "\t 112 & 0.28 & 0.56 & 19 & 0.075 & 17 & 60 & 0.9980 & 316 & 0.58 & 98 & 6\\\\\n",
       "\t  74 & 0.70 & 0.00 & 19 & 0.076 & 11 & 34 & 0.9978 & 351 & 0.56 & 94 & 5\\\\\n",
       "\t  74 & 0.66 & 0.00 & 18 & 0.075 & 13 & 40 & 0.9978 & 351 & 0.56 & 94 & 5\\\\\n",
       "\\end{tabular}\n"
      ],
      "text/markdown": [
       "\n",
       "A tibble: 6 × 12\n",
       "\n",
       "| fixed_acidity &lt;dbl&gt; | volatile_acidity &lt;dbl&gt; | citric_acid &lt;dbl&gt; | residual_sugar &lt;dbl&gt; | chlorides &lt;dbl&gt; | free_SO2 &lt;dbl&gt; | total_SO2 &lt;dbl&gt; | density &lt;dbl&gt; | pH &lt;dbl&gt; | sulphates &lt;dbl&gt; | alcohol &lt;dbl&gt; | quality &lt;fct&gt; |\n",
       "|---|---|---|---|---|---|---|---|---|---|---|---|\n",
       "|  74 | 0.70 | 0.00 | 19 | 0.076 | 11 | 34 | 0.9978 | 351 | 0.56 | 94 | 5 |\n",
       "|  78 | 0.88 | 0.00 | 26 | 0.098 | 25 | 67 | 0.9968 |  32 | 0.68 | 98 | 5 |\n",
       "|  78 | 0.76 | 0.04 | 23 | 0.092 | 15 | 54 | 0.9970 | 326 | 0.65 | 98 | 5 |\n",
       "| 112 | 0.28 | 0.56 | 19 | 0.075 | 17 | 60 | 0.9980 | 316 | 0.58 | 98 | 6 |\n",
       "|  74 | 0.70 | 0.00 | 19 | 0.076 | 11 | 34 | 0.9978 | 351 | 0.56 | 94 | 5 |\n",
       "|  74 | 0.66 | 0.00 | 18 | 0.075 | 13 | 40 | 0.9978 | 351 | 0.56 | 94 | 5 |\n",
       "\n"
      ],
      "text/plain": [
       "  fixed_acidity volatile_acidity citric_acid residual_sugar chlorides free_SO2\n",
       "1  74           0.70             0.00        19             0.076     11      \n",
       "2  78           0.88             0.00        26             0.098     25      \n",
       "3  78           0.76             0.04        23             0.092     15      \n",
       "4 112           0.28             0.56        19             0.075     17      \n",
       "5  74           0.70             0.00        19             0.076     11      \n",
       "6  74           0.66             0.00        18             0.075     13      \n",
       "  total_SO2 density pH  sulphates alcohol quality\n",
       "1 34        0.9978  351 0.56      94      5      \n",
       "2 67        0.9968   32 0.68      98      5      \n",
       "3 54        0.9970  326 0.65      98      5      \n",
       "4 60        0.9980  316 0.58      98      6      \n",
       "5 34        0.9978  351 0.56      94      5      \n",
       "6 40        0.9978  351 0.56      94      5      "
      ]
     },
     "metadata": {},
     "output_type": "display_data"
    }
   ],
   "source": [
    "completedt <- winequalityRed |>\n",
    "              setNames(c(\"fixed_acidity\",\n",
    "                         \"volatile_acidity\",\n",
    "                         \"citric_acid\",\n",
    "                         \"residual_sugar\",\n",
    "                         \"chlorides\",\n",
    "                         \"free_SO2\",\n",
    "                         \"total_SO2\",\n",
    "                         \"density\",\n",
    "                         \"pH\",\n",
    "                         \"sulphates\",\n",
    "                         \"alcohol\",\n",
    "                         \"quality\",\n",
    "                         \"type\"))\n",
    "completedt$volatile_acidity <- as.numeric(completedt$volatile_acidity)\n",
    "completedt$citric_acid <- as.numeric(completedt$citric_acid)\n",
    "completedt$residual_sugar <- as.numeric(completedt$residual_sugar)\n",
    "completedt$chlorides <- as.numeric(completedt$chlorides)\n",
    "completedt$density <- as.numeric(completedt$density)\n",
    "completedt$sulphates <- as.numeric(completedt$sulphates)\n",
    "head(completedt)"
   ]
  },
  {
   "cell_type": "code",
   "execution_count": 72,
   "id": "f588148a-4780-48c7-8db4-db8c11900815",
   "metadata": {},
   "outputs": [],
   "source": [
    "completedt<- completedt|>\n",
    "                     #mutate_at(c('quality'), as.factor)|>\n",
    "                     filter(!is.na(total_SO2))\n",
    "\n",
    "#head(completedt)"
   ]
  },
  {
   "cell_type": "code",
   "execution_count": 73,
   "id": "a887611f-3c2b-4baa-a857-d59ad78d7060",
   "metadata": {},
   "outputs": [
    {
     "data": {
      "text/html": [
       "<table class=\"dataframe\">\n",
       "<caption>A tibble: 6 × 12</caption>\n",
       "<thead>\n",
       "\t<tr><th scope=col>fixed_acidity</th><th scope=col>volatile_acidity</th><th scope=col>citric_acid</th><th scope=col>residual_sugar</th><th scope=col>chlorides</th><th scope=col>free_SO2</th><th scope=col>total_SO2</th><th scope=col>density</th><th scope=col>pH</th><th scope=col>sulphates</th><th scope=col>alcohol</th><th scope=col>quality</th></tr>\n",
       "\t<tr><th scope=col>&lt;dbl&gt;</th><th scope=col>&lt;dbl&gt;</th><th scope=col>&lt;dbl&gt;</th><th scope=col>&lt;dbl&gt;</th><th scope=col>&lt;dbl&gt;</th><th scope=col>&lt;dbl&gt;</th><th scope=col>&lt;dbl&gt;</th><th scope=col>&lt;dbl&gt;</th><th scope=col>&lt;dbl&gt;</th><th scope=col>&lt;dbl&gt;</th><th scope=col>&lt;dbl&gt;</th><th scope=col>&lt;fct&gt;</th></tr>\n",
       "</thead>\n",
       "<tbody>\n",
       "\t<tr><td>112</td><td>0.28</td><td>0.56</td><td>19</td><td>0.075</td><td>17</td><td> 60</td><td>0.9980</td><td>316</td><td>0.58</td><td> 98</td><td>6</td></tr>\n",
       "\t<tr><td> 85</td><td>0.28</td><td>0.56</td><td>18</td><td>0.092</td><td>35</td><td>103</td><td>0.9969</td><td> 33</td><td>0.75</td><td>105</td><td>7</td></tr>\n",
       "\t<tr><td> 79</td><td>0.32</td><td>0.51</td><td>18</td><td>0.341</td><td>17</td><td> 56</td><td>0.9969</td><td>304</td><td>1.08</td><td> 92</td><td>6</td></tr>\n",
       "\t<tr><td> 89</td><td>0.22</td><td>0.48</td><td>18</td><td>0.077</td><td>29</td><td> 60</td><td>0.9968</td><td>339</td><td>0.53</td><td> 94</td><td>6</td></tr>\n",
       "\t<tr><td> 76</td><td>0.39</td><td>0.31</td><td>23</td><td>0.082</td><td>23</td><td> 71</td><td>0.9982</td><td>352</td><td>0.65</td><td> 97</td><td>5</td></tr>\n",
       "\t<tr><td> 52</td><td>0.32</td><td>0.25</td><td>18</td><td>0.103</td><td>13</td><td> 50</td><td>0.9957</td><td>338</td><td>0.55</td><td> 92</td><td>5</td></tr>\n",
       "</tbody>\n",
       "</table>\n"
      ],
      "text/latex": [
       "A tibble: 6 × 12\n",
       "\\begin{tabular}{llllllllllll}\n",
       " fixed\\_acidity & volatile\\_acidity & citric\\_acid & residual\\_sugar & chlorides & free\\_SO2 & total\\_SO2 & density & pH & sulphates & alcohol & quality\\\\\n",
       " <dbl> & <dbl> & <dbl> & <dbl> & <dbl> & <dbl> & <dbl> & <dbl> & <dbl> & <dbl> & <dbl> & <fct>\\\\\n",
       "\\hline\n",
       "\t 112 & 0.28 & 0.56 & 19 & 0.075 & 17 &  60 & 0.9980 & 316 & 0.58 &  98 & 6\\\\\n",
       "\t  85 & 0.28 & 0.56 & 18 & 0.092 & 35 & 103 & 0.9969 &  33 & 0.75 & 105 & 7\\\\\n",
       "\t  79 & 0.32 & 0.51 & 18 & 0.341 & 17 &  56 & 0.9969 & 304 & 1.08 &  92 & 6\\\\\n",
       "\t  89 & 0.22 & 0.48 & 18 & 0.077 & 29 &  60 & 0.9968 & 339 & 0.53 &  94 & 6\\\\\n",
       "\t  76 & 0.39 & 0.31 & 23 & 0.082 & 23 &  71 & 0.9982 & 352 & 0.65 &  97 & 5\\\\\n",
       "\t  52 & 0.32 & 0.25 & 18 & 0.103 & 13 &  50 & 0.9957 & 338 & 0.55 &  92 & 5\\\\\n",
       "\\end{tabular}\n"
      ],
      "text/markdown": [
       "\n",
       "A tibble: 6 × 12\n",
       "\n",
       "| fixed_acidity &lt;dbl&gt; | volatile_acidity &lt;dbl&gt; | citric_acid &lt;dbl&gt; | residual_sugar &lt;dbl&gt; | chlorides &lt;dbl&gt; | free_SO2 &lt;dbl&gt; | total_SO2 &lt;dbl&gt; | density &lt;dbl&gt; | pH &lt;dbl&gt; | sulphates &lt;dbl&gt; | alcohol &lt;dbl&gt; | quality &lt;fct&gt; |\n",
       "|---|---|---|---|---|---|---|---|---|---|---|---|\n",
       "| 112 | 0.28 | 0.56 | 19 | 0.075 | 17 |  60 | 0.9980 | 316 | 0.58 |  98 | 6 |\n",
       "|  85 | 0.28 | 0.56 | 18 | 0.092 | 35 | 103 | 0.9969 |  33 | 0.75 | 105 | 7 |\n",
       "|  79 | 0.32 | 0.51 | 18 | 0.341 | 17 |  56 | 0.9969 | 304 | 1.08 |  92 | 6 |\n",
       "|  89 | 0.22 | 0.48 | 18 | 0.077 | 29 |  60 | 0.9968 | 339 | 0.53 |  94 | 6 |\n",
       "|  76 | 0.39 | 0.31 | 23 | 0.082 | 23 |  71 | 0.9982 | 352 | 0.65 |  97 | 5 |\n",
       "|  52 | 0.32 | 0.25 | 18 | 0.103 | 13 |  50 | 0.9957 | 338 | 0.55 |  92 | 5 |\n",
       "\n"
      ],
      "text/plain": [
       "  fixed_acidity volatile_acidity citric_acid residual_sugar chlorides free_SO2\n",
       "1 112           0.28             0.56        19             0.075     17      \n",
       "2  85           0.28             0.56        18             0.092     35      \n",
       "3  79           0.32             0.51        18             0.341     17      \n",
       "4  89           0.22             0.48        18             0.077     29      \n",
       "5  76           0.39             0.31        23             0.082     23      \n",
       "6  52           0.32             0.25        18             0.103     13      \n",
       "  total_SO2 density pH  sulphates alcohol quality\n",
       "1  60       0.9980  316 0.58       98     6      \n",
       "2 103       0.9969   33 0.75      105     7      \n",
       "3  56       0.9969  304 1.08       92     6      \n",
       "4  60       0.9968  339 0.53       94     6      \n",
       "5  71       0.9982  352 0.65       97     5      \n",
       "6  50       0.9957  338 0.55       92     5      "
      ]
     },
     "metadata": {},
     "output_type": "display_data"
    }
   ],
   "source": [
    "set.seed(100)\n",
    "wine_split <- initial_split(completedt, prop = 0.75, strata = volatile_acidity)\n",
    "wine_training <- training(wine_split)\n",
    "wine_testing <- testing(wine_split)\n",
    "head(wine_training)"
   ]
  },
  {
   "cell_type": "code",
   "execution_count": 30,
   "id": "8ad25dd0-5861-43e5-bb72-9bbf811405f4",
   "metadata": {},
   "outputs": [
    {
     "data": {
      "text/html": [
       "1.58"
      ],
      "text/latex": [
       "1.58"
      ],
      "text/markdown": [
       "1.58"
      ],
      "text/plain": [
       "[1] 1.58"
      ]
     },
     "metadata": {},
     "output_type": "display_data"
    }
   ],
   "source": [
    "wine_training |> select(volatile_acidity) |> max()"
   ]
  },
  {
   "cell_type": "code",
   "execution_count": 41,
   "id": "e3b5a0be-8942-409f-a90a-4eb64b9e6505",
   "metadata": {},
   "outputs": [
    {
     "data": {
      "image/png": "[encoded data removed]",
      "text/plain": [
       "plot without title"
      ]
     },
     "metadata": {
      "image/png": {
       "height": 420,
       "width": 420
      }
     },
     "output_type": "display_data"
    }
   ],
   "source": [
    "ggplot(wine_training, aes(volatile_acidity, quality)) +\n",
    "  geom_pointrange(aes(xmin = 0.12, xmax = 1.58), size = 0.01) +\n",
    "  geom_point(size = 6, colour = \"pink\") +\n",
    "  theme_minimal()"
   ]
  },
  {
   "cell_type": "code",
   "execution_count": 42,
   "id": "646cc2ec-121a-4603-9e1d-3720d5fa401e",
   "metadata": {},
   "outputs": [
    {
     "data": {
      "text/html": [
       "<table class=\"dataframe\">\n",
       "<caption>A matrix: 6 × 12 of type dbl</caption>\n",
       "<thead>\n",
       "\t<tr><th></th><th scope=col>fixed_acidity</th><th scope=col>volatile_acidity</th><th scope=col>citric_acid</th><th scope=col>residual_sugar</th><th scope=col>chlorides</th><th scope=col>free_SO2</th><th scope=col>total_SO2</th><th scope=col>density</th><th scope=col>pH</th><th scope=col>sulphates</th><th scope=col>alcohol</th><th scope=col>quality</th></tr>\n",
       "</thead>\n",
       "<tbody>\n",
       "\t<tr><th scope=row>fixed_acidity</th><td> 1.00</td><td>-0.16</td><td> 0.44</td><td> 0.05</td><td> 0.07</td><td>-0.14</td><td>-0.19</td><td> 0.43</td><td> 0.03</td><td> 0.20</td><td>-0.01</td><td> 0.14</td></tr>\n",
       "\t<tr><th scope=row>volatile_acidity</th><td>-0.16</td><td> 1.00</td><td>-0.63</td><td> 0.19</td><td> 0.15</td><td>-0.10</td><td>-0.10</td><td>-0.03</td><td>-0.18</td><td>-0.47</td><td> 0.01</td><td>-0.66</td></tr>\n",
       "\t<tr><th scope=row>citric_acid</th><td> 0.44</td><td>-0.63</td><td> 1.00</td><td>-0.02</td><td> 0.12</td><td> 0.03</td><td> 0.06</td><td> 0.38</td><td> 0.03</td><td> 0.48</td><td>-0.02</td><td> 0.50</td></tr>\n",
       "\t<tr><th scope=row>residual_sugar</th><td> 0.05</td><td> 0.19</td><td>-0.02</td><td> 1.00</td><td>-0.01</td><td>-0.02</td><td>-0.04</td><td> 0.09</td><td> 0.04</td><td>-0.03</td><td> 0.00</td><td>-0.09</td></tr>\n",
       "\t<tr><th scope=row>chlorides</th><td> 0.07</td><td> 0.15</td><td> 0.12</td><td>-0.01</td><td> 1.00</td><td> 0.03</td><td> 0.01</td><td> 0.12</td><td>-0.07</td><td> 0.32</td><td>-0.01</td><td>-0.26</td></tr>\n",
       "\t<tr><th scope=row>free_SO2</th><td>-0.14</td><td>-0.10</td><td> 0.03</td><td>-0.02</td><td> 0.03</td><td> 1.00</td><td> 0.66</td><td>-0.09</td><td> 0.07</td><td> 0.07</td><td> 0.01</td><td> 0.01</td></tr>\n",
       "</tbody>\n",
       "</table>\n"
      ],
      "text/latex": [
       "A matrix: 6 × 12 of type dbl\n",
       "\\begin{tabular}{r|llllllllllll}\n",
       "  & fixed\\_acidity & volatile\\_acidity & citric\\_acid & residual\\_sugar & chlorides & free\\_SO2 & total\\_SO2 & density & pH & sulphates & alcohol & quality\\\\\n",
       "\\hline\n",
       "\tfixed\\_acidity &  1.00 & -0.16 &  0.44 &  0.05 &  0.07 & -0.14 & -0.19 &  0.43 &  0.03 &  0.20 & -0.01 &  0.14\\\\\n",
       "\tvolatile\\_acidity & -0.16 &  1.00 & -0.63 &  0.19 &  0.15 & -0.10 & -0.10 & -0.03 & -0.18 & -0.47 &  0.01 & -0.66\\\\\n",
       "\tcitric\\_acid &  0.44 & -0.63 &  1.00 & -0.02 &  0.12 &  0.03 &  0.06 &  0.38 &  0.03 &  0.48 & -0.02 &  0.50\\\\\n",
       "\tresidual\\_sugar &  0.05 &  0.19 & -0.02 &  1.00 & -0.01 & -0.02 & -0.04 &  0.09 &  0.04 & -0.03 &  0.00 & -0.09\\\\\n",
       "\tchlorides &  0.07 &  0.15 &  0.12 & -0.01 &  1.00 &  0.03 &  0.01 &  0.12 & -0.07 &  0.32 & -0.01 & -0.26\\\\\n",
       "\tfree\\_SO2 & -0.14 & -0.10 &  0.03 & -0.02 &  0.03 &  1.00 &  0.66 & -0.09 &  0.07 &  0.07 &  0.01 &  0.01\\\\\n",
       "\\end{tabular}\n"
      ],
      "text/markdown": [
       "\n",
       "A matrix: 6 × 12 of type dbl\n",
       "\n",
       "| <!--/--> | fixed_acidity | volatile_acidity | citric_acid | residual_sugar | chlorides | free_SO2 | total_SO2 | density | pH | sulphates | alcohol | quality |\n",
       "|---|---|---|---|---|---|---|---|---|---|---|---|---|\n",
       "| fixed_acidity |  1.00 | -0.16 |  0.44 |  0.05 |  0.07 | -0.14 | -0.19 |  0.43 |  0.03 |  0.20 | -0.01 |  0.14 |\n",
       "| volatile_acidity | -0.16 |  1.00 | -0.63 |  0.19 |  0.15 | -0.10 | -0.10 | -0.03 | -0.18 | -0.47 |  0.01 | -0.66 |\n",
       "| citric_acid |  0.44 | -0.63 |  1.00 | -0.02 |  0.12 |  0.03 |  0.06 |  0.38 |  0.03 |  0.48 | -0.02 |  0.50 |\n",
       "| residual_sugar |  0.05 |  0.19 | -0.02 |  1.00 | -0.01 | -0.02 | -0.04 |  0.09 |  0.04 | -0.03 |  0.00 | -0.09 |\n",
       "| chlorides |  0.07 |  0.15 |  0.12 | -0.01 |  1.00 |  0.03 |  0.01 |  0.12 | -0.07 |  0.32 | -0.01 | -0.26 |\n",
       "| free_SO2 | -0.14 | -0.10 |  0.03 | -0.02 |  0.03 |  1.00 |  0.66 | -0.09 |  0.07 |  0.07 |  0.01 |  0.01 |\n",
       "\n"
      ],
      "text/plain": [
       "                 fixed_acidity volatile_acidity citric_acid residual_sugar\n",
       "fixed_acidity     1.00         -0.16             0.44        0.05         \n",
       "volatile_acidity -0.16          1.00            -0.63        0.19         \n",
       "citric_acid       0.44         -0.63             1.00       -0.02         \n",
       "residual_sugar    0.05          0.19            -0.02        1.00         \n",
       "chlorides         0.07          0.15             0.12       -0.01         \n",
       "free_SO2         -0.14         -0.10             0.03       -0.02         \n",
       "                 chlorides free_SO2 total_SO2 density pH    sulphates alcohol\n",
       "fixed_acidity     0.07     -0.14    -0.19      0.43    0.03  0.20     -0.01  \n",
       "volatile_acidity  0.15     -0.10    -0.10     -0.03   -0.18 -0.47      0.01  \n",
       "citric_acid       0.12      0.03     0.06      0.38    0.03  0.48     -0.02  \n",
       "residual_sugar   -0.01     -0.02    -0.04      0.09    0.04 -0.03      0.00  \n",
       "chlorides         1.00      0.03     0.01      0.12   -0.07  0.32     -0.01  \n",
       "free_SO2          0.03      1.00     0.66     -0.09    0.07  0.07      0.01  \n",
       "                 quality\n",
       "fixed_acidity     0.14  \n",
       "volatile_acidity -0.66  \n",
       "citric_acid       0.50  \n",
       "residual_sugar   -0.09  \n",
       "chlorides        -0.26  \n",
       "free_SO2          0.01  "
      ]
     },
     "metadata": {},
     "output_type": "display_data"
    }
   ],
   "source": [
    "#generating a correlation matrix between all numeric variables \n",
    "wine_training_corr <- wine_training|>\n",
    "                     mutate_at(c('quality'), as.numeric)|>\n",
    "                     filter(!is.na(total_SO2))\n",
    "                    \n",
    "winequalitycorr <-cor(wine_training_corr)\n",
    "\n",
    "head(round(winequalitycorr,2))"
   ]
  },
  {
   "cell_type": "code",
   "execution_count": 43,
   "id": "ebcea506-e4fc-4b09-835e-b8a3c846033c",
   "metadata": {},
   "outputs": [
    {
     "ename": "ERROR",
     "evalue": "Error in corrplot(winequalitycorr, method = \"color\", order = \"hclust\", : could not find function \"corrplot\"\n",
     "output_type": "error",
     "traceback": [
      "Error in corrplot(winequalitycorr, method = \"color\", order = \"hclust\", : could not find function \"corrplot\"\nTraceback:\n"
     ]
    }
   ],
   "source": [
    "corrplot(winequalitycorr, method = 'color', order = 'hclust', addCoef.col = 1,  \n",
    "       tl.cex = 1, number.cex = 1, tl.srt= 70)"
   ]
  },
  {
   "cell_type": "code",
   "execution_count": 44,
   "id": "1452b4bb-5443-405b-a907-93ed4896309c",
   "metadata": {},
   "outputs": [
    {
     "ename": "ERROR",
     "evalue": "Error in ggpairs(wine_training_corr): could not find function \"ggpairs\"\n",
     "output_type": "error",
     "traceback": [
      "Error in ggpairs(wine_training_corr): could not find function \"ggpairs\"\nTraceback:\n"
     ]
    }
   ],
   "source": [
    "ggpairs(wine_training_corr) "
   ]
  },
  {
   "cell_type": "code",
   "execution_count": 74,
   "id": "f3f63cb9-57d9-482f-a5a3-971192a8100a",
   "metadata": {},
   "outputs": [],
   "source": [
    "wine_recipe <- recipe(volatile_acidity ~ fixed_acidity + citric_acid + chlorides + total_SO2 + pH + sulphates, data = wine_training) |>\n",
    "  step_scale(all_predictors()) |>\n",
    "  step_center(all_predictors())\n",
    "\n",
    "wine_spec <- nearest_neighbor(weight_func = \"rectangular\", \n",
    "                              neighbors = tune()) |>\n",
    "  set_engine(\"kknn\") |>\n",
    "  set_mode(\"regression\")\n",
    "\n",
    "wine_vfold <- vfold_cv(wine_training, v = 10, strata = volatile_acidity)\n",
    "\n",
    "wine_wkflw <- workflow() |>\n",
    "  add_recipe(wine_recipe) |>\n",
    "  add_model(wine_spec)"
   ]
  },
  {
   "cell_type": "code",
   "execution_count": 75,
   "id": "2463d667-8923-4e00-b4e9-38b0fe5f2aa9",
   "metadata": {},
   "outputs": [
    {
     "data": {
      "text/html": [
       "<table class=\"dataframe\">\n",
       "<caption>A tibble: 1 × 7</caption>\n",
       "<thead>\n",
       "\t<tr><th scope=col>neighbors</th><th scope=col>.metric</th><th scope=col>.estimator</th><th scope=col>mean</th><th scope=col>n</th><th scope=col>std_err</th><th scope=col>.config</th></tr>\n",
       "\t<tr><th scope=col>&lt;dbl&gt;</th><th scope=col>&lt;chr&gt;</th><th scope=col>&lt;chr&gt;</th><th scope=col>&lt;dbl&gt;</th><th scope=col>&lt;int&gt;</th><th scope=col>&lt;dbl&gt;</th><th scope=col>&lt;chr&gt;</th></tr>\n",
       "</thead>\n",
       "<tbody>\n",
       "\t<tr><td>7</td><td>rmse</td><td>standard</td><td>0.1317065</td><td>10</td><td>0.003548957</td><td>Preprocessor1_Model03</td></tr>\n",
       "</tbody>\n",
       "</table>\n"
      ],
      "text/latex": [
       "A tibble: 1 × 7\n",
       "\\begin{tabular}{lllllll}\n",
       " neighbors & .metric & .estimator & mean & n & std\\_err & .config\\\\\n",
       " <dbl> & <chr> & <chr> & <dbl> & <int> & <dbl> & <chr>\\\\\n",
       "\\hline\n",
       "\t 7 & rmse & standard & 0.1317065 & 10 & 0.003548957 & Preprocessor1\\_Model03\\\\\n",
       "\\end{tabular}\n"
      ],
      "text/markdown": [
       "\n",
       "A tibble: 1 × 7\n",
       "\n",
       "| neighbors &lt;dbl&gt; | .metric &lt;chr&gt; | .estimator &lt;chr&gt; | mean &lt;dbl&gt; | n &lt;int&gt; | std_err &lt;dbl&gt; | .config &lt;chr&gt; |\n",
       "|---|---|---|---|---|---|---|\n",
       "| 7 | rmse | standard | 0.1317065 | 10 | 0.003548957 | Preprocessor1_Model03 |\n",
       "\n"
      ],
      "text/plain": [
       "  neighbors .metric .estimator mean      n  std_err     .config              \n",
       "1 7         rmse    standard   0.1317065 10 0.003548957 Preprocessor1_Model03"
      ]
     },
     "metadata": {},
     "output_type": "display_data"
    }
   ],
   "source": [
    "gridvals <- tibble(neighbors = seq(from = 1, to = 50, by = 3))\n",
    "\n",
    "wine_results <- wine_wkflw |>\n",
    "  tune_grid(resamples = wine_vfold, grid = gridvals) |>\n",
    "  collect_metrics() |>\n",
    "  filter(.metric == \"rmse\")\n",
    "\n",
    "wine_min <- wine_results |>\n",
    "  filter(mean == min(mean)) \n",
    "\n",
    "wine_min"
   ]
  },
  {
   "cell_type": "code",
   "execution_count": 76,
   "id": "f0159173-7970-471e-a8a0-8e4bad28c387",
   "metadata": {},
   "outputs": [
    {
     "data": {
      "text/html": [
       "<table class=\"dataframe\">\n",
       "<caption>A tibble: 6 × 2</caption>\n",
       "<thead>\n",
       "\t<tr><th scope=col>.pred</th><th scope=col>volatile_acidity</th></tr>\n",
       "\t<tr><th scope=col>&lt;dbl&gt;</th><th scope=col>&lt;dbl&gt;</th></tr>\n",
       "</thead>\n",
       "<tbody>\n",
       "\t<tr><td>0.6328571</td><td>0.88</td></tr>\n",
       "\t<tr><td>0.6485714</td><td>0.58</td></tr>\n",
       "\t<tr><td>0.4692857</td><td>0.61</td></tr>\n",
       "\t<tr><td>0.6100000</td><td>0.62</td></tr>\n",
       "\t<tr><td>0.5021429</td><td>0.56</td></tr>\n",
       "\t<tr><td>0.5042857</td><td>0.40</td></tr>\n",
       "</tbody>\n",
       "</table>\n"
      ],
      "text/latex": [
       "A tibble: 6 × 2\n",
       "\\begin{tabular}{ll}\n",
       " .pred & volatile\\_acidity\\\\\n",
       " <dbl> & <dbl>\\\\\n",
       "\\hline\n",
       "\t 0.6328571 & 0.88\\\\\n",
       "\t 0.6485714 & 0.58\\\\\n",
       "\t 0.4692857 & 0.61\\\\\n",
       "\t 0.6100000 & 0.62\\\\\n",
       "\t 0.5021429 & 0.56\\\\\n",
       "\t 0.5042857 & 0.40\\\\\n",
       "\\end{tabular}\n"
      ],
      "text/markdown": [
       "\n",
       "A tibble: 6 × 2\n",
       "\n",
       "| .pred &lt;dbl&gt; | volatile_acidity &lt;dbl&gt; |\n",
       "|---|---|\n",
       "| 0.6328571 | 0.88 |\n",
       "| 0.6485714 | 0.58 |\n",
       "| 0.4692857 | 0.61 |\n",
       "| 0.6100000 | 0.62 |\n",
       "| 0.5021429 | 0.56 |\n",
       "| 0.5042857 | 0.40 |\n",
       "\n"
      ],
      "text/plain": [
       "  .pred     volatile_acidity\n",
       "1 0.6328571 0.88            \n",
       "2 0.6485714 0.58            \n",
       "3 0.4692857 0.61            \n",
       "4 0.6100000 0.62            \n",
       "5 0.5021429 0.56            \n",
       "6 0.5042857 0.40            "
      ]
     },
     "metadata": {},
     "output_type": "display_data"
    },
    {
     "data": {
      "text/html": [
       "<table class=\"dataframe\">\n",
       "<caption>A tibble: 1 × 3</caption>\n",
       "<thead>\n",
       "\t<tr><th scope=col>.metric</th><th scope=col>.estimator</th><th scope=col>.estimate</th></tr>\n",
       "\t<tr><th scope=col>&lt;chr&gt;</th><th scope=col>&lt;chr&gt;</th><th scope=col>&lt;dbl&gt;</th></tr>\n",
       "</thead>\n",
       "<tbody>\n",
       "\t<tr><td>rmse</td><td>standard</td><td>0.1380705</td></tr>\n",
       "</tbody>\n",
       "</table>\n"
      ],
      "text/latex": [
       "A tibble: 1 × 3\n",
       "\\begin{tabular}{lll}\n",
       " .metric & .estimator & .estimate\\\\\n",
       " <chr> & <chr> & <dbl>\\\\\n",
       "\\hline\n",
       "\t rmse & standard & 0.1380705\\\\\n",
       "\\end{tabular}\n"
      ],
      "text/markdown": [
       "\n",
       "A tibble: 1 × 3\n",
       "\n",
       "| .metric &lt;chr&gt; | .estimator &lt;chr&gt; | .estimate &lt;dbl&gt; |\n",
       "|---|---|---|\n",
       "| rmse | standard | 0.1380705 |\n",
       "\n"
      ],
      "text/plain": [
       "  .metric .estimator .estimate\n",
       "1 rmse    standard   0.1380705"
      ]
     },
     "metadata": {},
     "output_type": "display_data"
    }
   ],
   "source": [
    "wine_spec <- nearest_neighbor(weight_func = \"rectangular\", \n",
    "                              neighbors = 7) |>\n",
    "  set_engine(\"kknn\") |>\n",
    "  set_mode(\"regression\")\n",
    "\n",
    "knn_mult_fit <- workflow() |>\n",
    "  add_recipe(wine_recipe) |>\n",
    "  add_model(wine_spec) |>\n",
    "  fit(data = wine_training)\n",
    "\n",
    "knn_mult_preds <- knn_mult_fit |>\n",
    "  predict(wine_testing) |>\n",
    " bind_cols(wine_testing) |>\n",
    "    select(.pred, volatile_acidity)\n",
    "\n",
    "head(knn_mult_preds)\n",
    "\n",
    "knn_mult_mets <- metrics(knn_mult_preds, truth = volatile_acidity, estimate = .pred) |>\n",
    "                     filter(.metric == 'rmse')\n",
    "\n",
    "knn_mult_mets"
   ]
  },
  {
   "cell_type": "code",
   "execution_count": 64,
   "id": "073162b0-38d2-4a17-a97d-bb430ade9a3a",
   "metadata": {},
   "outputs": [
    {
     "data": {
      "text/html": [
       "<table class=\"dataframe\">\n",
       "<caption>A tibble: 6 × 1</caption>\n",
       "<thead>\n",
       "\t<tr><th scope=col>difference</th></tr>\n",
       "\t<tr><th scope=col>&lt;dbl&gt;</th></tr>\n",
       "</thead>\n",
       "<tbody>\n",
       "\t<tr><td> 0.17857143</td></tr>\n",
       "\t<tr><td>-0.03428571</td></tr>\n",
       "\t<tr><td>-0.01642857</td></tr>\n",
       "\t<tr><td> 0.10000000</td></tr>\n",
       "\t<tr><td>-0.02142857</td></tr>\n",
       "\t<tr><td>-0.21285714</td></tr>\n",
       "</tbody>\n",
       "</table>\n"
      ],
      "text/latex": [
       "A tibble: 6 × 1\n",
       "\\begin{tabular}{l}\n",
       " difference\\\\\n",
       " <dbl>\\\\\n",
       "\\hline\n",
       "\t  0.17857143\\\\\n",
       "\t -0.03428571\\\\\n",
       "\t -0.01642857\\\\\n",
       "\t  0.10000000\\\\\n",
       "\t -0.02142857\\\\\n",
       "\t -0.21285714\\\\\n",
       "\\end{tabular}\n"
      ],
      "text/markdown": [
       "\n",
       "A tibble: 6 × 1\n",
       "\n",
       "| difference &lt;dbl&gt; |\n",
       "|---|\n",
       "|  0.17857143 |\n",
       "| -0.03428571 |\n",
       "| -0.01642857 |\n",
       "|  0.10000000 |\n",
       "| -0.02142857 |\n",
       "| -0.21285714 |\n",
       "\n"
      ],
      "text/plain": [
       "  difference \n",
       "1  0.17857143\n",
       "2 -0.03428571\n",
       "3 -0.01642857\n",
       "4  0.10000000\n",
       "5 -0.02142857\n",
       "6 -0.21285714"
      ]
     },
     "metadata": {},
     "output_type": "display_data"
    }
   ],
   "source": [
    "prediction_diff <- knn_mult_preds |>\n",
    "                    summarize(difference = (volatile_acidity - .pred))\n",
    "\n",
    "head(prediction_diff)"
   ]
  },
  {
   "cell_type": "code",
   "execution_count": null,
   "id": "535dd9a6-aec0-41c4-8468-d7fe4e2cd12f",
   "metadata": {},
   "outputs": [],
   "source": [
    "#insert rmse table"
   ]
  },
  {
   "cell_type": "code",
   "execution_count": null,
   "id": "32407fe2-7d33-498c-89d3-fd9e06c8da3d",
   "metadata": {},
   "outputs": [],
   "source": []
  }
 ],
 "metadata": {
  "kernelspec": {
   "display_name": "R",
   "language": "R",
   "name": "ir"
  },
  "language_info": {
   "codemirror_mode": "r",
   "file_extension": ".r",
   "mimetype": "text/x-r-source",
   "name": "R",
   "pygments_lexer": "r",
   "version": "4.1.3"
  }
 },
 "nbformat": 4,
 "nbformat_minor": 5
}

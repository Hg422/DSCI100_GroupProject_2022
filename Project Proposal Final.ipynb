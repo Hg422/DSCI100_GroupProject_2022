{
 "cells": [
  {
   "cell_type": "markdown",
   "id": "f5810517-a034-4f59-abc1-b865f086fd60",
   "metadata": {},
   "source": [
    "DSCI 100 Final Project Proposal\n",
    "- Dataset: Wine Quality Dataset found on UCI"
   ]
  },
  {
   "cell_type": "code",
   "execution_count": 2,
   "id": "00bffa73-fd8b-4307-ab42-6649eb19199d",
   "metadata": {},
   "outputs": [
    {
     "name": "stderr",
     "output_type": "stream",
     "text": [
      "Warning message in file(filename, \"r\", encoding = encoding):\n",
      "“cannot open file 'tests.R': No such file or directory”\n"
     ]
    },
    {
     "ename": "ERROR",
     "evalue": "Error in file(filename, \"r\", encoding = encoding): cannot open the connection\n",
     "output_type": "error",
     "traceback": [
      "Error in file(filename, \"r\", encoding = encoding): cannot open the connection\nTraceback:\n",
      "1. source(\"tests.R\")",
      "2. file(filename, \"r\", encoding = encoding)"
     ]
    }
   ],
   "source": [
    "###\n",
    "### Run this cell before continuing.\n",
    "###\n",
    "\n",
    "library(repr)\n",
    "library(tidyverse)\n",
    "library(tidymodels)\n",
    "options(repr.matrix.max.rows = 6)\n",
    "source('tests.R')\n",
    "source(\"cleanup.R\")"
   ]
  },
  {
   "cell_type": "code",
   "execution_count": 3,
   "id": "0681afb3-9887-4aad-b83a-c34971569907",
   "metadata": {},
   "outputs": [
    {
     "name": "stderr",
     "output_type": "stream",
     "text": [
      "\u001b[36mℹ\u001b[39m Using \u001b[34m\u001b[34m\"','\"\u001b[34m\u001b[39m as decimal and \u001b[34m\u001b[34m\"'.'\"\u001b[34m\u001b[39m as grouping mark. Use `read_delim()` for more control.\n",
      "\n",
      "Warning message:\n",
      "“One or more parsing issues, see `problems()` for details”\n",
      "\u001b[1mRows: \u001b[22m\u001b[34m1599\u001b[39m \u001b[1mColumns: \u001b[22m\u001b[34m12\u001b[39m\n",
      "\u001b[36m──\u001b[39m \u001b[1mColumn specification\u001b[22m \u001b[36m────────────────────────────────────────────────────────\u001b[39m\n",
      "\u001b[1mDelimiter:\u001b[22m \";\"\n",
      "\u001b[31mchr\u001b[39m (5): volatile acidity, citric acid, chlorides, density, sulphates\n",
      "\u001b[32mdbl\u001b[39m (2): total sulfur dioxide, quality\n",
      "\n",
      "\u001b[36mℹ\u001b[39m Use `spec()` to retrieve the full column specification for this data.\n",
      "\u001b[36mℹ\u001b[39m Specify the column types or set `show_col_types = FALSE` to quiet this message.\n"
     ]
    },
    {
     "data": {
      "text/html": [
       "<table class=\"dataframe\">\n",
       "<caption>A spec_tbl_df: 1599 × 12</caption>\n",
       "<thead>\n",
       "\t<tr><th scope=col>fixed acidity</th><th scope=col>volatile acidity</th><th scope=col>citric acid</th><th scope=col>residual sugar</th><th scope=col>chlorides</th><th scope=col>free sulfur dioxide</th><th scope=col>total sulfur dioxide</th><th scope=col>density</th><th scope=col>pH</th><th scope=col>sulphates</th><th scope=col>alcohol</th><th scope=col>quality</th></tr>\n",
       "\t<tr><th scope=col>&lt;dbl&gt;</th><th scope=col>&lt;chr&gt;</th><th scope=col>&lt;chr&gt;</th><th scope=col>&lt;dbl&gt;</th><th scope=col>&lt;chr&gt;</th><th scope=col>&lt;dbl&gt;</th><th scope=col>&lt;dbl&gt;</th><th scope=col>&lt;chr&gt;</th><th scope=col>&lt;dbl&gt;</th><th scope=col>&lt;chr&gt;</th><th scope=col>&lt;dbl&gt;</th><th scope=col>&lt;dbl&gt;</th></tr>\n",
       "</thead>\n",
       "<tbody>\n",
       "\t<tr><td>74</td><td>0.7 </td><td>0   </td><td>19</td><td>0.076</td><td>11</td><td>34</td><td>0.9978</td><td>351</td><td>0.56</td><td>94</td><td>5</td></tr>\n",
       "\t<tr><td>78</td><td>0.88</td><td>0   </td><td>26</td><td>0.098</td><td>25</td><td>67</td><td>0.9968</td><td> 32</td><td>0.68</td><td>98</td><td>5</td></tr>\n",
       "\t<tr><td>78</td><td>0.76</td><td>0.04</td><td>23</td><td>0.092</td><td>15</td><td>54</td><td>0.997 </td><td>326</td><td>0.65</td><td>98</td><td>5</td></tr>\n",
       "\t<tr><td>⋮</td><td>⋮</td><td>⋮</td><td>⋮</td><td>⋮</td><td>⋮</td><td>⋮</td><td>⋮</td><td>⋮</td><td>⋮</td><td>⋮</td><td>⋮</td></tr>\n",
       "\t<tr><td>63</td><td>0.51 </td><td>0.13</td><td>23</td><td>0.076</td><td>29</td><td>40</td><td>0.99574</td><td>342</td><td>0.75</td><td> 11</td><td>6</td></tr>\n",
       "\t<tr><td>59</td><td>0.645</td><td>0.12</td><td> 2</td><td>0.075</td><td>32</td><td>44</td><td>0.99547</td><td>357</td><td>0.71</td><td>102</td><td>5</td></tr>\n",
       "\t<tr><td> 6</td><td>0.31 </td><td>0.47</td><td>36</td><td>0.067</td><td>18</td><td>42</td><td>0.99549</td><td>339</td><td>0.66</td><td> 11</td><td>6</td></tr>\n",
       "</tbody>\n",
       "</table>\n"
      ],
      "text/latex": [
       "A spec\\_tbl\\_df: 1599 × 12\n",
       "\\begin{tabular}{llllllllllll}\n",
       " fixed acidity & volatile acidity & citric acid & residual sugar & chlorides & free sulfur dioxide & total sulfur dioxide & density & pH & sulphates & alcohol & quality\\\\\n",
       " <dbl> & <chr> & <chr> & <dbl> & <chr> & <dbl> & <dbl> & <chr> & <dbl> & <chr> & <dbl> & <dbl>\\\\\n",
       "\\hline\n",
       "\t 74 & 0.7  & 0    & 19 & 0.076 & 11 & 34 & 0.9978 & 351 & 0.56 & 94 & 5\\\\\n",
       "\t 78 & 0.88 & 0    & 26 & 0.098 & 25 & 67 & 0.9968 &  32 & 0.68 & 98 & 5\\\\\n",
       "\t 78 & 0.76 & 0.04 & 23 & 0.092 & 15 & 54 & 0.997  & 326 & 0.65 & 98 & 5\\\\\n",
       "\t ⋮ & ⋮ & ⋮ & ⋮ & ⋮ & ⋮ & ⋮ & ⋮ & ⋮ & ⋮ & ⋮ & ⋮\\\\\n",
       "\t 63 & 0.51  & 0.13 & 23 & 0.076 & 29 & 40 & 0.99574 & 342 & 0.75 &  11 & 6\\\\\n",
       "\t 59 & 0.645 & 0.12 &  2 & 0.075 & 32 & 44 & 0.99547 & 357 & 0.71 & 102 & 5\\\\\n",
       "\t  6 & 0.31  & 0.47 & 36 & 0.067 & 18 & 42 & 0.99549 & 339 & 0.66 &  11 & 6\\\\\n",
       "\\end{tabular}\n"
      ],
      "text/markdown": [
       "\n",
       "A spec_tbl_df: 1599 × 12\n",
       "\n",
       "| fixed acidity &lt;dbl&gt; | volatile acidity &lt;chr&gt; | citric acid &lt;chr&gt; | residual sugar &lt;dbl&gt; | chlorides &lt;chr&gt; | free sulfur dioxide &lt;dbl&gt; | total sulfur dioxide &lt;dbl&gt; | density &lt;chr&gt; | pH &lt;dbl&gt; | sulphates &lt;chr&gt; | alcohol &lt;dbl&gt; | quality &lt;dbl&gt; |\n",
       "|---|---|---|---|---|---|---|---|---|---|---|---|\n",
       "| 74 | 0.7  | 0    | 19 | 0.076 | 11 | 34 | 0.9978 | 351 | 0.56 | 94 | 5 |\n",
       "| 78 | 0.88 | 0    | 26 | 0.098 | 25 | 67 | 0.9968 |  32 | 0.68 | 98 | 5 |\n",
       "| 78 | 0.76 | 0.04 | 23 | 0.092 | 15 | 54 | 0.997  | 326 | 0.65 | 98 | 5 |\n",
       "| ⋮ | ⋮ | ⋮ | ⋮ | ⋮ | ⋮ | ⋮ | ⋮ | ⋮ | ⋮ | ⋮ | ⋮ |\n",
       "| 63 | 0.51  | 0.13 | 23 | 0.076 | 29 | 40 | 0.99574 | 342 | 0.75 |  11 | 6 |\n",
       "| 59 | 0.645 | 0.12 |  2 | 0.075 | 32 | 44 | 0.99547 | 357 | 0.71 | 102 | 5 |\n",
       "|  6 | 0.31  | 0.47 | 36 | 0.067 | 18 | 42 | 0.99549 | 339 | 0.66 |  11 | 6 |\n",
       "\n"
      ],
      "text/plain": [
       "     fixed acidity volatile acidity citric acid residual sugar chlorides\n",
       "1    74            0.7              0           19             0.076    \n",
       "2    78            0.88             0           26             0.098    \n",
       "3    78            0.76             0.04        23             0.092    \n",
       "⋮    ⋮             ⋮                ⋮           ⋮              ⋮        \n",
       "1597 63            0.51             0.13        23             0.076    \n",
       "1598 59            0.645            0.12         2             0.075    \n",
       "1599  6            0.31             0.47        36             0.067    \n",
       "     free sulfur dioxide total sulfur dioxide density pH  sulphates alcohol\n",
       "1    11                  34                   0.9978  351 0.56      94     \n",
       "2    25                  67                   0.9968   32 0.68      98     \n",
       "3    15                  54                   0.997   326 0.65      98     \n",
       "⋮    ⋮                   ⋮                    ⋮       ⋮   ⋮         ⋮      \n",
       "1597 29                  40                   0.99574 342 0.75       11    \n",
       "1598 32                  44                   0.99547 357 0.71      102    \n",
       "1599 18                  42                   0.99549 339 0.66       11    \n",
       "     quality\n",
       "1    5      \n",
       "2    5      \n",
       "3    5      \n",
       "⋮    ⋮      \n",
       "1597 6      \n",
       "1598 5      \n",
       "1599 6      "
      ]
     },
     "metadata": {},
     "output_type": "display_data"
    },
    {
     "name": "stderr",
     "output_type": "stream",
     "text": [
      "\u001b[36mℹ\u001b[39m Using \u001b[34m\u001b[34m\"','\"\u001b[34m\u001b[39m as decimal and \u001b[34m\u001b[34m\"'.'\"\u001b[34m\u001b[39m as grouping mark. Use `read_delim()` for more control.\n",
      "\n",
      "\u001b[1mRows: \u001b[22m\u001b[34m4898\u001b[39m \u001b[1mColumns: \u001b[22m\u001b[34m12\u001b[39m\n",
      "\u001b[36m──\u001b[39m \u001b[1mColumn specification\u001b[22m \u001b[36m────────────────────────────────────────────────────────\u001b[39m\n",
      "\u001b[1mDelimiter:\u001b[22m \";\"\n",
      "\u001b[31mchr\u001b[39m (6): volatile acidity, citric acid, residual sugar, chlorides, density, ...\n",
      "\u001b[32mdbl\u001b[39m (1): quality\n",
      "\n",
      "\u001b[36mℹ\u001b[39m Use `spec()` to retrieve the full column specification for this data.\n",
      "\u001b[36mℹ\u001b[39m Specify the column types or set `show_col_types = FALSE` to quiet this message.\n"
     ]
    },
    {
     "data": {
      "text/html": [
       "<table class=\"dataframe\">\n",
       "<caption>A spec_tbl_df: 4898 × 12</caption>\n",
       "<thead>\n",
       "\t<tr><th scope=col>fixed acidity</th><th scope=col>volatile acidity</th><th scope=col>citric acid</th><th scope=col>residual sugar</th><th scope=col>chlorides</th><th scope=col>free sulfur dioxide</th><th scope=col>total sulfur dioxide</th><th scope=col>density</th><th scope=col>pH</th><th scope=col>sulphates</th><th scope=col>alcohol</th><th scope=col>quality</th></tr>\n",
       "\t<tr><th scope=col>&lt;dbl&gt;</th><th scope=col>&lt;chr&gt;</th><th scope=col>&lt;chr&gt;</th><th scope=col>&lt;chr&gt;</th><th scope=col>&lt;chr&gt;</th><th scope=col>&lt;dbl&gt;</th><th scope=col>&lt;dbl&gt;</th><th scope=col>&lt;chr&gt;</th><th scope=col>&lt;dbl&gt;</th><th scope=col>&lt;chr&gt;</th><th scope=col>&lt;dbl&gt;</th><th scope=col>&lt;dbl&gt;</th></tr>\n",
       "</thead>\n",
       "<tbody>\n",
       "\t<tr><td> 7</td><td>0.27</td><td>0.36</td><td>20.7</td><td>0.045</td><td>45</td><td>170</td><td>1.001 </td><td>  3</td><td>0.45</td><td> 88</td><td>6</td></tr>\n",
       "\t<tr><td>63</td><td>0.3 </td><td>0.34</td><td>1.6 </td><td>0.049</td><td>14</td><td>132</td><td>0.994 </td><td> 33</td><td>0.49</td><td> 95</td><td>6</td></tr>\n",
       "\t<tr><td>81</td><td>0.28</td><td>0.4 </td><td>6.9 </td><td>0.05 </td><td>30</td><td> 97</td><td>0.9951</td><td>326</td><td>0.44</td><td>101</td><td>6</td></tr>\n",
       "\t<tr><td>⋮</td><td>⋮</td><td>⋮</td><td>⋮</td><td>⋮</td><td>⋮</td><td>⋮</td><td>⋮</td><td>⋮</td><td>⋮</td><td>⋮</td><td>⋮</td></tr>\n",
       "\t<tr><td>65</td><td>0.24</td><td>0.19</td><td>1.2</td><td>0.041</td><td>30</td><td>111</td><td>0.99254</td><td>299</td><td>0.46</td><td> 94</td><td>6</td></tr>\n",
       "\t<tr><td>55</td><td>0.29</td><td>0.3 </td><td>1.1</td><td>0.022</td><td>20</td><td>110</td><td>0.98869</td><td>334</td><td>0.38</td><td>128</td><td>7</td></tr>\n",
       "\t<tr><td> 6</td><td>0.21</td><td>0.38</td><td>0.8</td><td>0.02 </td><td>22</td><td> 98</td><td>0.98941</td><td>326</td><td>0.32</td><td>118</td><td>6</td></tr>\n",
       "</tbody>\n",
       "</table>\n"
      ],
      "text/latex": [
       "A spec\\_tbl\\_df: 4898 × 12\n",
       "\\begin{tabular}{llllllllllll}\n",
       " fixed acidity & volatile acidity & citric acid & residual sugar & chlorides & free sulfur dioxide & total sulfur dioxide & density & pH & sulphates & alcohol & quality\\\\\n",
       " <dbl> & <chr> & <chr> & <chr> & <chr> & <dbl> & <dbl> & <chr> & <dbl> & <chr> & <dbl> & <dbl>\\\\\n",
       "\\hline\n",
       "\t  7 & 0.27 & 0.36 & 20.7 & 0.045 & 45 & 170 & 1.001  &   3 & 0.45 &  88 & 6\\\\\n",
       "\t 63 & 0.3  & 0.34 & 1.6  & 0.049 & 14 & 132 & 0.994  &  33 & 0.49 &  95 & 6\\\\\n",
       "\t 81 & 0.28 & 0.4  & 6.9  & 0.05  & 30 &  97 & 0.9951 & 326 & 0.44 & 101 & 6\\\\\n",
       "\t ⋮ & ⋮ & ⋮ & ⋮ & ⋮ & ⋮ & ⋮ & ⋮ & ⋮ & ⋮ & ⋮ & ⋮\\\\\n",
       "\t 65 & 0.24 & 0.19 & 1.2 & 0.041 & 30 & 111 & 0.99254 & 299 & 0.46 &  94 & 6\\\\\n",
       "\t 55 & 0.29 & 0.3  & 1.1 & 0.022 & 20 & 110 & 0.98869 & 334 & 0.38 & 128 & 7\\\\\n",
       "\t  6 & 0.21 & 0.38 & 0.8 & 0.02  & 22 &  98 & 0.98941 & 326 & 0.32 & 118 & 6\\\\\n",
       "\\end{tabular}\n"
      ],
      "text/markdown": [
       "\n",
       "A spec_tbl_df: 4898 × 12\n",
       "\n",
       "| fixed acidity &lt;dbl&gt; | volatile acidity &lt;chr&gt; | citric acid &lt;chr&gt; | residual sugar &lt;chr&gt; | chlorides &lt;chr&gt; | free sulfur dioxide &lt;dbl&gt; | total sulfur dioxide &lt;dbl&gt; | density &lt;chr&gt; | pH &lt;dbl&gt; | sulphates &lt;chr&gt; | alcohol &lt;dbl&gt; | quality &lt;dbl&gt; |\n",
       "|---|---|---|---|---|---|---|---|---|---|---|---|\n",
       "|  7 | 0.27 | 0.36 | 20.7 | 0.045 | 45 | 170 | 1.001  |   3 | 0.45 |  88 | 6 |\n",
       "| 63 | 0.3  | 0.34 | 1.6  | 0.049 | 14 | 132 | 0.994  |  33 | 0.49 |  95 | 6 |\n",
       "| 81 | 0.28 | 0.4  | 6.9  | 0.05  | 30 |  97 | 0.9951 | 326 | 0.44 | 101 | 6 |\n",
       "| ⋮ | ⋮ | ⋮ | ⋮ | ⋮ | ⋮ | ⋮ | ⋮ | ⋮ | ⋮ | ⋮ | ⋮ |\n",
       "| 65 | 0.24 | 0.19 | 1.2 | 0.041 | 30 | 111 | 0.99254 | 299 | 0.46 |  94 | 6 |\n",
       "| 55 | 0.29 | 0.3  | 1.1 | 0.022 | 20 | 110 | 0.98869 | 334 | 0.38 | 128 | 7 |\n",
       "|  6 | 0.21 | 0.38 | 0.8 | 0.02  | 22 |  98 | 0.98941 | 326 | 0.32 | 118 | 6 |\n",
       "\n"
      ],
      "text/plain": [
       "     fixed acidity volatile acidity citric acid residual sugar chlorides\n",
       "1     7            0.27             0.36        20.7           0.045    \n",
       "2    63            0.3              0.34        1.6            0.049    \n",
       "3    81            0.28             0.4         6.9            0.05     \n",
       "⋮    ⋮             ⋮                ⋮           ⋮              ⋮        \n",
       "4896 65            0.24             0.19        1.2            0.041    \n",
       "4897 55            0.29             0.3         1.1            0.022    \n",
       "4898  6            0.21             0.38        0.8            0.02     \n",
       "     free sulfur dioxide total sulfur dioxide density pH  sulphates alcohol\n",
       "1    45                  170                  1.001     3 0.45       88    \n",
       "2    14                  132                  0.994    33 0.49       95    \n",
       "3    30                   97                  0.9951  326 0.44      101    \n",
       "⋮    ⋮                   ⋮                    ⋮       ⋮   ⋮         ⋮      \n",
       "4896 30                  111                  0.99254 299 0.46       94    \n",
       "4897 20                  110                  0.98869 334 0.38      128    \n",
       "4898 22                   98                  0.98941 326 0.32      118    \n",
       "     quality\n",
       "1    6      \n",
       "2    6      \n",
       "3    6      \n",
       "⋮    ⋮      \n",
       "4896 6      \n",
       "4897 7      \n",
       "4898 6      "
      ]
     },
     "metadata": {},
     "output_type": "display_data"
    }
   ],
   "source": [
    "winequalityRed <- read_csv2(\"data/winequality-red.csv\")\n",
    "winequalityRed\n",
    "winequalityWhite <- read_csv2(\"data/winequality-white.csv\")\n",
    "winequalityWhite"
   ]
  },
  {
   "cell_type": "code",
   "execution_count": 4,
   "id": "d97ba2df-8b52-43e8-a2e1-83bcbde44e26",
   "metadata": {},
   "outputs": [
    {
     "data": {
      "text/html": [
       "<table class=\"dataframe\">\n",
       "<caption>A tibble: 4898 × 13</caption>\n",
       "<thead>\n",
       "\t<tr><th scope=col>fixed acidity</th><th scope=col>volatile acidity</th><th scope=col>citric acid</th><th scope=col>residual sugar</th><th scope=col>chlorides</th><th scope=col>free sulfur dioxide</th><th scope=col>total sulfur dioxide</th><th scope=col>density</th><th scope=col>pH</th><th scope=col>sulphates</th><th scope=col>alcohol</th><th scope=col>quality</th><th scope=col>type</th></tr>\n",
       "\t<tr><th scope=col>&lt;dbl&gt;</th><th scope=col>&lt;chr&gt;</th><th scope=col>&lt;chr&gt;</th><th scope=col>&lt;chr&gt;</th><th scope=col>&lt;chr&gt;</th><th scope=col>&lt;dbl&gt;</th><th scope=col>&lt;dbl&gt;</th><th scope=col>&lt;chr&gt;</th><th scope=col>&lt;dbl&gt;</th><th scope=col>&lt;chr&gt;</th><th scope=col>&lt;dbl&gt;</th><th scope=col>&lt;dbl&gt;</th><th scope=col>&lt;chr&gt;</th></tr>\n",
       "</thead>\n",
       "<tbody>\n",
       "\t<tr><td> 7</td><td>0.27</td><td>0.36</td><td>20.7</td><td>0.045</td><td>45</td><td>170</td><td>1.001 </td><td>  3</td><td>0.45</td><td> 88</td><td>6</td><td>white</td></tr>\n",
       "\t<tr><td>63</td><td>0.3 </td><td>0.34</td><td>1.6 </td><td>0.049</td><td>14</td><td>132</td><td>0.994 </td><td> 33</td><td>0.49</td><td> 95</td><td>6</td><td>white</td></tr>\n",
       "\t<tr><td>81</td><td>0.28</td><td>0.4 </td><td>6.9 </td><td>0.05 </td><td>30</td><td> 97</td><td>0.9951</td><td>326</td><td>0.44</td><td>101</td><td>6</td><td>white</td></tr>\n",
       "\t<tr><td>⋮</td><td>⋮</td><td>⋮</td><td>⋮</td><td>⋮</td><td>⋮</td><td>⋮</td><td>⋮</td><td>⋮</td><td>⋮</td><td>⋮</td><td>⋮</td><td>⋮</td></tr>\n",
       "\t<tr><td>65</td><td>0.24</td><td>0.19</td><td>1.2</td><td>0.041</td><td>30</td><td>111</td><td>0.99254</td><td>299</td><td>0.46</td><td> 94</td><td>6</td><td>white</td></tr>\n",
       "\t<tr><td>55</td><td>0.29</td><td>0.3 </td><td>1.1</td><td>0.022</td><td>20</td><td>110</td><td>0.98869</td><td>334</td><td>0.38</td><td>128</td><td>7</td><td>white</td></tr>\n",
       "\t<tr><td> 6</td><td>0.21</td><td>0.38</td><td>0.8</td><td>0.02 </td><td>22</td><td> 98</td><td>0.98941</td><td>326</td><td>0.32</td><td>118</td><td>6</td><td>white</td></tr>\n",
       "</tbody>\n",
       "</table>\n"
      ],
      "text/latex": [
       "A tibble: 4898 × 13\n",
       "\\begin{tabular}{lllllllllllll}\n",
       " fixed acidity & volatile acidity & citric acid & residual sugar & chlorides & free sulfur dioxide & total sulfur dioxide & density & pH & sulphates & alcohol & quality & type\\\\\n",
       " <dbl> & <chr> & <chr> & <chr> & <chr> & <dbl> & <dbl> & <chr> & <dbl> & <chr> & <dbl> & <dbl> & <chr>\\\\\n",
       "\\hline\n",
       "\t  7 & 0.27 & 0.36 & 20.7 & 0.045 & 45 & 170 & 1.001  &   3 & 0.45 &  88 & 6 & white\\\\\n",
       "\t 63 & 0.3  & 0.34 & 1.6  & 0.049 & 14 & 132 & 0.994  &  33 & 0.49 &  95 & 6 & white\\\\\n",
       "\t 81 & 0.28 & 0.4  & 6.9  & 0.05  & 30 &  97 & 0.9951 & 326 & 0.44 & 101 & 6 & white\\\\\n",
       "\t ⋮ & ⋮ & ⋮ & ⋮ & ⋮ & ⋮ & ⋮ & ⋮ & ⋮ & ⋮ & ⋮ & ⋮ & ⋮\\\\\n",
       "\t 65 & 0.24 & 0.19 & 1.2 & 0.041 & 30 & 111 & 0.99254 & 299 & 0.46 &  94 & 6 & white\\\\\n",
       "\t 55 & 0.29 & 0.3  & 1.1 & 0.022 & 20 & 110 & 0.98869 & 334 & 0.38 & 128 & 7 & white\\\\\n",
       "\t  6 & 0.21 & 0.38 & 0.8 & 0.02  & 22 &  98 & 0.98941 & 326 & 0.32 & 118 & 6 & white\\\\\n",
       "\\end{tabular}\n"
      ],
      "text/markdown": [
       "\n",
       "A tibble: 4898 × 13\n",
       "\n",
       "| fixed acidity &lt;dbl&gt; | volatile acidity &lt;chr&gt; | citric acid &lt;chr&gt; | residual sugar &lt;chr&gt; | chlorides &lt;chr&gt; | free sulfur dioxide &lt;dbl&gt; | total sulfur dioxide &lt;dbl&gt; | density &lt;chr&gt; | pH &lt;dbl&gt; | sulphates &lt;chr&gt; | alcohol &lt;dbl&gt; | quality &lt;dbl&gt; | type &lt;chr&gt; |\n",
       "|---|---|---|---|---|---|---|---|---|---|---|---|---|\n",
       "|  7 | 0.27 | 0.36 | 20.7 | 0.045 | 45 | 170 | 1.001  |   3 | 0.45 |  88 | 6 | white |\n",
       "| 63 | 0.3  | 0.34 | 1.6  | 0.049 | 14 | 132 | 0.994  |  33 | 0.49 |  95 | 6 | white |\n",
       "| 81 | 0.28 | 0.4  | 6.9  | 0.05  | 30 |  97 | 0.9951 | 326 | 0.44 | 101 | 6 | white |\n",
       "| ⋮ | ⋮ | ⋮ | ⋮ | ⋮ | ⋮ | ⋮ | ⋮ | ⋮ | ⋮ | ⋮ | ⋮ | ⋮ |\n",
       "| 65 | 0.24 | 0.19 | 1.2 | 0.041 | 30 | 111 | 0.99254 | 299 | 0.46 |  94 | 6 | white |\n",
       "| 55 | 0.29 | 0.3  | 1.1 | 0.022 | 20 | 110 | 0.98869 | 334 | 0.38 | 128 | 7 | white |\n",
       "|  6 | 0.21 | 0.38 | 0.8 | 0.02  | 22 |  98 | 0.98941 | 326 | 0.32 | 118 | 6 | white |\n",
       "\n"
      ],
      "text/plain": [
       "     fixed acidity volatile acidity citric acid residual sugar chlorides\n",
       "1     7            0.27             0.36        20.7           0.045    \n",
       "2    63            0.3              0.34        1.6            0.049    \n",
       "3    81            0.28             0.4         6.9            0.05     \n",
       "⋮    ⋮             ⋮                ⋮           ⋮              ⋮        \n",
       "4896 65            0.24             0.19        1.2            0.041    \n",
       "4897 55            0.29             0.3         1.1            0.022    \n",
       "4898  6            0.21             0.38        0.8            0.02     \n",
       "     free sulfur dioxide total sulfur dioxide density pH  sulphates alcohol\n",
       "1    45                  170                  1.001     3 0.45       88    \n",
       "2    14                  132                  0.994    33 0.49       95    \n",
       "3    30                   97                  0.9951  326 0.44      101    \n",
       "⋮    ⋮                   ⋮                    ⋮       ⋮   ⋮         ⋮      \n",
       "4896 30                  111                  0.99254 299 0.46       94    \n",
       "4897 20                  110                  0.98869 334 0.38      128    \n",
       "4898 22                   98                  0.98941 326 0.32      118    \n",
       "     quality type \n",
       "1    6       white\n",
       "2    6       white\n",
       "3    6       white\n",
       "⋮    ⋮       ⋮    \n",
       "4896 6       white\n",
       "4897 7       white\n",
       "4898 6       white"
      ]
     },
     "metadata": {},
     "output_type": "display_data"
    }
   ],
   "source": [
    "winequalityWhite <- mutate(winequalityWhite, type = \"white\")\n",
    "winequalityWhite"
   ]
  },
  {
   "cell_type": "code",
   "execution_count": 5,
   "id": "de95d94b-2170-4be1-a39a-a0f27cce31b5",
   "metadata": {},
   "outputs": [
    {
     "data": {
      "text/html": [
       "<table class=\"dataframe\">\n",
       "<caption>A tibble: 1599 × 13</caption>\n",
       "<thead>\n",
       "\t<tr><th scope=col>fixed acidity</th><th scope=col>volatile acidity</th><th scope=col>citric acid</th><th scope=col>residual sugar</th><th scope=col>chlorides</th><th scope=col>free sulfur dioxide</th><th scope=col>total sulfur dioxide</th><th scope=col>density</th><th scope=col>pH</th><th scope=col>sulphates</th><th scope=col>alcohol</th><th scope=col>quality</th><th scope=col>type</th></tr>\n",
       "\t<tr><th scope=col>&lt;dbl&gt;</th><th scope=col>&lt;chr&gt;</th><th scope=col>&lt;chr&gt;</th><th scope=col>&lt;dbl&gt;</th><th scope=col>&lt;chr&gt;</th><th scope=col>&lt;dbl&gt;</th><th scope=col>&lt;dbl&gt;</th><th scope=col>&lt;chr&gt;</th><th scope=col>&lt;dbl&gt;</th><th scope=col>&lt;chr&gt;</th><th scope=col>&lt;dbl&gt;</th><th scope=col>&lt;dbl&gt;</th><th scope=col>&lt;chr&gt;</th></tr>\n",
       "</thead>\n",
       "<tbody>\n",
       "\t<tr><td>74</td><td>0.7 </td><td>0   </td><td>19</td><td>0.076</td><td>11</td><td>34</td><td>0.9978</td><td>351</td><td>0.56</td><td>94</td><td>5</td><td>red</td></tr>\n",
       "\t<tr><td>78</td><td>0.88</td><td>0   </td><td>26</td><td>0.098</td><td>25</td><td>67</td><td>0.9968</td><td> 32</td><td>0.68</td><td>98</td><td>5</td><td>red</td></tr>\n",
       "\t<tr><td>78</td><td>0.76</td><td>0.04</td><td>23</td><td>0.092</td><td>15</td><td>54</td><td>0.997 </td><td>326</td><td>0.65</td><td>98</td><td>5</td><td>red</td></tr>\n",
       "\t<tr><td>⋮</td><td>⋮</td><td>⋮</td><td>⋮</td><td>⋮</td><td>⋮</td><td>⋮</td><td>⋮</td><td>⋮</td><td>⋮</td><td>⋮</td><td>⋮</td><td>⋮</td></tr>\n",
       "\t<tr><td>63</td><td>0.51 </td><td>0.13</td><td>23</td><td>0.076</td><td>29</td><td>40</td><td>0.99574</td><td>342</td><td>0.75</td><td> 11</td><td>6</td><td>red</td></tr>\n",
       "\t<tr><td>59</td><td>0.645</td><td>0.12</td><td> 2</td><td>0.075</td><td>32</td><td>44</td><td>0.99547</td><td>357</td><td>0.71</td><td>102</td><td>5</td><td>red</td></tr>\n",
       "\t<tr><td> 6</td><td>0.31 </td><td>0.47</td><td>36</td><td>0.067</td><td>18</td><td>42</td><td>0.99549</td><td>339</td><td>0.66</td><td> 11</td><td>6</td><td>red</td></tr>\n",
       "</tbody>\n",
       "</table>\n"
      ],
      "text/latex": [
       "A tibble: 1599 × 13\n",
       "\\begin{tabular}{lllllllllllll}\n",
       " fixed acidity & volatile acidity & citric acid & residual sugar & chlorides & free sulfur dioxide & total sulfur dioxide & density & pH & sulphates & alcohol & quality & type\\\\\n",
       " <dbl> & <chr> & <chr> & <dbl> & <chr> & <dbl> & <dbl> & <chr> & <dbl> & <chr> & <dbl> & <dbl> & <chr>\\\\\n",
       "\\hline\n",
       "\t 74 & 0.7  & 0    & 19 & 0.076 & 11 & 34 & 0.9978 & 351 & 0.56 & 94 & 5 & red\\\\\n",
       "\t 78 & 0.88 & 0    & 26 & 0.098 & 25 & 67 & 0.9968 &  32 & 0.68 & 98 & 5 & red\\\\\n",
       "\t 78 & 0.76 & 0.04 & 23 & 0.092 & 15 & 54 & 0.997  & 326 & 0.65 & 98 & 5 & red\\\\\n",
       "\t ⋮ & ⋮ & ⋮ & ⋮ & ⋮ & ⋮ & ⋮ & ⋮ & ⋮ & ⋮ & ⋮ & ⋮ & ⋮\\\\\n",
       "\t 63 & 0.51  & 0.13 & 23 & 0.076 & 29 & 40 & 0.99574 & 342 & 0.75 &  11 & 6 & red\\\\\n",
       "\t 59 & 0.645 & 0.12 &  2 & 0.075 & 32 & 44 & 0.99547 & 357 & 0.71 & 102 & 5 & red\\\\\n",
       "\t  6 & 0.31  & 0.47 & 36 & 0.067 & 18 & 42 & 0.99549 & 339 & 0.66 &  11 & 6 & red\\\\\n",
       "\\end{tabular}\n"
      ],
      "text/markdown": [
       "\n",
       "A tibble: 1599 × 13\n",
       "\n",
       "| fixed acidity &lt;dbl&gt; | volatile acidity &lt;chr&gt; | citric acid &lt;chr&gt; | residual sugar &lt;dbl&gt; | chlorides &lt;chr&gt; | free sulfur dioxide &lt;dbl&gt; | total sulfur dioxide &lt;dbl&gt; | density &lt;chr&gt; | pH &lt;dbl&gt; | sulphates &lt;chr&gt; | alcohol &lt;dbl&gt; | quality &lt;dbl&gt; | type &lt;chr&gt; |\n",
       "|---|---|---|---|---|---|---|---|---|---|---|---|---|\n",
       "| 74 | 0.7  | 0    | 19 | 0.076 | 11 | 34 | 0.9978 | 351 | 0.56 | 94 | 5 | red |\n",
       "| 78 | 0.88 | 0    | 26 | 0.098 | 25 | 67 | 0.9968 |  32 | 0.68 | 98 | 5 | red |\n",
       "| 78 | 0.76 | 0.04 | 23 | 0.092 | 15 | 54 | 0.997  | 326 | 0.65 | 98 | 5 | red |\n",
       "| ⋮ | ⋮ | ⋮ | ⋮ | ⋮ | ⋮ | ⋮ | ⋮ | ⋮ | ⋮ | ⋮ | ⋮ | ⋮ |\n",
       "| 63 | 0.51  | 0.13 | 23 | 0.076 | 29 | 40 | 0.99574 | 342 | 0.75 |  11 | 6 | red |\n",
       "| 59 | 0.645 | 0.12 |  2 | 0.075 | 32 | 44 | 0.99547 | 357 | 0.71 | 102 | 5 | red |\n",
       "|  6 | 0.31  | 0.47 | 36 | 0.067 | 18 | 42 | 0.99549 | 339 | 0.66 |  11 | 6 | red |\n",
       "\n"
      ],
      "text/plain": [
       "     fixed acidity volatile acidity citric acid residual sugar chlorides\n",
       "1    74            0.7              0           19             0.076    \n",
       "2    78            0.88             0           26             0.098    \n",
       "3    78            0.76             0.04        23             0.092    \n",
       "⋮    ⋮             ⋮                ⋮           ⋮              ⋮        \n",
       "1597 63            0.51             0.13        23             0.076    \n",
       "1598 59            0.645            0.12         2             0.075    \n",
       "1599  6            0.31             0.47        36             0.067    \n",
       "     free sulfur dioxide total sulfur dioxide density pH  sulphates alcohol\n",
       "1    11                  34                   0.9978  351 0.56      94     \n",
       "2    25                  67                   0.9968   32 0.68      98     \n",
       "3    15                  54                   0.997   326 0.65      98     \n",
       "⋮    ⋮                   ⋮                    ⋮       ⋮   ⋮         ⋮      \n",
       "1597 29                  40                   0.99574 342 0.75       11    \n",
       "1598 32                  44                   0.99547 357 0.71      102    \n",
       "1599 18                  42                   0.99549 339 0.66       11    \n",
       "     quality type\n",
       "1    5       red \n",
       "2    5       red \n",
       "3    5       red \n",
       "⋮    ⋮       ⋮   \n",
       "1597 6       red \n",
       "1598 5       red \n",
       "1599 6       red "
      ]
     },
     "metadata": {},
     "output_type": "display_data"
    }
   ],
   "source": [
    "winequalityRed <- mutate(winequalityRed, type = \"red\")\n",
    "winequalityRed"
   ]
  },
  {
   "cell_type": "code",
   "execution_count": 6,
   "id": "137506d0-30d3-4572-beae-51c5485715b8",
   "metadata": {},
   "outputs": [
    {
     "data": {
      "text/html": [
       "<table class=\"dataframe\">\n",
       "<caption>A tibble: 4898 × 13</caption>\n",
       "<thead>\n",
       "\t<tr><th scope=col>fixed acidity</th><th scope=col>volatile acidity</th><th scope=col>citric acid</th><th scope=col>residual sugar</th><th scope=col>chlorides</th><th scope=col>free sulfur dioxide</th><th scope=col>total sulfur dioxide</th><th scope=col>density</th><th scope=col>pH</th><th scope=col>sulphates</th><th scope=col>alcohol</th><th scope=col>quality</th><th scope=col>type</th></tr>\n",
       "\t<tr><th scope=col>&lt;dbl&gt;</th><th scope=col>&lt;chr&gt;</th><th scope=col>&lt;chr&gt;</th><th scope=col>&lt;chr&gt;</th><th scope=col>&lt;chr&gt;</th><th scope=col>&lt;dbl&gt;</th><th scope=col>&lt;dbl&gt;</th><th scope=col>&lt;chr&gt;</th><th scope=col>&lt;dbl&gt;</th><th scope=col>&lt;chr&gt;</th><th scope=col>&lt;dbl&gt;</th><th scope=col>&lt;fct&gt;</th><th scope=col>&lt;chr&gt;</th></tr>\n",
       "</thead>\n",
       "<tbody>\n",
       "\t<tr><td> 7</td><td>0.27</td><td>0.36</td><td>20.7</td><td>0.045</td><td>45</td><td>170</td><td>1.001 </td><td>  3</td><td>0.45</td><td> 88</td><td>6</td><td>white</td></tr>\n",
       "\t<tr><td>63</td><td>0.3 </td><td>0.34</td><td>1.6 </td><td>0.049</td><td>14</td><td>132</td><td>0.994 </td><td> 33</td><td>0.49</td><td> 95</td><td>6</td><td>white</td></tr>\n",
       "\t<tr><td>81</td><td>0.28</td><td>0.4 </td><td>6.9 </td><td>0.05 </td><td>30</td><td> 97</td><td>0.9951</td><td>326</td><td>0.44</td><td>101</td><td>6</td><td>white</td></tr>\n",
       "\t<tr><td>⋮</td><td>⋮</td><td>⋮</td><td>⋮</td><td>⋮</td><td>⋮</td><td>⋮</td><td>⋮</td><td>⋮</td><td>⋮</td><td>⋮</td><td>⋮</td><td>⋮</td></tr>\n",
       "\t<tr><td>65</td><td>0.24</td><td>0.19</td><td>1.2</td><td>0.041</td><td>30</td><td>111</td><td>0.99254</td><td>299</td><td>0.46</td><td> 94</td><td>6</td><td>white</td></tr>\n",
       "\t<tr><td>55</td><td>0.29</td><td>0.3 </td><td>1.1</td><td>0.022</td><td>20</td><td>110</td><td>0.98869</td><td>334</td><td>0.38</td><td>128</td><td>7</td><td>white</td></tr>\n",
       "\t<tr><td> 6</td><td>0.21</td><td>0.38</td><td>0.8</td><td>0.02 </td><td>22</td><td> 98</td><td>0.98941</td><td>326</td><td>0.32</td><td>118</td><td>6</td><td>white</td></tr>\n",
       "</tbody>\n",
       "</table>\n"
      ],
      "text/latex": [
       "A tibble: 4898 × 13\n",
       "\\begin{tabular}{lllllllllllll}\n",
       " fixed acidity & volatile acidity & citric acid & residual sugar & chlorides & free sulfur dioxide & total sulfur dioxide & density & pH & sulphates & alcohol & quality & type\\\\\n",
       " <dbl> & <chr> & <chr> & <chr> & <chr> & <dbl> & <dbl> & <chr> & <dbl> & <chr> & <dbl> & <fct> & <chr>\\\\\n",
       "\\hline\n",
       "\t  7 & 0.27 & 0.36 & 20.7 & 0.045 & 45 & 170 & 1.001  &   3 & 0.45 &  88 & 6 & white\\\\\n",
       "\t 63 & 0.3  & 0.34 & 1.6  & 0.049 & 14 & 132 & 0.994  &  33 & 0.49 &  95 & 6 & white\\\\\n",
       "\t 81 & 0.28 & 0.4  & 6.9  & 0.05  & 30 &  97 & 0.9951 & 326 & 0.44 & 101 & 6 & white\\\\\n",
       "\t ⋮ & ⋮ & ⋮ & ⋮ & ⋮ & ⋮ & ⋮ & ⋮ & ⋮ & ⋮ & ⋮ & ⋮ & ⋮\\\\\n",
       "\t 65 & 0.24 & 0.19 & 1.2 & 0.041 & 30 & 111 & 0.99254 & 299 & 0.46 &  94 & 6 & white\\\\\n",
       "\t 55 & 0.29 & 0.3  & 1.1 & 0.022 & 20 & 110 & 0.98869 & 334 & 0.38 & 128 & 7 & white\\\\\n",
       "\t  6 & 0.21 & 0.38 & 0.8 & 0.02  & 22 &  98 & 0.98941 & 326 & 0.32 & 118 & 6 & white\\\\\n",
       "\\end{tabular}\n"
      ],
      "text/markdown": [
       "\n",
       "A tibble: 4898 × 13\n",
       "\n",
       "| fixed acidity &lt;dbl&gt; | volatile acidity &lt;chr&gt; | citric acid &lt;chr&gt; | residual sugar &lt;chr&gt; | chlorides &lt;chr&gt; | free sulfur dioxide &lt;dbl&gt; | total sulfur dioxide &lt;dbl&gt; | density &lt;chr&gt; | pH &lt;dbl&gt; | sulphates &lt;chr&gt; | alcohol &lt;dbl&gt; | quality &lt;fct&gt; | type &lt;chr&gt; |\n",
       "|---|---|---|---|---|---|---|---|---|---|---|---|---|\n",
       "|  7 | 0.27 | 0.36 | 20.7 | 0.045 | 45 | 170 | 1.001  |   3 | 0.45 |  88 | 6 | white |\n",
       "| 63 | 0.3  | 0.34 | 1.6  | 0.049 | 14 | 132 | 0.994  |  33 | 0.49 |  95 | 6 | white |\n",
       "| 81 | 0.28 | 0.4  | 6.9  | 0.05  | 30 |  97 | 0.9951 | 326 | 0.44 | 101 | 6 | white |\n",
       "| ⋮ | ⋮ | ⋮ | ⋮ | ⋮ | ⋮ | ⋮ | ⋮ | ⋮ | ⋮ | ⋮ | ⋮ | ⋮ |\n",
       "| 65 | 0.24 | 0.19 | 1.2 | 0.041 | 30 | 111 | 0.99254 | 299 | 0.46 |  94 | 6 | white |\n",
       "| 55 | 0.29 | 0.3  | 1.1 | 0.022 | 20 | 110 | 0.98869 | 334 | 0.38 | 128 | 7 | white |\n",
       "|  6 | 0.21 | 0.38 | 0.8 | 0.02  | 22 |  98 | 0.98941 | 326 | 0.32 | 118 | 6 | white |\n",
       "\n"
      ],
      "text/plain": [
       "     fixed acidity volatile acidity citric acid residual sugar chlorides\n",
       "1     7            0.27             0.36        20.7           0.045    \n",
       "2    63            0.3              0.34        1.6            0.049    \n",
       "3    81            0.28             0.4         6.9            0.05     \n",
       "⋮    ⋮             ⋮                ⋮           ⋮              ⋮        \n",
       "4896 65            0.24             0.19        1.2            0.041    \n",
       "4897 55            0.29             0.3         1.1            0.022    \n",
       "4898  6            0.21             0.38        0.8            0.02     \n",
       "     free sulfur dioxide total sulfur dioxide density pH  sulphates alcohol\n",
       "1    45                  170                  1.001     3 0.45       88    \n",
       "2    14                  132                  0.994    33 0.49       95    \n",
       "3    30                   97                  0.9951  326 0.44      101    \n",
       "⋮    ⋮                   ⋮                    ⋮       ⋮   ⋮         ⋮      \n",
       "4896 30                  111                  0.99254 299 0.46       94    \n",
       "4897 20                  110                  0.98869 334 0.38      128    \n",
       "4898 22                   98                  0.98941 326 0.32      118    \n",
       "     quality type \n",
       "1    6       white\n",
       "2    6       white\n",
       "3    6       white\n",
       "⋮    ⋮       ⋮    \n",
       "4896 6       white\n",
       "4897 7       white\n",
       "4898 6       white"
      ]
     },
     "metadata": {},
     "output_type": "display_data"
    }
   ],
   "source": [
    "winequalityWhite <- mutate(winequalityWhite, quality = as.factor(quality))\n",
    "winequalityWhite"
   ]
  },
  {
   "cell_type": "code",
   "execution_count": 7,
   "id": "66d9f14f-b003-4399-a0e5-c4ec8b9fe08a",
   "metadata": {},
   "outputs": [
    {
     "data": {
      "text/html": [
       "<table class=\"dataframe\">\n",
       "<caption>A tibble: 1599 × 13</caption>\n",
       "<thead>\n",
       "\t<tr><th scope=col>fixed acidity</th><th scope=col>volatile acidity</th><th scope=col>citric acid</th><th scope=col>residual sugar</th><th scope=col>chlorides</th><th scope=col>free sulfur dioxide</th><th scope=col>total sulfur dioxide</th><th scope=col>density</th><th scope=col>pH</th><th scope=col>sulphates</th><th scope=col>alcohol</th><th scope=col>quality</th><th scope=col>type</th></tr>\n",
       "\t<tr><th scope=col>&lt;dbl&gt;</th><th scope=col>&lt;chr&gt;</th><th scope=col>&lt;chr&gt;</th><th scope=col>&lt;dbl&gt;</th><th scope=col>&lt;chr&gt;</th><th scope=col>&lt;dbl&gt;</th><th scope=col>&lt;dbl&gt;</th><th scope=col>&lt;chr&gt;</th><th scope=col>&lt;dbl&gt;</th><th scope=col>&lt;chr&gt;</th><th scope=col>&lt;dbl&gt;</th><th scope=col>&lt;fct&gt;</th><th scope=col>&lt;chr&gt;</th></tr>\n",
       "</thead>\n",
       "<tbody>\n",
       "\t<tr><td>74</td><td>0.7 </td><td>0   </td><td>19</td><td>0.076</td><td>11</td><td>34</td><td>0.9978</td><td>351</td><td>0.56</td><td>94</td><td>5</td><td>red</td></tr>\n",
       "\t<tr><td>78</td><td>0.88</td><td>0   </td><td>26</td><td>0.098</td><td>25</td><td>67</td><td>0.9968</td><td> 32</td><td>0.68</td><td>98</td><td>5</td><td>red</td></tr>\n",
       "\t<tr><td>78</td><td>0.76</td><td>0.04</td><td>23</td><td>0.092</td><td>15</td><td>54</td><td>0.997 </td><td>326</td><td>0.65</td><td>98</td><td>5</td><td>red</td></tr>\n",
       "\t<tr><td>⋮</td><td>⋮</td><td>⋮</td><td>⋮</td><td>⋮</td><td>⋮</td><td>⋮</td><td>⋮</td><td>⋮</td><td>⋮</td><td>⋮</td><td>⋮</td><td>⋮</td></tr>\n",
       "\t<tr><td>63</td><td>0.51 </td><td>0.13</td><td>23</td><td>0.076</td><td>29</td><td>40</td><td>0.99574</td><td>342</td><td>0.75</td><td> 11</td><td>6</td><td>red</td></tr>\n",
       "\t<tr><td>59</td><td>0.645</td><td>0.12</td><td> 2</td><td>0.075</td><td>32</td><td>44</td><td>0.99547</td><td>357</td><td>0.71</td><td>102</td><td>5</td><td>red</td></tr>\n",
       "\t<tr><td> 6</td><td>0.31 </td><td>0.47</td><td>36</td><td>0.067</td><td>18</td><td>42</td><td>0.99549</td><td>339</td><td>0.66</td><td> 11</td><td>6</td><td>red</td></tr>\n",
       "</tbody>\n",
       "</table>\n"
      ],
      "text/latex": [
       "A tibble: 1599 × 13\n",
       "\\begin{tabular}{lllllllllllll}\n",
       " fixed acidity & volatile acidity & citric acid & residual sugar & chlorides & free sulfur dioxide & total sulfur dioxide & density & pH & sulphates & alcohol & quality & type\\\\\n",
       " <dbl> & <chr> & <chr> & <dbl> & <chr> & <dbl> & <dbl> & <chr> & <dbl> & <chr> & <dbl> & <fct> & <chr>\\\\\n",
       "\\hline\n",
       "\t 74 & 0.7  & 0    & 19 & 0.076 & 11 & 34 & 0.9978 & 351 & 0.56 & 94 & 5 & red\\\\\n",
       "\t 78 & 0.88 & 0    & 26 & 0.098 & 25 & 67 & 0.9968 &  32 & 0.68 & 98 & 5 & red\\\\\n",
       "\t 78 & 0.76 & 0.04 & 23 & 0.092 & 15 & 54 & 0.997  & 326 & 0.65 & 98 & 5 & red\\\\\n",
       "\t ⋮ & ⋮ & ⋮ & ⋮ & ⋮ & ⋮ & ⋮ & ⋮ & ⋮ & ⋮ & ⋮ & ⋮ & ⋮\\\\\n",
       "\t 63 & 0.51  & 0.13 & 23 & 0.076 & 29 & 40 & 0.99574 & 342 & 0.75 &  11 & 6 & red\\\\\n",
       "\t 59 & 0.645 & 0.12 &  2 & 0.075 & 32 & 44 & 0.99547 & 357 & 0.71 & 102 & 5 & red\\\\\n",
       "\t  6 & 0.31  & 0.47 & 36 & 0.067 & 18 & 42 & 0.99549 & 339 & 0.66 &  11 & 6 & red\\\\\n",
       "\\end{tabular}\n"
      ],
      "text/markdown": [
       "\n",
       "A tibble: 1599 × 13\n",
       "\n",
       "| fixed acidity &lt;dbl&gt; | volatile acidity &lt;chr&gt; | citric acid &lt;chr&gt; | residual sugar &lt;dbl&gt; | chlorides &lt;chr&gt; | free sulfur dioxide &lt;dbl&gt; | total sulfur dioxide &lt;dbl&gt; | density &lt;chr&gt; | pH &lt;dbl&gt; | sulphates &lt;chr&gt; | alcohol &lt;dbl&gt; | quality &lt;fct&gt; | type &lt;chr&gt; |\n",
       "|---|---|---|---|---|---|---|---|---|---|---|---|---|\n",
       "| 74 | 0.7  | 0    | 19 | 0.076 | 11 | 34 | 0.9978 | 351 | 0.56 | 94 | 5 | red |\n",
       "| 78 | 0.88 | 0    | 26 | 0.098 | 25 | 67 | 0.9968 |  32 | 0.68 | 98 | 5 | red |\n",
       "| 78 | 0.76 | 0.04 | 23 | 0.092 | 15 | 54 | 0.997  | 326 | 0.65 | 98 | 5 | red |\n",
       "| ⋮ | ⋮ | ⋮ | ⋮ | ⋮ | ⋮ | ⋮ | ⋮ | ⋮ | ⋮ | ⋮ | ⋮ | ⋮ |\n",
       "| 63 | 0.51  | 0.13 | 23 | 0.076 | 29 | 40 | 0.99574 | 342 | 0.75 |  11 | 6 | red |\n",
       "| 59 | 0.645 | 0.12 |  2 | 0.075 | 32 | 44 | 0.99547 | 357 | 0.71 | 102 | 5 | red |\n",
       "|  6 | 0.31  | 0.47 | 36 | 0.067 | 18 | 42 | 0.99549 | 339 | 0.66 |  11 | 6 | red |\n",
       "\n"
      ],
      "text/plain": [
       "     fixed acidity volatile acidity citric acid residual sugar chlorides\n",
       "1    74            0.7              0           19             0.076    \n",
       "2    78            0.88             0           26             0.098    \n",
       "3    78            0.76             0.04        23             0.092    \n",
       "⋮    ⋮             ⋮                ⋮           ⋮              ⋮        \n",
       "1597 63            0.51             0.13        23             0.076    \n",
       "1598 59            0.645            0.12         2             0.075    \n",
       "1599  6            0.31             0.47        36             0.067    \n",
       "     free sulfur dioxide total sulfur dioxide density pH  sulphates alcohol\n",
       "1    11                  34                   0.9978  351 0.56      94     \n",
       "2    25                  67                   0.9968   32 0.68      98     \n",
       "3    15                  54                   0.997   326 0.65      98     \n",
       "⋮    ⋮                   ⋮                    ⋮       ⋮   ⋮         ⋮      \n",
       "1597 29                  40                   0.99574 342 0.75       11    \n",
       "1598 32                  44                   0.99547 357 0.71      102    \n",
       "1599 18                  42                   0.99549 339 0.66       11    \n",
       "     quality type\n",
       "1    5       red \n",
       "2    5       red \n",
       "3    5       red \n",
       "⋮    ⋮       ⋮   \n",
       "1597 6       red \n",
       "1598 5       red \n",
       "1599 6       red "
      ]
     },
     "metadata": {},
     "output_type": "display_data"
    }
   ],
   "source": [
    "winequalityRed <- mutate(winequalityRed, quality = as.factor(quality))\n",
    "winequalityRed"
   ]
  },
  {
   "cell_type": "code",
   "execution_count": 8,
   "id": "7de7fde1-90c5-4e07-afe9-25b69231ad6e",
   "metadata": {},
   "outputs": [
    {
     "data": {
      "text/html": [
       "<table class=\"dataframe\">\n",
       "<caption>A tibble: 6497 × 13</caption>\n",
       "<thead>\n",
       "\t<tr><th scope=col>fixed acidity</th><th scope=col>volatile acidity</th><th scope=col>citric acid</th><th scope=col>residual sugar</th><th scope=col>chlorides</th><th scope=col>free sulfur dioxide</th><th scope=col>total sulfur dioxide</th><th scope=col>density</th><th scope=col>pH</th><th scope=col>sulphates</th><th scope=col>alcohol</th><th scope=col>quality</th><th scope=col>type</th></tr>\n",
       "\t<tr><th scope=col>&lt;dbl&gt;</th><th scope=col>&lt;chr&gt;</th><th scope=col>&lt;chr&gt;</th><th scope=col>&lt;chr&gt;</th><th scope=col>&lt;chr&gt;</th><th scope=col>&lt;dbl&gt;</th><th scope=col>&lt;dbl&gt;</th><th scope=col>&lt;chr&gt;</th><th scope=col>&lt;dbl&gt;</th><th scope=col>&lt;chr&gt;</th><th scope=col>&lt;dbl&gt;</th><th scope=col>&lt;fct&gt;</th><th scope=col>&lt;chr&gt;</th></tr>\n",
       "</thead>\n",
       "<tbody>\n",
       "\t<tr><td>74</td><td>0.7 </td><td>0   </td><td>19</td><td>0.076</td><td>11</td><td>34</td><td>0.9978</td><td>351</td><td>0.56</td><td>94</td><td>5</td><td>red</td></tr>\n",
       "\t<tr><td>78</td><td>0.88</td><td>0   </td><td>26</td><td>0.098</td><td>25</td><td>67</td><td>0.9968</td><td> 32</td><td>0.68</td><td>98</td><td>5</td><td>red</td></tr>\n",
       "\t<tr><td>78</td><td>0.76</td><td>0.04</td><td>23</td><td>0.092</td><td>15</td><td>54</td><td>0.997 </td><td>326</td><td>0.65</td><td>98</td><td>5</td><td>red</td></tr>\n",
       "\t<tr><td>⋮</td><td>⋮</td><td>⋮</td><td>⋮</td><td>⋮</td><td>⋮</td><td>⋮</td><td>⋮</td><td>⋮</td><td>⋮</td><td>⋮</td><td>⋮</td><td>⋮</td></tr>\n",
       "\t<tr><td>65</td><td>0.24</td><td>0.19</td><td>1.2</td><td>0.041</td><td>30</td><td>111</td><td>0.99254</td><td>299</td><td>0.46</td><td> 94</td><td>6</td><td>white</td></tr>\n",
       "\t<tr><td>55</td><td>0.29</td><td>0.3 </td><td>1.1</td><td>0.022</td><td>20</td><td>110</td><td>0.98869</td><td>334</td><td>0.38</td><td>128</td><td>7</td><td>white</td></tr>\n",
       "\t<tr><td> 6</td><td>0.21</td><td>0.38</td><td>0.8</td><td>0.02 </td><td>22</td><td> 98</td><td>0.98941</td><td>326</td><td>0.32</td><td>118</td><td>6</td><td>white</td></tr>\n",
       "</tbody>\n",
       "</table>\n"
      ],
      "text/latex": [
       "A tibble: 6497 × 13\n",
       "\\begin{tabular}{lllllllllllll}\n",
       " fixed acidity & volatile acidity & citric acid & residual sugar & chlorides & free sulfur dioxide & total sulfur dioxide & density & pH & sulphates & alcohol & quality & type\\\\\n",
       " <dbl> & <chr> & <chr> & <chr> & <chr> & <dbl> & <dbl> & <chr> & <dbl> & <chr> & <dbl> & <fct> & <chr>\\\\\n",
       "\\hline\n",
       "\t 74 & 0.7  & 0    & 19 & 0.076 & 11 & 34 & 0.9978 & 351 & 0.56 & 94 & 5 & red\\\\\n",
       "\t 78 & 0.88 & 0    & 26 & 0.098 & 25 & 67 & 0.9968 &  32 & 0.68 & 98 & 5 & red\\\\\n",
       "\t 78 & 0.76 & 0.04 & 23 & 0.092 & 15 & 54 & 0.997  & 326 & 0.65 & 98 & 5 & red\\\\\n",
       "\t ⋮ & ⋮ & ⋮ & ⋮ & ⋮ & ⋮ & ⋮ & ⋮ & ⋮ & ⋮ & ⋮ & ⋮ & ⋮\\\\\n",
       "\t 65 & 0.24 & 0.19 & 1.2 & 0.041 & 30 & 111 & 0.99254 & 299 & 0.46 &  94 & 6 & white\\\\\n",
       "\t 55 & 0.29 & 0.3  & 1.1 & 0.022 & 20 & 110 & 0.98869 & 334 & 0.38 & 128 & 7 & white\\\\\n",
       "\t  6 & 0.21 & 0.38 & 0.8 & 0.02  & 22 &  98 & 0.98941 & 326 & 0.32 & 118 & 6 & white\\\\\n",
       "\\end{tabular}\n"
      ],
      "text/markdown": [
       "\n",
       "A tibble: 6497 × 13\n",
       "\n",
       "| fixed acidity &lt;dbl&gt; | volatile acidity &lt;chr&gt; | citric acid &lt;chr&gt; | residual sugar &lt;chr&gt; | chlorides &lt;chr&gt; | free sulfur dioxide &lt;dbl&gt; | total sulfur dioxide &lt;dbl&gt; | density &lt;chr&gt; | pH &lt;dbl&gt; | sulphates &lt;chr&gt; | alcohol &lt;dbl&gt; | quality &lt;fct&gt; | type &lt;chr&gt; |\n",
       "|---|---|---|---|---|---|---|---|---|---|---|---|---|\n",
       "| 74 | 0.7  | 0    | 19 | 0.076 | 11 | 34 | 0.9978 | 351 | 0.56 | 94 | 5 | red |\n",
       "| 78 | 0.88 | 0    | 26 | 0.098 | 25 | 67 | 0.9968 |  32 | 0.68 | 98 | 5 | red |\n",
       "| 78 | 0.76 | 0.04 | 23 | 0.092 | 15 | 54 | 0.997  | 326 | 0.65 | 98 | 5 | red |\n",
       "| ⋮ | ⋮ | ⋮ | ⋮ | ⋮ | ⋮ | ⋮ | ⋮ | ⋮ | ⋮ | ⋮ | ⋮ | ⋮ |\n",
       "| 65 | 0.24 | 0.19 | 1.2 | 0.041 | 30 | 111 | 0.99254 | 299 | 0.46 |  94 | 6 | white |\n",
       "| 55 | 0.29 | 0.3  | 1.1 | 0.022 | 20 | 110 | 0.98869 | 334 | 0.38 | 128 | 7 | white |\n",
       "|  6 | 0.21 | 0.38 | 0.8 | 0.02  | 22 |  98 | 0.98941 | 326 | 0.32 | 118 | 6 | white |\n",
       "\n"
      ],
      "text/plain": [
       "     fixed acidity volatile acidity citric acid residual sugar chlorides\n",
       "1    74            0.7              0           19             0.076    \n",
       "2    78            0.88             0           26             0.098    \n",
       "3    78            0.76             0.04        23             0.092    \n",
       "⋮    ⋮             ⋮                ⋮           ⋮              ⋮        \n",
       "6495 65            0.24             0.19        1.2            0.041    \n",
       "6496 55            0.29             0.3         1.1            0.022    \n",
       "6497  6            0.21             0.38        0.8            0.02     \n",
       "     free sulfur dioxide total sulfur dioxide density pH  sulphates alcohol\n",
       "1    11                  34                   0.9978  351 0.56      94     \n",
       "2    25                  67                   0.9968   32 0.68      98     \n",
       "3    15                  54                   0.997   326 0.65      98     \n",
       "⋮    ⋮                   ⋮                    ⋮       ⋮   ⋮         ⋮      \n",
       "6495 30                  111                  0.99254 299 0.46       94    \n",
       "6496 20                  110                  0.98869 334 0.38      128    \n",
       "6497 22                   98                  0.98941 326 0.32      118    \n",
       "     quality type \n",
       "1    5       red  \n",
       "2    5       red  \n",
       "3    5       red  \n",
       "⋮    ⋮       ⋮    \n",
       "6495 6       white\n",
       "6496 7       white\n",
       "6497 6       white"
      ]
     },
     "metadata": {},
     "output_type": "display_data"
    }
   ],
   "source": [
    "completedt <- rbind(winequalityRed, winequalityWhite)\n",
    "completedt"
   ]
  },
  {
   "cell_type": "code",
   "execution_count": 9,
   "id": "973cfb52-2517-40cd-a50a-b191ed6f203e",
   "metadata": {},
   "outputs": [
    {
     "data": {
      "image/png": "[encoded data removed]",
      "text/plain": [
       "plot without title"
      ]
     },
     "metadata": {
      "image/png": {
       "height": 420,
       "width": 420
      }
     },
     "output_type": "display_data"
    }
   ],
   "source": [
    "winequalityWhite_plot <- ggplot(winequalityWhite, aes(x = quality, y = pH)) +\n",
    "  geom_boxplot() +\n",
    " labs(x = \"Quality\", y = \"pH\") \n",
    "\n",
    "winequalityWhite_plot"
   ]
  },
  {
   "cell_type": "code",
   "execution_count": 18,
   "id": "301094bc-6cc6-4e15-b1f7-b16231861977",
   "metadata": {},
   "outputs": [
    {
     "data": {
      "text/html": [
       "<table class=\"dataframe\">\n",
       "<caption>A tibble: 6497 × 13</caption>\n",
       "<thead>\n",
       "\t<tr><th scope=col>fixed_acidity</th><th scope=col>volatile_acidity</th><th scope=col>citric_acid</th><th scope=col>residual_sugar</th><th scope=col>chlorides</th><th scope=col>free_SO2</th><th scope=col>total_SO2</th><th scope=col>density</th><th scope=col>pH</th><th scope=col>sulphates</th><th scope=col>alcohol</th><th scope=col>quality</th><th scope=col>type</th></tr>\n",
       "\t<tr><th scope=col>&lt;dbl&gt;</th><th scope=col>&lt;dbl&gt;</th><th scope=col>&lt;dbl&gt;</th><th scope=col>&lt;dbl&gt;</th><th scope=col>&lt;dbl&gt;</th><th scope=col>&lt;dbl&gt;</th><th scope=col>&lt;dbl&gt;</th><th scope=col>&lt;dbl&gt;</th><th scope=col>&lt;dbl&gt;</th><th scope=col>&lt;dbl&gt;</th><th scope=col>&lt;dbl&gt;</th><th scope=col>&lt;fct&gt;</th><th scope=col>&lt;chr&gt;</th></tr>\n",
       "</thead>\n",
       "<tbody>\n",
       "\t<tr><td>74</td><td>0.70</td><td>0.00</td><td>19</td><td>0.076</td><td>11</td><td>34</td><td>0.9978</td><td>351</td><td>0.56</td><td>94</td><td>5</td><td>red</td></tr>\n",
       "\t<tr><td>78</td><td>0.88</td><td>0.00</td><td>26</td><td>0.098</td><td>25</td><td>67</td><td>0.9968</td><td> 32</td><td>0.68</td><td>98</td><td>5</td><td>red</td></tr>\n",
       "\t<tr><td>78</td><td>0.76</td><td>0.04</td><td>23</td><td>0.092</td><td>15</td><td>54</td><td>0.9970</td><td>326</td><td>0.65</td><td>98</td><td>5</td><td>red</td></tr>\n",
       "\t<tr><td>⋮</td><td>⋮</td><td>⋮</td><td>⋮</td><td>⋮</td><td>⋮</td><td>⋮</td><td>⋮</td><td>⋮</td><td>⋮</td><td>⋮</td><td>⋮</td><td>⋮</td></tr>\n",
       "\t<tr><td>65</td><td>0.24</td><td>0.19</td><td>1.2</td><td>0.041</td><td>30</td><td>111</td><td>0.99254</td><td>299</td><td>0.46</td><td> 94</td><td>6</td><td>white</td></tr>\n",
       "\t<tr><td>55</td><td>0.29</td><td>0.30</td><td>1.1</td><td>0.022</td><td>20</td><td>110</td><td>0.98869</td><td>334</td><td>0.38</td><td>128</td><td>7</td><td>white</td></tr>\n",
       "\t<tr><td> 6</td><td>0.21</td><td>0.38</td><td>0.8</td><td>0.020</td><td>22</td><td> 98</td><td>0.98941</td><td>326</td><td>0.32</td><td>118</td><td>6</td><td>white</td></tr>\n",
       "</tbody>\n",
       "</table>\n"
      ],
      "text/latex": [
       "A tibble: 6497 × 13\n",
       "\\begin{tabular}{lllllllllllll}\n",
       " fixed\\_acidity & volatile\\_acidity & citric\\_acid & residual\\_sugar & chlorides & free\\_SO2 & total\\_SO2 & density & pH & sulphates & alcohol & quality & type\\\\\n",
       " <dbl> & <dbl> & <dbl> & <dbl> & <dbl> & <dbl> & <dbl> & <dbl> & <dbl> & <dbl> & <dbl> & <fct> & <chr>\\\\\n",
       "\\hline\n",
       "\t 74 & 0.70 & 0.00 & 19 & 0.076 & 11 & 34 & 0.9978 & 351 & 0.56 & 94 & 5 & red\\\\\n",
       "\t 78 & 0.88 & 0.00 & 26 & 0.098 & 25 & 67 & 0.9968 &  32 & 0.68 & 98 & 5 & red\\\\\n",
       "\t 78 & 0.76 & 0.04 & 23 & 0.092 & 15 & 54 & 0.9970 & 326 & 0.65 & 98 & 5 & red\\\\\n",
       "\t ⋮ & ⋮ & ⋮ & ⋮ & ⋮ & ⋮ & ⋮ & ⋮ & ⋮ & ⋮ & ⋮ & ⋮ & ⋮\\\\\n",
       "\t 65 & 0.24 & 0.19 & 1.2 & 0.041 & 30 & 111 & 0.99254 & 299 & 0.46 &  94 & 6 & white\\\\\n",
       "\t 55 & 0.29 & 0.30 & 1.1 & 0.022 & 20 & 110 & 0.98869 & 334 & 0.38 & 128 & 7 & white\\\\\n",
       "\t  6 & 0.21 & 0.38 & 0.8 & 0.020 & 22 &  98 & 0.98941 & 326 & 0.32 & 118 & 6 & white\\\\\n",
       "\\end{tabular}\n"
      ],
      "text/markdown": [
       "\n",
       "A tibble: 6497 × 13\n",
       "\n",
       "| fixed_acidity &lt;dbl&gt; | volatile_acidity &lt;dbl&gt; | citric_acid &lt;dbl&gt; | residual_sugar &lt;dbl&gt; | chlorides &lt;dbl&gt; | free_SO2 &lt;dbl&gt; | total_SO2 &lt;dbl&gt; | density &lt;dbl&gt; | pH &lt;dbl&gt; | sulphates &lt;dbl&gt; | alcohol &lt;dbl&gt; | quality &lt;fct&gt; | type &lt;chr&gt; |\n",
       "|---|---|---|---|---|---|---|---|---|---|---|---|---|\n",
       "| 74 | 0.70 | 0.00 | 19 | 0.076 | 11 | 34 | 0.9978 | 351 | 0.56 | 94 | 5 | red |\n",
       "| 78 | 0.88 | 0.00 | 26 | 0.098 | 25 | 67 | 0.9968 |  32 | 0.68 | 98 | 5 | red |\n",
       "| 78 | 0.76 | 0.04 | 23 | 0.092 | 15 | 54 | 0.9970 | 326 | 0.65 | 98 | 5 | red |\n",
       "| ⋮ | ⋮ | ⋮ | ⋮ | ⋮ | ⋮ | ⋮ | ⋮ | ⋮ | ⋮ | ⋮ | ⋮ | ⋮ |\n",
       "| 65 | 0.24 | 0.19 | 1.2 | 0.041 | 30 | 111 | 0.99254 | 299 | 0.46 |  94 | 6 | white |\n",
       "| 55 | 0.29 | 0.30 | 1.1 | 0.022 | 20 | 110 | 0.98869 | 334 | 0.38 | 128 | 7 | white |\n",
       "|  6 | 0.21 | 0.38 | 0.8 | 0.020 | 22 |  98 | 0.98941 | 326 | 0.32 | 118 | 6 | white |\n",
       "\n"
      ],
      "text/plain": [
       "     fixed_acidity volatile_acidity citric_acid residual_sugar chlorides\n",
       "1    74            0.70             0.00        19             0.076    \n",
       "2    78            0.88             0.00        26             0.098    \n",
       "3    78            0.76             0.04        23             0.092    \n",
       "⋮    ⋮             ⋮                ⋮           ⋮              ⋮        \n",
       "6495 65            0.24             0.19        1.2            0.041    \n",
       "6496 55            0.29             0.30        1.1            0.022    \n",
       "6497  6            0.21             0.38        0.8            0.020    \n",
       "     free_SO2 total_SO2 density pH  sulphates alcohol quality type \n",
       "1    11       34        0.9978  351 0.56      94      5       red  \n",
       "2    25       67        0.9968   32 0.68      98      5       red  \n",
       "3    15       54        0.9970  326 0.65      98      5       red  \n",
       "⋮    ⋮        ⋮         ⋮       ⋮   ⋮         ⋮       ⋮       ⋮    \n",
       "6495 30       111       0.99254 299 0.46       94     6       white\n",
       "6496 20       110       0.98869 334 0.38      128     7       white\n",
       "6497 22        98       0.98941 326 0.32      118     6       white"
      ]
     },
     "metadata": {},
     "output_type": "display_data"
    }
   ],
   "source": [
    "completedt <- rbind(winequalityRed, winequalityWhite) |>\n",
    "              setNames(c(\"fixed_acidity\",\n",
    "                         \"volatile_acidity\",\n",
    "                         \"citric_acid\",\n",
    "                         \"residual_sugar\",\n",
    "                         \"chlorides\",\n",
    "                         \"free_SO2\",\n",
    "                         \"total_SO2\",\n",
    "                         \"density\",\n",
    "                         \"pH\",\n",
    "                         \"sulphates\",\n",
    "                         \"alcohol\",\n",
    "                         \"quality\",\n",
    "                         \"type\"))\n",
    "completedt$volatile_acidity <- as.numeric(completedt$volatile_acidity)\n",
    "completedt$citric_acid <- as.numeric(completedt$citric_acid)\n",
    "completedt$residual_sugar <- as.numeric(completedt$residual_sugar)\n",
    "completedt$chlorides <- as.numeric(completedt$chlorides)\n",
    "completedt$density <- as.numeric(completedt$density)\n",
    "completedt$sulphates <- as.numeric(completedt$sulphates)\n",
    "completedt"
   ]
  },
  {
   "cell_type": "code",
   "execution_count": 51,
   "id": "511bf9bf-0d17-4721-bfef-885758c0650b",
   "metadata": {},
   "outputs": [
    {
     "data": {
      "image/png": "[encoded data removed]",
      "text/plain": [
       "plot without title"
      ]
     },
     "metadata": {
      "image/png": {
       "height": 420,
       "width": 420
      }
     },
     "output_type": "display_data"
    }
   ],
   "source": [
    "plotpH <- ggplot(winequalityWhite, aes(x = pH)) +\n",
    "  geom_histogram(bins=30) +\n",
    " labs(x = \"pH\")\n",
    "\n",
    "plotpH\n",
    "\n"
   ]
  },
  {
   "cell_type": "code",
   "execution_count": 52,
   "id": "42fb31d0-2137-41a4-a9aa-3213a6e9942b",
   "metadata": {},
   "outputs": [
    {
     "data": {
      "image/png": "[encoded data removed]",
      "text/plain": [
       "plot without title"
      ]
     },
     "metadata": {
      "image/png": {
       "height": 420,
       "width": 420
      }
     },
     "output_type": "display_data"
    }
   ],
   "source": [
    "plotfixed_acidity <- ggplot(completedt, aes(x = fixed_acidity)) +\n",
    "  geom_histogram(bins=30) +\n",
    " labs(x = \"fixed acidity\")\n",
    "\n",
    "plotfixed_acidity\n"
   ]
  },
  {
   "cell_type": "code",
   "execution_count": null,
   "id": "333a3a1d-d0d9-48c9-859e-aa33d0bf7d5a",
   "metadata": {},
   "outputs": [],
   "source": [
    " "
   ]
  },
  {
   "cell_type": "code",
   "execution_count": 53,
   "id": "daed1d71-79f7-4093-82bf-89a523827312",
   "metadata": {},
   "outputs": [
    {
     "data": {
      "image/png": "[encoded data removed]",
      "text/plain": [
       "plot without title"
      ]
     },
     "metadata": {
      "image/png": {
       "height": 420,
       "width": 420
      }
     },
     "output_type": "display_data"
    }
   ],
   "source": [
    "\n",
    "plotresidual_sugar <- ggplot(completedt, aes(x = residual_sugar)) +\n",
    "  geom_histogram(bins=30) +\n",
    " labs(x = \"residual sugar\")\n",
    "\n",
    "plotresidual_sugar"
   ]
  },
  {
   "cell_type": "code",
   "execution_count": 54,
   "id": "a3a84998-4254-496a-9977-9d17d6816a61",
   "metadata": {},
   "outputs": [
    {
     "data": {
      "image/png": "[encoded data removed]",
      "text/plain": [
       "plot without title"
      ]
     },
     "metadata": {
      "image/png": {
       "height": 420,
       "width": 420
      }
     },
     "output_type": "display_data"
    }
   ],
   "source": [
    "plotvolatile_acidity <- ggplot(completedt, aes(x = volatile_acidity)) +\n",
    "  geom_histogram(bins=30) +\n",
    " labs(x = \"volatile acidity\")\n",
    "\n",
    "plotvolatile_acidity"
   ]
  },
  {
   "cell_type": "code",
   "execution_count": 55,
   "id": "c0d4dbcf-7c6a-4b01-9f72-731419ccb04c",
   "metadata": {},
   "outputs": [
    {
     "data": {
      "image/png": "[encoded data removed]",
      "text/plain": [
       "plot without title"
      ]
     },
     "metadata": {
      "image/png": {
       "height": 420,
       "width": 420
      }
     },
     "output_type": "display_data"
    }
   ],
   "source": [
    "plotcitric_acid <- ggplot(completedt, aes(x = citric_acid)) +\n",
    "  geom_histogram(bins=30) +\n",
    " labs(x = \"volatile acidity\")\n",
    "\n",
    "plotcitric_acid"
   ]
  },
  {
   "cell_type": "code",
   "execution_count": 56,
   "id": "e1e8f328-0d24-400a-97af-311514898c0c",
   "metadata": {},
   "outputs": [
    {
     "data": {
      "image/png": "[encoded data removed]",
      "text/plain": [
       "plot without title"
      ]
     },
     "metadata": {
      "image/png": {
       "height": 420,
       "width": 420
      }
     },
     "output_type": "display_data"
    }
   ],
   "source": [
    "White_plotchlorides <- ggplot(completedt, aes(x = chlorides)) +\n",
    "  geom_histogram(bins=30) +\n",
    " labs(x = \"chlorides\")\n",
    "\n",
    "White_plotchlorides"
   ]
  },
  {
   "cell_type": "code",
   "execution_count": 57,
   "id": "94253374-5a54-4cd0-9191-8867cdcf1ff9",
   "metadata": {},
   "outputs": [
    {
     "data": {
      "image/png": "[encoded data removed]",
      "text/plain": [
       "plot without title"
      ]
     },
     "metadata": {
      "image/png": {
       "height": 420,
       "width": 420
      }
     },
     "output_type": "display_data"
    }
   ],
   "source": [
    "plotfree_SO2 <- ggplot(completedt, aes(x = free_SO2)) +\n",
    "  geom_histogram(bins=30) +\n",
    " labs(x = \"free_SO2\")\n",
    "\n",
    "plotfree_SO2"
   ]
  },
  {
   "cell_type": "code",
   "execution_count": 58,
   "id": "d94beb83-f4d9-463b-a7d5-c8c20b42a565",
   "metadata": {},
   "outputs": [
    {
     "name": "stderr",
     "output_type": "stream",
     "text": [
      "Warning message:\n",
      "“Removed 2 rows containing non-finite values (stat_bin).”\n"
     ]
    },
    {
     "data": {
      "image/png": "[encoded data removed]",
      "text/plain": [
       "plot without title"
      ]
     },
     "metadata": {
      "image/png": {
       "height": 420,
       "width": 420
      }
     },
     "output_type": "display_data"
    }
   ],
   "source": [
    "plottotal_SO2 <- ggplot(completedt, aes(x = total_SO2)) +\n",
    "  geom_histogram(bins=30) +\n",
    " labs(x = \"total SO2\")\n",
    "\n",
    "plottotal_SO2"
   ]
  },
  {
   "cell_type": "code",
   "execution_count": 59,
   "id": "e9485b46-392f-45e8-ba94-9c21220477b9",
   "metadata": {},
   "outputs": [
    {
     "data": {
      "image/png": "[encoded data removed]",
      "text/plain": [
       "plot without title"
      ]
     },
     "metadata": {
      "image/png": {
       "height": 420,
       "width": 420
      }
     },
     "output_type": "display_data"
    }
   ],
   "source": [
    "plotdensity <- ggplot(completedt, aes(x = density)) +\n",
    "  geom_histogram(bins=30) +\n",
    " labs(x = \"density\")\n",
    "plotdensity"
   ]
  },
  {
   "cell_type": "code",
   "execution_count": 60,
   "id": "884d6d9e-1fd9-416a-88d3-854b38d1574d",
   "metadata": {},
   "outputs": [
    {
     "data": {
      "image/png": "[encoded data removed]",
      "text/plain": [
       "plot without title"
      ]
     },
     "metadata": {
      "image/png": {
       "height": 420,
       "width": 420
      }
     },
     "output_type": "display_data"
    }
   ],
   "source": [
    "plotsulphates <- ggplot(completedt, aes(x = sulphates)) +\n",
    "  geom_histogram(bins=30) +\n",
    " labs(x = \"Sulphates\")\n",
    "\n",
    "plotsulphates"
   ]
  },
  {
   "cell_type": "code",
   "execution_count": 61,
   "id": "8839477f-ad0c-4b80-8441-632da2c9d3ae",
   "metadata": {},
   "outputs": [
    {
     "data": {
      "image/png": "[encoded data removed]",
      "text/plain": [
       "plot without title"
      ]
     },
     "metadata": {
      "image/png": {
       "height": 420,
       "width": 420
      }
     },
     "output_type": "display_data"
    }
   ],
   "source": [
    "plotalcohol <- ggplot(completedt, aes(x = alcohol)) +\n",
    "  geom_histogram(bins=30) +\n",
    " labs(x = \"alcohol\")\n",
    "\n",
    "plotalcohol"
   ]
  },
  {
   "cell_type": "code",
   "execution_count": null,
   "id": "05671576-6f91-4a1b-9a54-576bfc53685f",
   "metadata": {},
   "outputs": [],
   "source": []
  }
 ],
 "metadata": {
  "kernelspec": {
   "display_name": "R",
   "language": "R",
   "name": "ir"
  },
  "language_info": {
   "codemirror_mode": "r",
   "file_extension": ".r",
   "mimetype": "text/x-r-source",
   "name": "R",
   "pygments_lexer": "r",
   "version": "4.1.3"
  }
 },
 "nbformat": 4,
 "nbformat_minor": 5
}

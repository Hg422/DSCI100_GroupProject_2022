{
 "cells": [
  {
   "cell_type": "markdown",
   "id": "f5810517-a034-4f59-abc1-b865f086fd60",
   "metadata": {},
   "source": [
    "# DSCI 100 Final Project Proposal\n",
    "- Group 100: Heidi, Tasneem, Gina, and Emily\n",
    "- Dataset: Wine Quality Dataset found on UCI\n",
    "\n",
    "## Introduction\n",
    "\n",
    "\n",
    "## Dataset\n",
    "Wine Quality Dataset\n",
    "- Source: https://archive.ics.uci.edu/ml/datasets/wine+quality\n",
    "- 12 variables in total\n",
    "- Length: 4898\n",
    "- 2 sub datasets, one for red wine and one for white\n",
    "\n",
    "12 numerical variables\n",
    "1. Fixed Acidity\n",
    "2. Volatile Acidity\n",
    "3. Citric acid\n",
    "4. Residual sugar\n",
    "5. Chlorides\n",
    "6. Free sulfur dioxide\n",
    "7. Total sulfur dioxide\n",
    "8. Density\n",
    "9. pH\n",
    "10. Sulphates\n",
    "11. Alcohol\n",
    "12. Quality (score between 0 and 10)\n",
    "\n",
    "## Research Question\n"
   ]
  },
  {
   "cell_type": "code",
   "execution_count": 1,
   "id": "00bffa73-fd8b-4307-ab42-6649eb19199d",
   "metadata": {},
   "outputs": [
    {
     "name": "stderr",
     "output_type": "stream",
     "text": [
      "── \u001b[1mAttaching packages\u001b[22m ─────────────────────────────────────── tidyverse 1.3.1 ──\n",
      "\n",
      "\u001b[32m✔\u001b[39m \u001b[34mggplot2\u001b[39m 3.3.6     \u001b[32m✔\u001b[39m \u001b[34mpurrr  \u001b[39m 0.3.4\n",
      "\u001b[32m✔\u001b[39m \u001b[34mtibble \u001b[39m 3.1.7     \u001b[32m✔\u001b[39m \u001b[34mdplyr  \u001b[39m 1.0.9\n",
      "\u001b[32m✔\u001b[39m \u001b[34mtidyr  \u001b[39m 1.2.0     \u001b[32m✔\u001b[39m \u001b[34mstringr\u001b[39m 1.4.0\n",
      "\u001b[32m✔\u001b[39m \u001b[34mreadr  \u001b[39m 2.1.2     \u001b[32m✔\u001b[39m \u001b[34mforcats\u001b[39m 0.5.1\n",
      "\n",
      "── \u001b[1mConflicts\u001b[22m ────────────────────────────────────────── tidyverse_conflicts() ──\n",
      "\u001b[31m✖\u001b[39m \u001b[34mdplyr\u001b[39m::\u001b[32mfilter()\u001b[39m masks \u001b[34mstats\u001b[39m::filter()\n",
      "\u001b[31m✖\u001b[39m \u001b[34mdplyr\u001b[39m::\u001b[32mlag()\u001b[39m    masks \u001b[34mstats\u001b[39m::lag()\n",
      "\n",
      "── \u001b[1mAttaching packages\u001b[22m ────────────────────────────────────── tidymodels 1.0.0 ──\n",
      "\n",
      "\u001b[32m✔\u001b[39m \u001b[34mbroom       \u001b[39m 1.0.0     \u001b[32m✔\u001b[39m \u001b[34mrsample     \u001b[39m 1.0.0\n",
      "\u001b[32m✔\u001b[39m \u001b[34mdials       \u001b[39m 1.0.0     \u001b[32m✔\u001b[39m \u001b[34mtune        \u001b[39m 1.0.0\n",
      "\u001b[32m✔\u001b[39m \u001b[34minfer       \u001b[39m 1.0.2     \u001b[32m✔\u001b[39m \u001b[34mworkflows   \u001b[39m 1.0.0\n",
      "\u001b[32m✔\u001b[39m \u001b[34mmodeldata   \u001b[39m 1.0.0     \u001b[32m✔\u001b[39m \u001b[34mworkflowsets\u001b[39m 1.0.0\n",
      "\u001b[32m✔\u001b[39m \u001b[34mparsnip     \u001b[39m 1.0.0     \u001b[32m✔\u001b[39m \u001b[34myardstick   \u001b[39m 1.0.0\n",
      "\u001b[32m✔\u001b[39m \u001b[34mrecipes     \u001b[39m 1.0.1     \n",
      "\n",
      "── \u001b[1mConflicts\u001b[22m ───────────────────────────────────────── tidymodels_conflicts() ──\n",
      "\u001b[31m✖\u001b[39m \u001b[34mscales\u001b[39m::\u001b[32mdiscard()\u001b[39m masks \u001b[34mpurrr\u001b[39m::discard()\n",
      "\u001b[31m✖\u001b[39m \u001b[34mdplyr\u001b[39m::\u001b[32mfilter()\u001b[39m   masks \u001b[34mstats\u001b[39m::filter()\n",
      "\u001b[31m✖\u001b[39m \u001b[34mrecipes\u001b[39m::\u001b[32mfixed()\u001b[39m  masks \u001b[34mstringr\u001b[39m::fixed()\n",
      "\u001b[31m✖\u001b[39m \u001b[34mdplyr\u001b[39m::\u001b[32mlag()\u001b[39m      masks \u001b[34mstats\u001b[39m::lag()\n",
      "\u001b[31m✖\u001b[39m \u001b[34myardstick\u001b[39m::\u001b[32mspec()\u001b[39m masks \u001b[34mreadr\u001b[39m::spec()\n",
      "\u001b[31m✖\u001b[39m \u001b[34mrecipes\u001b[39m::\u001b[32mstep()\u001b[39m   masks \u001b[34mstats\u001b[39m::step()\n",
      "\u001b[34m•\u001b[39m Search for functions across packages at \u001b[32mhttps://www.tidymodels.org/find/\u001b[39m\n",
      "\n",
      "Updating HTML index of packages in '.Library'\n",
      "\n",
      "Making 'packages.html' ...\n",
      " done\n",
      "\n",
      "Registered S3 method overwritten by 'GGally':\n",
      "  method from   \n",
      "  +.gg   ggplot2\n",
      "\n"
     ]
    }
   ],
   "source": [
    "###\n",
    "### Run this cell before continuing.\n",
    "###\n",
    "\n",
    "library(repr)\n",
    "library(tidyverse)\n",
    "library(tidymodels)\n",
    "options(repr.matrix.max.rows = 6)\n",
    "install.packages(\"GGally\")\n",
    "library(GGally)"
   ]
  },
  {
   "cell_type": "code",
   "execution_count": 2,
   "id": "0681afb3-9887-4aad-b83a-c34971569907",
   "metadata": {},
   "outputs": [
    {
     "name": "stderr",
     "output_type": "stream",
     "text": [
      "\u001b[36mℹ\u001b[39m Using \u001b[34m\u001b[34m\"','\"\u001b[34m\u001b[39m as decimal and \u001b[34m\u001b[34m\"'.'\"\u001b[34m\u001b[39m as grouping mark. Use `read_delim()` for more control.\n",
      "\n",
      "Warning message:\n",
      "“One or more parsing issues, see `problems()` for details”\n",
      "\u001b[1mRows: \u001b[22m\u001b[34m1599\u001b[39m \u001b[1mColumns: \u001b[22m\u001b[34m12\u001b[39m\n",
      "\u001b[36m──\u001b[39m \u001b[1mColumn specification\u001b[22m \u001b[36m────────────────────────────────────────────────────────\u001b[39m\n",
      "\u001b[1mDelimiter:\u001b[22m \";\"\n",
      "\u001b[31mchr\u001b[39m (5): volatile acidity, citric acid, chlorides, density, sulphates\n",
      "\u001b[32mdbl\u001b[39m (2): total sulfur dioxide, quality\n",
      "\n",
      "\u001b[36mℹ\u001b[39m Use `spec()` to retrieve the full column specification for this data.\n",
      "\u001b[36mℹ\u001b[39m Specify the column types or set `show_col_types = FALSE` to quiet this message.\n"
     ]
    },
    {
     "data": {
      "text/html": [
       "<table class=\"dataframe\">\n",
       "<caption>A spec_tbl_df: 1599 × 12</caption>\n",
       "<thead>\n",
       "\t<tr><th scope=col>fixed acidity</th><th scope=col>volatile acidity</th><th scope=col>citric acid</th><th scope=col>residual sugar</th><th scope=col>chlorides</th><th scope=col>free sulfur dioxide</th><th scope=col>total sulfur dioxide</th><th scope=col>density</th><th scope=col>pH</th><th scope=col>sulphates</th><th scope=col>alcohol</th><th scope=col>quality</th></tr>\n",
       "\t<tr><th scope=col>&lt;dbl&gt;</th><th scope=col>&lt;chr&gt;</th><th scope=col>&lt;chr&gt;</th><th scope=col>&lt;dbl&gt;</th><th scope=col>&lt;chr&gt;</th><th scope=col>&lt;dbl&gt;</th><th scope=col>&lt;dbl&gt;</th><th scope=col>&lt;chr&gt;</th><th scope=col>&lt;dbl&gt;</th><th scope=col>&lt;chr&gt;</th><th scope=col>&lt;dbl&gt;</th><th scope=col>&lt;dbl&gt;</th></tr>\n",
       "</thead>\n",
       "<tbody>\n",
       "\t<tr><td>74</td><td>0.7 </td><td>0   </td><td>19</td><td>0.076</td><td>11</td><td>34</td><td>0.9978</td><td>351</td><td>0.56</td><td>94</td><td>5</td></tr>\n",
       "\t<tr><td>78</td><td>0.88</td><td>0   </td><td>26</td><td>0.098</td><td>25</td><td>67</td><td>0.9968</td><td> 32</td><td>0.68</td><td>98</td><td>5</td></tr>\n",
       "\t<tr><td>78</td><td>0.76</td><td>0.04</td><td>23</td><td>0.092</td><td>15</td><td>54</td><td>0.997 </td><td>326</td><td>0.65</td><td>98</td><td>5</td></tr>\n",
       "\t<tr><td>⋮</td><td>⋮</td><td>⋮</td><td>⋮</td><td>⋮</td><td>⋮</td><td>⋮</td><td>⋮</td><td>⋮</td><td>⋮</td><td>⋮</td><td>⋮</td></tr>\n",
       "\t<tr><td>63</td><td>0.51 </td><td>0.13</td><td>23</td><td>0.076</td><td>29</td><td>40</td><td>0.99574</td><td>342</td><td>0.75</td><td> 11</td><td>6</td></tr>\n",
       "\t<tr><td>59</td><td>0.645</td><td>0.12</td><td> 2</td><td>0.075</td><td>32</td><td>44</td><td>0.99547</td><td>357</td><td>0.71</td><td>102</td><td>5</td></tr>\n",
       "\t<tr><td> 6</td><td>0.31 </td><td>0.47</td><td>36</td><td>0.067</td><td>18</td><td>42</td><td>0.99549</td><td>339</td><td>0.66</td><td> 11</td><td>6</td></tr>\n",
       "</tbody>\n",
       "</table>\n"
      ],
      "text/latex": [
       "A spec\\_tbl\\_df: 1599 × 12\n",
       "\\begin{tabular}{llllllllllll}\n",
       " fixed acidity & volatile acidity & citric acid & residual sugar & chlorides & free sulfur dioxide & total sulfur dioxide & density & pH & sulphates & alcohol & quality\\\\\n",
       " <dbl> & <chr> & <chr> & <dbl> & <chr> & <dbl> & <dbl> & <chr> & <dbl> & <chr> & <dbl> & <dbl>\\\\\n",
       "\\hline\n",
       "\t 74 & 0.7  & 0    & 19 & 0.076 & 11 & 34 & 0.9978 & 351 & 0.56 & 94 & 5\\\\\n",
       "\t 78 & 0.88 & 0    & 26 & 0.098 & 25 & 67 & 0.9968 &  32 & 0.68 & 98 & 5\\\\\n",
       "\t 78 & 0.76 & 0.04 & 23 & 0.092 & 15 & 54 & 0.997  & 326 & 0.65 & 98 & 5\\\\\n",
       "\t ⋮ & ⋮ & ⋮ & ⋮ & ⋮ & ⋮ & ⋮ & ⋮ & ⋮ & ⋮ & ⋮ & ⋮\\\\\n",
       "\t 63 & 0.51  & 0.13 & 23 & 0.076 & 29 & 40 & 0.99574 & 342 & 0.75 &  11 & 6\\\\\n",
       "\t 59 & 0.645 & 0.12 &  2 & 0.075 & 32 & 44 & 0.99547 & 357 & 0.71 & 102 & 5\\\\\n",
       "\t  6 & 0.31  & 0.47 & 36 & 0.067 & 18 & 42 & 0.99549 & 339 & 0.66 &  11 & 6\\\\\n",
       "\\end{tabular}\n"
      ],
      "text/markdown": [
       "\n",
       "A spec_tbl_df: 1599 × 12\n",
       "\n",
       "| fixed acidity &lt;dbl&gt; | volatile acidity &lt;chr&gt; | citric acid &lt;chr&gt; | residual sugar &lt;dbl&gt; | chlorides &lt;chr&gt; | free sulfur dioxide &lt;dbl&gt; | total sulfur dioxide &lt;dbl&gt; | density &lt;chr&gt; | pH &lt;dbl&gt; | sulphates &lt;chr&gt; | alcohol &lt;dbl&gt; | quality &lt;dbl&gt; |\n",
       "|---|---|---|---|---|---|---|---|---|---|---|---|\n",
       "| 74 | 0.7  | 0    | 19 | 0.076 | 11 | 34 | 0.9978 | 351 | 0.56 | 94 | 5 |\n",
       "| 78 | 0.88 | 0    | 26 | 0.098 | 25 | 67 | 0.9968 |  32 | 0.68 | 98 | 5 |\n",
       "| 78 | 0.76 | 0.04 | 23 | 0.092 | 15 | 54 | 0.997  | 326 | 0.65 | 98 | 5 |\n",
       "| ⋮ | ⋮ | ⋮ | ⋮ | ⋮ | ⋮ | ⋮ | ⋮ | ⋮ | ⋮ | ⋮ | ⋮ |\n",
       "| 63 | 0.51  | 0.13 | 23 | 0.076 | 29 | 40 | 0.99574 | 342 | 0.75 |  11 | 6 |\n",
       "| 59 | 0.645 | 0.12 |  2 | 0.075 | 32 | 44 | 0.99547 | 357 | 0.71 | 102 | 5 |\n",
       "|  6 | 0.31  | 0.47 | 36 | 0.067 | 18 | 42 | 0.99549 | 339 | 0.66 |  11 | 6 |\n",
       "\n"
      ],
      "text/plain": [
       "     fixed acidity volatile acidity citric acid residual sugar chlorides\n",
       "1    74            0.7              0           19             0.076    \n",
       "2    78            0.88             0           26             0.098    \n",
       "3    78            0.76             0.04        23             0.092    \n",
       "⋮    ⋮             ⋮                ⋮           ⋮              ⋮        \n",
       "1597 63            0.51             0.13        23             0.076    \n",
       "1598 59            0.645            0.12         2             0.075    \n",
       "1599  6            0.31             0.47        36             0.067    \n",
       "     free sulfur dioxide total sulfur dioxide density pH  sulphates alcohol\n",
       "1    11                  34                   0.9978  351 0.56      94     \n",
       "2    25                  67                   0.9968   32 0.68      98     \n",
       "3    15                  54                   0.997   326 0.65      98     \n",
       "⋮    ⋮                   ⋮                    ⋮       ⋮   ⋮         ⋮      \n",
       "1597 29                  40                   0.99574 342 0.75       11    \n",
       "1598 32                  44                   0.99547 357 0.71      102    \n",
       "1599 18                  42                   0.99549 339 0.66       11    \n",
       "     quality\n",
       "1    5      \n",
       "2    5      \n",
       "3    5      \n",
       "⋮    ⋮      \n",
       "1597 6      \n",
       "1598 5      \n",
       "1599 6      "
      ]
     },
     "metadata": {},
     "output_type": "display_data"
    },
    {
     "name": "stderr",
     "output_type": "stream",
     "text": [
      "\u001b[36mℹ\u001b[39m Using \u001b[34m\u001b[34m\"','\"\u001b[34m\u001b[39m as decimal and \u001b[34m\u001b[34m\"'.'\"\u001b[34m\u001b[39m as grouping mark. Use `read_delim()` for more control.\n",
      "\n",
      "\u001b[1mRows: \u001b[22m\u001b[34m4898\u001b[39m \u001b[1mColumns: \u001b[22m\u001b[34m12\u001b[39m\n",
      "\u001b[36m──\u001b[39m \u001b[1mColumn specification\u001b[22m \u001b[36m────────────────────────────────────────────────────────\u001b[39m\n",
      "\u001b[1mDelimiter:\u001b[22m \";\"\n",
      "\u001b[31mchr\u001b[39m (6): volatile acidity, citric acid, residual sugar, chlorides, density, ...\n",
      "\u001b[32mdbl\u001b[39m (1): quality\n",
      "\n",
      "\u001b[36mℹ\u001b[39m Use `spec()` to retrieve the full column specification for this data.\n",
      "\u001b[36mℹ\u001b[39m Specify the column types or set `show_col_types = FALSE` to quiet this message.\n"
     ]
    },
    {
     "data": {
      "text/html": [
       "<table class=\"dataframe\">\n",
       "<caption>A spec_tbl_df: 4898 × 12</caption>\n",
       "<thead>\n",
       "\t<tr><th scope=col>fixed acidity</th><th scope=col>volatile acidity</th><th scope=col>citric acid</th><th scope=col>residual sugar</th><th scope=col>chlorides</th><th scope=col>free sulfur dioxide</th><th scope=col>total sulfur dioxide</th><th scope=col>density</th><th scope=col>pH</th><th scope=col>sulphates</th><th scope=col>alcohol</th><th scope=col>quality</th></tr>\n",
       "\t<tr><th scope=col>&lt;dbl&gt;</th><th scope=col>&lt;chr&gt;</th><th scope=col>&lt;chr&gt;</th><th scope=col>&lt;chr&gt;</th><th scope=col>&lt;chr&gt;</th><th scope=col>&lt;dbl&gt;</th><th scope=col>&lt;dbl&gt;</th><th scope=col>&lt;chr&gt;</th><th scope=col>&lt;dbl&gt;</th><th scope=col>&lt;chr&gt;</th><th scope=col>&lt;dbl&gt;</th><th scope=col>&lt;dbl&gt;</th></tr>\n",
       "</thead>\n",
       "<tbody>\n",
       "\t<tr><td> 7</td><td>0.27</td><td>0.36</td><td>20.7</td><td>0.045</td><td>45</td><td>170</td><td>1.001 </td><td>  3</td><td>0.45</td><td> 88</td><td>6</td></tr>\n",
       "\t<tr><td>63</td><td>0.3 </td><td>0.34</td><td>1.6 </td><td>0.049</td><td>14</td><td>132</td><td>0.994 </td><td> 33</td><td>0.49</td><td> 95</td><td>6</td></tr>\n",
       "\t<tr><td>81</td><td>0.28</td><td>0.4 </td><td>6.9 </td><td>0.05 </td><td>30</td><td> 97</td><td>0.9951</td><td>326</td><td>0.44</td><td>101</td><td>6</td></tr>\n",
       "\t<tr><td>⋮</td><td>⋮</td><td>⋮</td><td>⋮</td><td>⋮</td><td>⋮</td><td>⋮</td><td>⋮</td><td>⋮</td><td>⋮</td><td>⋮</td><td>⋮</td></tr>\n",
       "\t<tr><td>65</td><td>0.24</td><td>0.19</td><td>1.2</td><td>0.041</td><td>30</td><td>111</td><td>0.99254</td><td>299</td><td>0.46</td><td> 94</td><td>6</td></tr>\n",
       "\t<tr><td>55</td><td>0.29</td><td>0.3 </td><td>1.1</td><td>0.022</td><td>20</td><td>110</td><td>0.98869</td><td>334</td><td>0.38</td><td>128</td><td>7</td></tr>\n",
       "\t<tr><td> 6</td><td>0.21</td><td>0.38</td><td>0.8</td><td>0.02 </td><td>22</td><td> 98</td><td>0.98941</td><td>326</td><td>0.32</td><td>118</td><td>6</td></tr>\n",
       "</tbody>\n",
       "</table>\n"
      ],
      "text/latex": [
       "A spec\\_tbl\\_df: 4898 × 12\n",
       "\\begin{tabular}{llllllllllll}\n",
       " fixed acidity & volatile acidity & citric acid & residual sugar & chlorides & free sulfur dioxide & total sulfur dioxide & density & pH & sulphates & alcohol & quality\\\\\n",
       " <dbl> & <chr> & <chr> & <chr> & <chr> & <dbl> & <dbl> & <chr> & <dbl> & <chr> & <dbl> & <dbl>\\\\\n",
       "\\hline\n",
       "\t  7 & 0.27 & 0.36 & 20.7 & 0.045 & 45 & 170 & 1.001  &   3 & 0.45 &  88 & 6\\\\\n",
       "\t 63 & 0.3  & 0.34 & 1.6  & 0.049 & 14 & 132 & 0.994  &  33 & 0.49 &  95 & 6\\\\\n",
       "\t 81 & 0.28 & 0.4  & 6.9  & 0.05  & 30 &  97 & 0.9951 & 326 & 0.44 & 101 & 6\\\\\n",
       "\t ⋮ & ⋮ & ⋮ & ⋮ & ⋮ & ⋮ & ⋮ & ⋮ & ⋮ & ⋮ & ⋮ & ⋮\\\\\n",
       "\t 65 & 0.24 & 0.19 & 1.2 & 0.041 & 30 & 111 & 0.99254 & 299 & 0.46 &  94 & 6\\\\\n",
       "\t 55 & 0.29 & 0.3  & 1.1 & 0.022 & 20 & 110 & 0.98869 & 334 & 0.38 & 128 & 7\\\\\n",
       "\t  6 & 0.21 & 0.38 & 0.8 & 0.02  & 22 &  98 & 0.98941 & 326 & 0.32 & 118 & 6\\\\\n",
       "\\end{tabular}\n"
      ],
      "text/markdown": [
       "\n",
       "A spec_tbl_df: 4898 × 12\n",
       "\n",
       "| fixed acidity &lt;dbl&gt; | volatile acidity &lt;chr&gt; | citric acid &lt;chr&gt; | residual sugar &lt;chr&gt; | chlorides &lt;chr&gt; | free sulfur dioxide &lt;dbl&gt; | total sulfur dioxide &lt;dbl&gt; | density &lt;chr&gt; | pH &lt;dbl&gt; | sulphates &lt;chr&gt; | alcohol &lt;dbl&gt; | quality &lt;dbl&gt; |\n",
       "|---|---|---|---|---|---|---|---|---|---|---|---|\n",
       "|  7 | 0.27 | 0.36 | 20.7 | 0.045 | 45 | 170 | 1.001  |   3 | 0.45 |  88 | 6 |\n",
       "| 63 | 0.3  | 0.34 | 1.6  | 0.049 | 14 | 132 | 0.994  |  33 | 0.49 |  95 | 6 |\n",
       "| 81 | 0.28 | 0.4  | 6.9  | 0.05  | 30 |  97 | 0.9951 | 326 | 0.44 | 101 | 6 |\n",
       "| ⋮ | ⋮ | ⋮ | ⋮ | ⋮ | ⋮ | ⋮ | ⋮ | ⋮ | ⋮ | ⋮ | ⋮ |\n",
       "| 65 | 0.24 | 0.19 | 1.2 | 0.041 | 30 | 111 | 0.99254 | 299 | 0.46 |  94 | 6 |\n",
       "| 55 | 0.29 | 0.3  | 1.1 | 0.022 | 20 | 110 | 0.98869 | 334 | 0.38 | 128 | 7 |\n",
       "|  6 | 0.21 | 0.38 | 0.8 | 0.02  | 22 |  98 | 0.98941 | 326 | 0.32 | 118 | 6 |\n",
       "\n"
      ],
      "text/plain": [
       "     fixed acidity volatile acidity citric acid residual sugar chlorides\n",
       "1     7            0.27             0.36        20.7           0.045    \n",
       "2    63            0.3              0.34        1.6            0.049    \n",
       "3    81            0.28             0.4         6.9            0.05     \n",
       "⋮    ⋮             ⋮                ⋮           ⋮              ⋮        \n",
       "4896 65            0.24             0.19        1.2            0.041    \n",
       "4897 55            0.29             0.3         1.1            0.022    \n",
       "4898  6            0.21             0.38        0.8            0.02     \n",
       "     free sulfur dioxide total sulfur dioxide density pH  sulphates alcohol\n",
       "1    45                  170                  1.001     3 0.45       88    \n",
       "2    14                  132                  0.994    33 0.49       95    \n",
       "3    30                   97                  0.9951  326 0.44      101    \n",
       "⋮    ⋮                   ⋮                    ⋮       ⋮   ⋮         ⋮      \n",
       "4896 30                  111                  0.99254 299 0.46       94    \n",
       "4897 20                  110                  0.98869 334 0.38      128    \n",
       "4898 22                   98                  0.98941 326 0.32      118    \n",
       "     quality\n",
       "1    6      \n",
       "2    6      \n",
       "3    6      \n",
       "⋮    ⋮      \n",
       "4896 6      \n",
       "4897 7      \n",
       "4898 6      "
      ]
     },
     "metadata": {},
     "output_type": "display_data"
    }
   ],
   "source": [
    "winequalityRed <- read_csv2(\"data/winequality-red.csv\")\n",
    "winequalityRed\n",
    "winequalityWhite <- read_csv2(\"data/winequality-white.csv\")\n",
    "winequalityWhite"
   ]
  },
  {
   "cell_type": "code",
   "execution_count": 3,
   "id": "d97ba2df-8b52-43e8-a2e1-83bcbde44e26",
   "metadata": {},
   "outputs": [],
   "source": [
    "winequalityWhite <- mutate(winequalityWhite, type = \"white\")\n",
    "# winequalityWhite"
   ]
  },
  {
   "cell_type": "code",
   "execution_count": 4,
   "id": "de95d94b-2170-4be1-a39a-a0f27cce31b5",
   "metadata": {},
   "outputs": [],
   "source": [
    "winequalityRed <- mutate(winequalityRed, type = \"red\")\n",
    "# winequalityRed"
   ]
  },
  {
   "cell_type": "code",
   "execution_count": 5,
   "id": "137506d0-30d3-4572-beae-51c5485715b8",
   "metadata": {},
   "outputs": [
    {
     "data": {
      "text/html": [
       "<table class=\"dataframe\">\n",
       "<caption>A tibble: 4898 × 13</caption>\n",
       "<thead>\n",
       "\t<tr><th scope=col>fixed acidity</th><th scope=col>volatile acidity</th><th scope=col>citric acid</th><th scope=col>residual sugar</th><th scope=col>chlorides</th><th scope=col>free sulfur dioxide</th><th scope=col>total sulfur dioxide</th><th scope=col>density</th><th scope=col>pH</th><th scope=col>sulphates</th><th scope=col>alcohol</th><th scope=col>quality</th><th scope=col>type</th></tr>\n",
       "\t<tr><th scope=col>&lt;dbl&gt;</th><th scope=col>&lt;chr&gt;</th><th scope=col>&lt;chr&gt;</th><th scope=col>&lt;chr&gt;</th><th scope=col>&lt;chr&gt;</th><th scope=col>&lt;dbl&gt;</th><th scope=col>&lt;dbl&gt;</th><th scope=col>&lt;chr&gt;</th><th scope=col>&lt;dbl&gt;</th><th scope=col>&lt;chr&gt;</th><th scope=col>&lt;dbl&gt;</th><th scope=col>&lt;fct&gt;</th><th scope=col>&lt;chr&gt;</th></tr>\n",
       "</thead>\n",
       "<tbody>\n",
       "\t<tr><td> 7</td><td>0.27</td><td>0.36</td><td>20.7</td><td>0.045</td><td>45</td><td>170</td><td>1.001 </td><td>  3</td><td>0.45</td><td> 88</td><td>6</td><td>white</td></tr>\n",
       "\t<tr><td>63</td><td>0.3 </td><td>0.34</td><td>1.6 </td><td>0.049</td><td>14</td><td>132</td><td>0.994 </td><td> 33</td><td>0.49</td><td> 95</td><td>6</td><td>white</td></tr>\n",
       "\t<tr><td>81</td><td>0.28</td><td>0.4 </td><td>6.9 </td><td>0.05 </td><td>30</td><td> 97</td><td>0.9951</td><td>326</td><td>0.44</td><td>101</td><td>6</td><td>white</td></tr>\n",
       "\t<tr><td>⋮</td><td>⋮</td><td>⋮</td><td>⋮</td><td>⋮</td><td>⋮</td><td>⋮</td><td>⋮</td><td>⋮</td><td>⋮</td><td>⋮</td><td>⋮</td><td>⋮</td></tr>\n",
       "\t<tr><td>65</td><td>0.24</td><td>0.19</td><td>1.2</td><td>0.041</td><td>30</td><td>111</td><td>0.99254</td><td>299</td><td>0.46</td><td> 94</td><td>6</td><td>white</td></tr>\n",
       "\t<tr><td>55</td><td>0.29</td><td>0.3 </td><td>1.1</td><td>0.022</td><td>20</td><td>110</td><td>0.98869</td><td>334</td><td>0.38</td><td>128</td><td>7</td><td>white</td></tr>\n",
       "\t<tr><td> 6</td><td>0.21</td><td>0.38</td><td>0.8</td><td>0.02 </td><td>22</td><td> 98</td><td>0.98941</td><td>326</td><td>0.32</td><td>118</td><td>6</td><td>white</td></tr>\n",
       "</tbody>\n",
       "</table>\n"
      ],
      "text/latex": [
       "A tibble: 4898 × 13\n",
       "\\begin{tabular}{lllllllllllll}\n",
       " fixed acidity & volatile acidity & citric acid & residual sugar & chlorides & free sulfur dioxide & total sulfur dioxide & density & pH & sulphates & alcohol & quality & type\\\\\n",
       " <dbl> & <chr> & <chr> & <chr> & <chr> & <dbl> & <dbl> & <chr> & <dbl> & <chr> & <dbl> & <fct> & <chr>\\\\\n",
       "\\hline\n",
       "\t  7 & 0.27 & 0.36 & 20.7 & 0.045 & 45 & 170 & 1.001  &   3 & 0.45 &  88 & 6 & white\\\\\n",
       "\t 63 & 0.3  & 0.34 & 1.6  & 0.049 & 14 & 132 & 0.994  &  33 & 0.49 &  95 & 6 & white\\\\\n",
       "\t 81 & 0.28 & 0.4  & 6.9  & 0.05  & 30 &  97 & 0.9951 & 326 & 0.44 & 101 & 6 & white\\\\\n",
       "\t ⋮ & ⋮ & ⋮ & ⋮ & ⋮ & ⋮ & ⋮ & ⋮ & ⋮ & ⋮ & ⋮ & ⋮ & ⋮\\\\\n",
       "\t 65 & 0.24 & 0.19 & 1.2 & 0.041 & 30 & 111 & 0.99254 & 299 & 0.46 &  94 & 6 & white\\\\\n",
       "\t 55 & 0.29 & 0.3  & 1.1 & 0.022 & 20 & 110 & 0.98869 & 334 & 0.38 & 128 & 7 & white\\\\\n",
       "\t  6 & 0.21 & 0.38 & 0.8 & 0.02  & 22 &  98 & 0.98941 & 326 & 0.32 & 118 & 6 & white\\\\\n",
       "\\end{tabular}\n"
      ],
      "text/markdown": [
       "\n",
       "A tibble: 4898 × 13\n",
       "\n",
       "| fixed acidity &lt;dbl&gt; | volatile acidity &lt;chr&gt; | citric acid &lt;chr&gt; | residual sugar &lt;chr&gt; | chlorides &lt;chr&gt; | free sulfur dioxide &lt;dbl&gt; | total sulfur dioxide &lt;dbl&gt; | density &lt;chr&gt; | pH &lt;dbl&gt; | sulphates &lt;chr&gt; | alcohol &lt;dbl&gt; | quality &lt;fct&gt; | type &lt;chr&gt; |\n",
       "|---|---|---|---|---|---|---|---|---|---|---|---|---|\n",
       "|  7 | 0.27 | 0.36 | 20.7 | 0.045 | 45 | 170 | 1.001  |   3 | 0.45 |  88 | 6 | white |\n",
       "| 63 | 0.3  | 0.34 | 1.6  | 0.049 | 14 | 132 | 0.994  |  33 | 0.49 |  95 | 6 | white |\n",
       "| 81 | 0.28 | 0.4  | 6.9  | 0.05  | 30 |  97 | 0.9951 | 326 | 0.44 | 101 | 6 | white |\n",
       "| ⋮ | ⋮ | ⋮ | ⋮ | ⋮ | ⋮ | ⋮ | ⋮ | ⋮ | ⋮ | ⋮ | ⋮ | ⋮ |\n",
       "| 65 | 0.24 | 0.19 | 1.2 | 0.041 | 30 | 111 | 0.99254 | 299 | 0.46 |  94 | 6 | white |\n",
       "| 55 | 0.29 | 0.3  | 1.1 | 0.022 | 20 | 110 | 0.98869 | 334 | 0.38 | 128 | 7 | white |\n",
       "|  6 | 0.21 | 0.38 | 0.8 | 0.02  | 22 |  98 | 0.98941 | 326 | 0.32 | 118 | 6 | white |\n",
       "\n"
      ],
      "text/plain": [
       "     fixed acidity volatile acidity citric acid residual sugar chlorides\n",
       "1     7            0.27             0.36        20.7           0.045    \n",
       "2    63            0.3              0.34        1.6            0.049    \n",
       "3    81            0.28             0.4         6.9            0.05     \n",
       "⋮    ⋮             ⋮                ⋮           ⋮              ⋮        \n",
       "4896 65            0.24             0.19        1.2            0.041    \n",
       "4897 55            0.29             0.3         1.1            0.022    \n",
       "4898  6            0.21             0.38        0.8            0.02     \n",
       "     free sulfur dioxide total sulfur dioxide density pH  sulphates alcohol\n",
       "1    45                  170                  1.001     3 0.45       88    \n",
       "2    14                  132                  0.994    33 0.49       95    \n",
       "3    30                   97                  0.9951  326 0.44      101    \n",
       "⋮    ⋮                   ⋮                    ⋮       ⋮   ⋮         ⋮      \n",
       "4896 30                  111                  0.99254 299 0.46       94    \n",
       "4897 20                  110                  0.98869 334 0.38      128    \n",
       "4898 22                   98                  0.98941 326 0.32      118    \n",
       "     quality type \n",
       "1    6       white\n",
       "2    6       white\n",
       "3    6       white\n",
       "⋮    ⋮       ⋮    \n",
       "4896 6       white\n",
       "4897 7       white\n",
       "4898 6       white"
      ]
     },
     "metadata": {},
     "output_type": "display_data"
    }
   ],
   "source": [
    "winequalityWhite <- mutate(winequalityWhite, quality = as.factor(quality))\n",
    "winequalityWhite"
   ]
  },
  {
   "cell_type": "code",
   "execution_count": 6,
   "id": "66d9f14f-b003-4399-a0e5-c4ec8b9fe08a",
   "metadata": {},
   "outputs": [
    {
     "data": {
      "text/html": [
       "<table class=\"dataframe\">\n",
       "<caption>A tibble: 1599 × 13</caption>\n",
       "<thead>\n",
       "\t<tr><th scope=col>fixed acidity</th><th scope=col>volatile acidity</th><th scope=col>citric acid</th><th scope=col>residual sugar</th><th scope=col>chlorides</th><th scope=col>free sulfur dioxide</th><th scope=col>total sulfur dioxide</th><th scope=col>density</th><th scope=col>pH</th><th scope=col>sulphates</th><th scope=col>alcohol</th><th scope=col>quality</th><th scope=col>type</th></tr>\n",
       "\t<tr><th scope=col>&lt;dbl&gt;</th><th scope=col>&lt;chr&gt;</th><th scope=col>&lt;chr&gt;</th><th scope=col>&lt;dbl&gt;</th><th scope=col>&lt;chr&gt;</th><th scope=col>&lt;dbl&gt;</th><th scope=col>&lt;dbl&gt;</th><th scope=col>&lt;chr&gt;</th><th scope=col>&lt;dbl&gt;</th><th scope=col>&lt;chr&gt;</th><th scope=col>&lt;dbl&gt;</th><th scope=col>&lt;fct&gt;</th><th scope=col>&lt;chr&gt;</th></tr>\n",
       "</thead>\n",
       "<tbody>\n",
       "\t<tr><td>74</td><td>0.7 </td><td>0   </td><td>19</td><td>0.076</td><td>11</td><td>34</td><td>0.9978</td><td>351</td><td>0.56</td><td>94</td><td>5</td><td>red</td></tr>\n",
       "\t<tr><td>78</td><td>0.88</td><td>0   </td><td>26</td><td>0.098</td><td>25</td><td>67</td><td>0.9968</td><td> 32</td><td>0.68</td><td>98</td><td>5</td><td>red</td></tr>\n",
       "\t<tr><td>78</td><td>0.76</td><td>0.04</td><td>23</td><td>0.092</td><td>15</td><td>54</td><td>0.997 </td><td>326</td><td>0.65</td><td>98</td><td>5</td><td>red</td></tr>\n",
       "\t<tr><td>⋮</td><td>⋮</td><td>⋮</td><td>⋮</td><td>⋮</td><td>⋮</td><td>⋮</td><td>⋮</td><td>⋮</td><td>⋮</td><td>⋮</td><td>⋮</td><td>⋮</td></tr>\n",
       "\t<tr><td>63</td><td>0.51 </td><td>0.13</td><td>23</td><td>0.076</td><td>29</td><td>40</td><td>0.99574</td><td>342</td><td>0.75</td><td> 11</td><td>6</td><td>red</td></tr>\n",
       "\t<tr><td>59</td><td>0.645</td><td>0.12</td><td> 2</td><td>0.075</td><td>32</td><td>44</td><td>0.99547</td><td>357</td><td>0.71</td><td>102</td><td>5</td><td>red</td></tr>\n",
       "\t<tr><td> 6</td><td>0.31 </td><td>0.47</td><td>36</td><td>0.067</td><td>18</td><td>42</td><td>0.99549</td><td>339</td><td>0.66</td><td> 11</td><td>6</td><td>red</td></tr>\n",
       "</tbody>\n",
       "</table>\n"
      ],
      "text/latex": [
       "A tibble: 1599 × 13\n",
       "\\begin{tabular}{lllllllllllll}\n",
       " fixed acidity & volatile acidity & citric acid & residual sugar & chlorides & free sulfur dioxide & total sulfur dioxide & density & pH & sulphates & alcohol & quality & type\\\\\n",
       " <dbl> & <chr> & <chr> & <dbl> & <chr> & <dbl> & <dbl> & <chr> & <dbl> & <chr> & <dbl> & <fct> & <chr>\\\\\n",
       "\\hline\n",
       "\t 74 & 0.7  & 0    & 19 & 0.076 & 11 & 34 & 0.9978 & 351 & 0.56 & 94 & 5 & red\\\\\n",
       "\t 78 & 0.88 & 0    & 26 & 0.098 & 25 & 67 & 0.9968 &  32 & 0.68 & 98 & 5 & red\\\\\n",
       "\t 78 & 0.76 & 0.04 & 23 & 0.092 & 15 & 54 & 0.997  & 326 & 0.65 & 98 & 5 & red\\\\\n",
       "\t ⋮ & ⋮ & ⋮ & ⋮ & ⋮ & ⋮ & ⋮ & ⋮ & ⋮ & ⋮ & ⋮ & ⋮ & ⋮\\\\\n",
       "\t 63 & 0.51  & 0.13 & 23 & 0.076 & 29 & 40 & 0.99574 & 342 & 0.75 &  11 & 6 & red\\\\\n",
       "\t 59 & 0.645 & 0.12 &  2 & 0.075 & 32 & 44 & 0.99547 & 357 & 0.71 & 102 & 5 & red\\\\\n",
       "\t  6 & 0.31  & 0.47 & 36 & 0.067 & 18 & 42 & 0.99549 & 339 & 0.66 &  11 & 6 & red\\\\\n",
       "\\end{tabular}\n"
      ],
      "text/markdown": [
       "\n",
       "A tibble: 1599 × 13\n",
       "\n",
       "| fixed acidity &lt;dbl&gt; | volatile acidity &lt;chr&gt; | citric acid &lt;chr&gt; | residual sugar &lt;dbl&gt; | chlorides &lt;chr&gt; | free sulfur dioxide &lt;dbl&gt; | total sulfur dioxide &lt;dbl&gt; | density &lt;chr&gt; | pH &lt;dbl&gt; | sulphates &lt;chr&gt; | alcohol &lt;dbl&gt; | quality &lt;fct&gt; | type &lt;chr&gt; |\n",
       "|---|---|---|---|---|---|---|---|---|---|---|---|---|\n",
       "| 74 | 0.7  | 0    | 19 | 0.076 | 11 | 34 | 0.9978 | 351 | 0.56 | 94 | 5 | red |\n",
       "| 78 | 0.88 | 0    | 26 | 0.098 | 25 | 67 | 0.9968 |  32 | 0.68 | 98 | 5 | red |\n",
       "| 78 | 0.76 | 0.04 | 23 | 0.092 | 15 | 54 | 0.997  | 326 | 0.65 | 98 | 5 | red |\n",
       "| ⋮ | ⋮ | ⋮ | ⋮ | ⋮ | ⋮ | ⋮ | ⋮ | ⋮ | ⋮ | ⋮ | ⋮ | ⋮ |\n",
       "| 63 | 0.51  | 0.13 | 23 | 0.076 | 29 | 40 | 0.99574 | 342 | 0.75 |  11 | 6 | red |\n",
       "| 59 | 0.645 | 0.12 |  2 | 0.075 | 32 | 44 | 0.99547 | 357 | 0.71 | 102 | 5 | red |\n",
       "|  6 | 0.31  | 0.47 | 36 | 0.067 | 18 | 42 | 0.99549 | 339 | 0.66 |  11 | 6 | red |\n",
       "\n"
      ],
      "text/plain": [
       "     fixed acidity volatile acidity citric acid residual sugar chlorides\n",
       "1    74            0.7              0           19             0.076    \n",
       "2    78            0.88             0           26             0.098    \n",
       "3    78            0.76             0.04        23             0.092    \n",
       "⋮    ⋮             ⋮                ⋮           ⋮              ⋮        \n",
       "1597 63            0.51             0.13        23             0.076    \n",
       "1598 59            0.645            0.12         2             0.075    \n",
       "1599  6            0.31             0.47        36             0.067    \n",
       "     free sulfur dioxide total sulfur dioxide density pH  sulphates alcohol\n",
       "1    11                  34                   0.9978  351 0.56      94     \n",
       "2    25                  67                   0.9968   32 0.68      98     \n",
       "3    15                  54                   0.997   326 0.65      98     \n",
       "⋮    ⋮                   ⋮                    ⋮       ⋮   ⋮         ⋮      \n",
       "1597 29                  40                   0.99574 342 0.75       11    \n",
       "1598 32                  44                   0.99547 357 0.71      102    \n",
       "1599 18                  42                   0.99549 339 0.66       11    \n",
       "     quality type\n",
       "1    5       red \n",
       "2    5       red \n",
       "3    5       red \n",
       "⋮    ⋮       ⋮   \n",
       "1597 6       red \n",
       "1598 5       red \n",
       "1599 6       red "
      ]
     },
     "metadata": {},
     "output_type": "display_data"
    }
   ],
   "source": [
    "winequalityRed <- mutate(winequalityRed, quality = as.factor(quality))\n",
    "winequalityRed"
   ]
  },
  {
   "cell_type": "code",
   "execution_count": 19,
   "id": "7de7fde1-90c5-4e07-afe9-25b69231ad6e",
   "metadata": {},
   "outputs": [
    {
     "data": {
      "text/html": [
       "<table class=\"dataframe\">\n",
       "<caption>A tibble: 6497 × 13</caption>\n",
       "<thead>\n",
       "\t<tr><th scope=col>fixed_acidity</th><th scope=col>volatile_acidity</th><th scope=col>citric_acid</th><th scope=col>residual_sugar</th><th scope=col>chlorides</th><th scope=col>free_SO2</th><th scope=col>total_SO2</th><th scope=col>density</th><th scope=col>pH</th><th scope=col>sulphates</th><th scope=col>alcohol</th><th scope=col>quality</th><th scope=col>type</th></tr>\n",
       "\t<tr><th scope=col>&lt;dbl&gt;</th><th scope=col>&lt;dbl&gt;</th><th scope=col>&lt;dbl&gt;</th><th scope=col>&lt;dbl&gt;</th><th scope=col>&lt;dbl&gt;</th><th scope=col>&lt;dbl&gt;</th><th scope=col>&lt;dbl&gt;</th><th scope=col>&lt;dbl&gt;</th><th scope=col>&lt;dbl&gt;</th><th scope=col>&lt;dbl&gt;</th><th scope=col>&lt;dbl&gt;</th><th scope=col>&lt;fct&gt;</th><th scope=col>&lt;chr&gt;</th></tr>\n",
       "</thead>\n",
       "<tbody>\n",
       "\t<tr><td>74</td><td>0.70</td><td>0.00</td><td>19</td><td>0.076</td><td>11</td><td>34</td><td>0.9978</td><td>351</td><td>0.56</td><td>94</td><td>5</td><td>red</td></tr>\n",
       "\t<tr><td>78</td><td>0.88</td><td>0.00</td><td>26</td><td>0.098</td><td>25</td><td>67</td><td>0.9968</td><td> 32</td><td>0.68</td><td>98</td><td>5</td><td>red</td></tr>\n",
       "\t<tr><td>78</td><td>0.76</td><td>0.04</td><td>23</td><td>0.092</td><td>15</td><td>54</td><td>0.9970</td><td>326</td><td>0.65</td><td>98</td><td>5</td><td>red</td></tr>\n",
       "\t<tr><td>⋮</td><td>⋮</td><td>⋮</td><td>⋮</td><td>⋮</td><td>⋮</td><td>⋮</td><td>⋮</td><td>⋮</td><td>⋮</td><td>⋮</td><td>⋮</td><td>⋮</td></tr>\n",
       "\t<tr><td>65</td><td>0.24</td><td>0.19</td><td>1.2</td><td>0.041</td><td>30</td><td>111</td><td>0.99254</td><td>299</td><td>0.46</td><td> 94</td><td>6</td><td>white</td></tr>\n",
       "\t<tr><td>55</td><td>0.29</td><td>0.30</td><td>1.1</td><td>0.022</td><td>20</td><td>110</td><td>0.98869</td><td>334</td><td>0.38</td><td>128</td><td>7</td><td>white</td></tr>\n",
       "\t<tr><td> 6</td><td>0.21</td><td>0.38</td><td>0.8</td><td>0.020</td><td>22</td><td> 98</td><td>0.98941</td><td>326</td><td>0.32</td><td>118</td><td>6</td><td>white</td></tr>\n",
       "</tbody>\n",
       "</table>\n"
      ],
      "text/latex": [
       "A tibble: 6497 × 13\n",
       "\\begin{tabular}{lllllllllllll}\n",
       " fixed\\_acidity & volatile\\_acidity & citric\\_acid & residual\\_sugar & chlorides & free\\_SO2 & total\\_SO2 & density & pH & sulphates & alcohol & quality & type\\\\\n",
       " <dbl> & <dbl> & <dbl> & <dbl> & <dbl> & <dbl> & <dbl> & <dbl> & <dbl> & <dbl> & <dbl> & <fct> & <chr>\\\\\n",
       "\\hline\n",
       "\t 74 & 0.70 & 0.00 & 19 & 0.076 & 11 & 34 & 0.9978 & 351 & 0.56 & 94 & 5 & red\\\\\n",
       "\t 78 & 0.88 & 0.00 & 26 & 0.098 & 25 & 67 & 0.9968 &  32 & 0.68 & 98 & 5 & red\\\\\n",
       "\t 78 & 0.76 & 0.04 & 23 & 0.092 & 15 & 54 & 0.9970 & 326 & 0.65 & 98 & 5 & red\\\\\n",
       "\t ⋮ & ⋮ & ⋮ & ⋮ & ⋮ & ⋮ & ⋮ & ⋮ & ⋮ & ⋮ & ⋮ & ⋮ & ⋮\\\\\n",
       "\t 65 & 0.24 & 0.19 & 1.2 & 0.041 & 30 & 111 & 0.99254 & 299 & 0.46 &  94 & 6 & white\\\\\n",
       "\t 55 & 0.29 & 0.30 & 1.1 & 0.022 & 20 & 110 & 0.98869 & 334 & 0.38 & 128 & 7 & white\\\\\n",
       "\t  6 & 0.21 & 0.38 & 0.8 & 0.020 & 22 &  98 & 0.98941 & 326 & 0.32 & 118 & 6 & white\\\\\n",
       "\\end{tabular}\n"
      ],
      "text/markdown": [
       "\n",
       "A tibble: 6497 × 13\n",
       "\n",
       "| fixed_acidity &lt;dbl&gt; | volatile_acidity &lt;dbl&gt; | citric_acid &lt;dbl&gt; | residual_sugar &lt;dbl&gt; | chlorides &lt;dbl&gt; | free_SO2 &lt;dbl&gt; | total_SO2 &lt;dbl&gt; | density &lt;dbl&gt; | pH &lt;dbl&gt; | sulphates &lt;dbl&gt; | alcohol &lt;dbl&gt; | quality &lt;fct&gt; | type &lt;chr&gt; |\n",
       "|---|---|---|---|---|---|---|---|---|---|---|---|---|\n",
       "| 74 | 0.70 | 0.00 | 19 | 0.076 | 11 | 34 | 0.9978 | 351 | 0.56 | 94 | 5 | red |\n",
       "| 78 | 0.88 | 0.00 | 26 | 0.098 | 25 | 67 | 0.9968 |  32 | 0.68 | 98 | 5 | red |\n",
       "| 78 | 0.76 | 0.04 | 23 | 0.092 | 15 | 54 | 0.9970 | 326 | 0.65 | 98 | 5 | red |\n",
       "| ⋮ | ⋮ | ⋮ | ⋮ | ⋮ | ⋮ | ⋮ | ⋮ | ⋮ | ⋮ | ⋮ | ⋮ | ⋮ |\n",
       "| 65 | 0.24 | 0.19 | 1.2 | 0.041 | 30 | 111 | 0.99254 | 299 | 0.46 |  94 | 6 | white |\n",
       "| 55 | 0.29 | 0.30 | 1.1 | 0.022 | 20 | 110 | 0.98869 | 334 | 0.38 | 128 | 7 | white |\n",
       "|  6 | 0.21 | 0.38 | 0.8 | 0.020 | 22 |  98 | 0.98941 | 326 | 0.32 | 118 | 6 | white |\n",
       "\n"
      ],
      "text/plain": [
       "     fixed_acidity volatile_acidity citric_acid residual_sugar chlorides\n",
       "1    74            0.70             0.00        19             0.076    \n",
       "2    78            0.88             0.00        26             0.098    \n",
       "3    78            0.76             0.04        23             0.092    \n",
       "⋮    ⋮             ⋮                ⋮           ⋮              ⋮        \n",
       "6495 65            0.24             0.19        1.2            0.041    \n",
       "6496 55            0.29             0.30        1.1            0.022    \n",
       "6497  6            0.21             0.38        0.8            0.020    \n",
       "     free_SO2 total_SO2 density pH  sulphates alcohol quality type \n",
       "1    11       34        0.9978  351 0.56      94      5       red  \n",
       "2    25       67        0.9968   32 0.68      98      5       red  \n",
       "3    15       54        0.9970  326 0.65      98      5       red  \n",
       "⋮    ⋮        ⋮         ⋮       ⋮   ⋮         ⋮       ⋮       ⋮    \n",
       "6495 30       111       0.99254 299 0.46       94     6       white\n",
       "6496 20       110       0.98869 334 0.38      128     7       white\n",
       "6497 22        98       0.98941 326 0.32      118     6       white"
      ]
     },
     "metadata": {},
     "output_type": "display_data"
    }
   ],
   "source": [
    "completedt <- rbind(winequalityRed, winequalityWhite) |>\n",
    "              setNames(c(\"fixed_acidity\",\n",
    "                         \"volatile_acidity\",\n",
    "                         \"citric_acid\",\n",
    "                         \"residual_sugar\",\n",
    "                         \"chlorides\",\n",
    "                         \"free_SO2\",\n",
    "                         \"total_SO2\",\n",
    "                         \"density\",\n",
    "                         \"pH\",\n",
    "                         \"sulphates\",\n",
    "                         \"alcohol\",\n",
    "                         \"quality\",\n",
    "                         \"type\"))\n",
    "completedt$volatile_acidity <- as.numeric(completedt$volatile_acidity)\n",
    "completedt$citric_acid <- as.numeric(completedt$citric_acid)\n",
    "completedt$residual_sugar <- as.numeric(completedt$residual_sugar)\n",
    "completedt$chlorides <- as.numeric(completedt$chlorides)\n",
    "completedt$density <- as.numeric(completedt$density)\n",
    "completedt$sulphates <- as.numeric(completedt$sulphates)\n",
    "completedt"
   ]
  },
  {
   "cell_type": "code",
   "execution_count": null,
   "id": "5d45d3e2-16e1-45d9-8416-c688ea58ddb9",
   "metadata": {},
   "outputs": [],
   "source": []
  },
  {
   "cell_type": "markdown",
   "id": "cb38f983-82d7-447f-8b6b-49b5b0692dce",
   "metadata": {},
   "source": [
    "## Exploratory Data Analysis"
   ]
  },
  {
   "cell_type": "markdown",
   "id": "19c82934-77ec-480a-a9cd-683fc8225ab7",
   "metadata": {},
   "source": [
    "### Training Data"
   ]
  },
  {
   "cell_type": "code",
   "execution_count": 21,
   "id": "71c9f844-6cbe-4fb3-bb95-4eec71eb3ae8",
   "metadata": {},
   "outputs": [
    {
     "data": {
      "text/html": [
       "<table class=\"dataframe\">\n",
       "<caption>A tibble: 4872 × 13</caption>\n",
       "<thead>\n",
       "\t<tr><th scope=col>fixed_acidity</th><th scope=col>volatile_acidity</th><th scope=col>citric_acid</th><th scope=col>residual_sugar</th><th scope=col>chlorides</th><th scope=col>free_SO2</th><th scope=col>total_SO2</th><th scope=col>density</th><th scope=col>pH</th><th scope=col>sulphates</th><th scope=col>alcohol</th><th scope=col>quality</th><th scope=col>type</th></tr>\n",
       "\t<tr><th scope=col>&lt;dbl&gt;</th><th scope=col>&lt;dbl&gt;</th><th scope=col>&lt;dbl&gt;</th><th scope=col>&lt;dbl&gt;</th><th scope=col>&lt;dbl&gt;</th><th scope=col>&lt;dbl&gt;</th><th scope=col>&lt;dbl&gt;</th><th scope=col>&lt;dbl&gt;</th><th scope=col>&lt;dbl&gt;</th><th scope=col>&lt;dbl&gt;</th><th scope=col>&lt;dbl&gt;</th><th scope=col>&lt;fct&gt;</th><th scope=col>&lt;chr&gt;</th></tr>\n",
       "</thead>\n",
       "<tbody>\n",
       "\t<tr><td>74</td><td>0.70</td><td>0.00</td><td>19</td><td>0.076</td><td>11</td><td>34</td><td>0.9978</td><td>351</td><td>0.56</td><td>94</td><td>5</td><td>red</td></tr>\n",
       "\t<tr><td>78</td><td>0.88</td><td>0.00</td><td>26</td><td>0.098</td><td>25</td><td>67</td><td>0.9968</td><td> 32</td><td>0.68</td><td>98</td><td>5</td><td>red</td></tr>\n",
       "\t<tr><td>78</td><td>0.76</td><td>0.04</td><td>23</td><td>0.092</td><td>15</td><td>54</td><td>0.9970</td><td>326</td><td>0.65</td><td>98</td><td>5</td><td>red</td></tr>\n",
       "\t<tr><td>⋮</td><td>⋮</td><td>⋮</td><td>⋮</td><td>⋮</td><td>⋮</td><td>⋮</td><td>⋮</td><td>⋮</td><td>⋮</td><td>⋮</td><td>⋮</td><td>⋮</td></tr>\n",
       "\t<tr><td>62</td><td>0.21</td><td>0.28</td><td>5.7</td><td>0.028</td><td>45</td><td>121</td><td>0.99168</td><td>321</td><td>1.08</td><td>1215</td><td>7</td><td>white</td></tr>\n",
       "\t<tr><td>62</td><td>0.41</td><td>0.22</td><td>1.9</td><td>0.023</td><td> 5</td><td> 56</td><td>0.98928</td><td>304</td><td>0.79</td><td>  13</td><td>7</td><td>white</td></tr>\n",
       "\t<tr><td>55</td><td>0.29</td><td>0.30</td><td>1.1</td><td>0.022</td><td>20</td><td>110</td><td>0.98869</td><td>334</td><td>0.38</td><td> 128</td><td>7</td><td>white</td></tr>\n",
       "</tbody>\n",
       "</table>\n"
      ],
      "text/latex": [
       "A tibble: 4872 × 13\n",
       "\\begin{tabular}{lllllllllllll}\n",
       " fixed\\_acidity & volatile\\_acidity & citric\\_acid & residual\\_sugar & chlorides & free\\_SO2 & total\\_SO2 & density & pH & sulphates & alcohol & quality & type\\\\\n",
       " <dbl> & <dbl> & <dbl> & <dbl> & <dbl> & <dbl> & <dbl> & <dbl> & <dbl> & <dbl> & <dbl> & <fct> & <chr>\\\\\n",
       "\\hline\n",
       "\t 74 & 0.70 & 0.00 & 19 & 0.076 & 11 & 34 & 0.9978 & 351 & 0.56 & 94 & 5 & red\\\\\n",
       "\t 78 & 0.88 & 0.00 & 26 & 0.098 & 25 & 67 & 0.9968 &  32 & 0.68 & 98 & 5 & red\\\\\n",
       "\t 78 & 0.76 & 0.04 & 23 & 0.092 & 15 & 54 & 0.9970 & 326 & 0.65 & 98 & 5 & red\\\\\n",
       "\t ⋮ & ⋮ & ⋮ & ⋮ & ⋮ & ⋮ & ⋮ & ⋮ & ⋮ & ⋮ & ⋮ & ⋮ & ⋮\\\\\n",
       "\t 62 & 0.21 & 0.28 & 5.7 & 0.028 & 45 & 121 & 0.99168 & 321 & 1.08 & 1215 & 7 & white\\\\\n",
       "\t 62 & 0.41 & 0.22 & 1.9 & 0.023 &  5 &  56 & 0.98928 & 304 & 0.79 &   13 & 7 & white\\\\\n",
       "\t 55 & 0.29 & 0.30 & 1.1 & 0.022 & 20 & 110 & 0.98869 & 334 & 0.38 &  128 & 7 & white\\\\\n",
       "\\end{tabular}\n"
      ],
      "text/markdown": [
       "\n",
       "A tibble: 4872 × 13\n",
       "\n",
       "| fixed_acidity &lt;dbl&gt; | volatile_acidity &lt;dbl&gt; | citric_acid &lt;dbl&gt; | residual_sugar &lt;dbl&gt; | chlorides &lt;dbl&gt; | free_SO2 &lt;dbl&gt; | total_SO2 &lt;dbl&gt; | density &lt;dbl&gt; | pH &lt;dbl&gt; | sulphates &lt;dbl&gt; | alcohol &lt;dbl&gt; | quality &lt;fct&gt; | type &lt;chr&gt; |\n",
       "|---|---|---|---|---|---|---|---|---|---|---|---|---|\n",
       "| 74 | 0.70 | 0.00 | 19 | 0.076 | 11 | 34 | 0.9978 | 351 | 0.56 | 94 | 5 | red |\n",
       "| 78 | 0.88 | 0.00 | 26 | 0.098 | 25 | 67 | 0.9968 |  32 | 0.68 | 98 | 5 | red |\n",
       "| 78 | 0.76 | 0.04 | 23 | 0.092 | 15 | 54 | 0.9970 | 326 | 0.65 | 98 | 5 | red |\n",
       "| ⋮ | ⋮ | ⋮ | ⋮ | ⋮ | ⋮ | ⋮ | ⋮ | ⋮ | ⋮ | ⋮ | ⋮ | ⋮ |\n",
       "| 62 | 0.21 | 0.28 | 5.7 | 0.028 | 45 | 121 | 0.99168 | 321 | 1.08 | 1215 | 7 | white |\n",
       "| 62 | 0.41 | 0.22 | 1.9 | 0.023 |  5 |  56 | 0.98928 | 304 | 0.79 |   13 | 7 | white |\n",
       "| 55 | 0.29 | 0.30 | 1.1 | 0.022 | 20 | 110 | 0.98869 | 334 | 0.38 |  128 | 7 | white |\n",
       "\n"
      ],
      "text/plain": [
       "     fixed_acidity volatile_acidity citric_acid residual_sugar chlorides\n",
       "1    74            0.70             0.00        19             0.076    \n",
       "2    78            0.88             0.00        26             0.098    \n",
       "3    78            0.76             0.04        23             0.092    \n",
       "⋮    ⋮             ⋮                ⋮           ⋮              ⋮        \n",
       "4870 62            0.21             0.28        5.7            0.028    \n",
       "4871 62            0.41             0.22        1.9            0.023    \n",
       "4872 55            0.29             0.30        1.1            0.022    \n",
       "     free_SO2 total_SO2 density pH  sulphates alcohol quality type \n",
       "1    11       34        0.9978  351 0.56      94      5       red  \n",
       "2    25       67        0.9968   32 0.68      98      5       red  \n",
       "3    15       54        0.9970  326 0.65      98      5       red  \n",
       "⋮    ⋮        ⋮         ⋮       ⋮   ⋮         ⋮       ⋮       ⋮    \n",
       "4870 45       121       0.99168 321 1.08      1215    7       white\n",
       "4871  5        56       0.98928 304 0.79        13    7       white\n",
       "4872 20       110       0.98869 334 0.38       128    7       white"
      ]
     },
     "metadata": {},
     "output_type": "display_data"
    }
   ],
   "source": [
    "wine_split <- initial_split(completedt, prop = 0.75, strata = quality)\n",
    "wine_training <- training(wine_split)\n",
    "wine_testing <- testing(wine_split)\n",
    "wine_training"
   ]
  },
  {
   "cell_type": "markdown",
   "id": "80655a83-66d6-48ec-8ed4-6a201d782a7c",
   "metadata": {},
   "source": [
    "### Total Number of Rows & Missing Data"
   ]
  },
  {
   "cell_type": "code",
   "execution_count": 22,
   "id": "83ad1069-0aca-4c56-b0a6-9c89b3a3d92f",
   "metadata": {},
   "outputs": [
    {
     "data": {
      "text/html": [
       "'Total Number of Rows: '"
      ],
      "text/latex": [
       "'Total Number of Rows: '"
      ],
      "text/markdown": [
       "'Total Number of Rows: '"
      ],
      "text/plain": [
       "[1] \"Total Number of Rows: \""
      ]
     },
     "metadata": {},
     "output_type": "display_data"
    },
    {
     "data": {
      "text/html": [
       "4872"
      ],
      "text/latex": [
       "4872"
      ],
      "text/markdown": [
       "4872"
      ],
      "text/plain": [
       "[1] 4872"
      ]
     },
     "metadata": {},
     "output_type": "display_data"
    },
    {
     "data": {
      "text/html": [
       "'Number of missing data: '"
      ],
      "text/latex": [
       "'Number of missing data: '"
      ],
      "text/markdown": [
       "'Number of missing data: '"
      ],
      "text/plain": [
       "[1] \"Number of missing data: \""
      ]
     },
     "metadata": {},
     "output_type": "display_data"
    },
    {
     "data": {
      "text/html": [
       "1"
      ],
      "text/latex": [
       "1"
      ],
      "text/markdown": [
       "1"
      ],
      "text/plain": [
       "[1] 1"
      ]
     },
     "metadata": {},
     "output_type": "display_data"
    }
   ],
   "source": [
    "number_of_rows <- nrow(wine_training)\n",
    "row_result <- \"Total Number of Rows: \"\n",
    "miss_data_result <- \"Number of missing data: \"\n",
    "row_result\n",
    "number_of_rows\n",
    "miss_data_result\n",
    "sum(is.na(wine_training))"
   ]
  },
  {
   "cell_type": "markdown",
   "id": "2b7f3b40-cf2e-4045-b435-0be10bbd8b80",
   "metadata": {},
   "source": [
    "### Counts for Each Wine Quality"
   ]
  },
  {
   "cell_type": "code",
   "execution_count": 23,
   "id": "063b9b07-522d-44d0-912e-c740091388d6",
   "metadata": {},
   "outputs": [
    {
     "name": "stdout",
     "output_type": "stream",
     "text": [
      "\u001b[90m# A tibble: 7 × 2\u001b[39m\n",
      "  quality     n\n",
      "  \u001b[3m\u001b[90m<fct>\u001b[39m\u001b[23m   \u001b[3m\u001b[90m<int>\u001b[39m\u001b[23m\n",
      "\u001b[90m1\u001b[39m 3          25\n",
      "\u001b[90m2\u001b[39m 4         168\n",
      "\u001b[90m3\u001b[39m 5        \u001b[4m1\u001b[24m607\n",
      "\u001b[90m4\u001b[39m 6        \u001b[4m2\u001b[24m123\n",
      "\u001b[90m5\u001b[39m 7         805\n",
      "\u001b[90m6\u001b[39m 8         139\n",
      "\u001b[90m7\u001b[39m 9           5\n"
     ]
    }
   ],
   "source": [
    "counts_quality <- wine_training |>\n",
    "                  group_by(quality) |>\n",
    "                  summarize(n = n())\n",
    "print(as_tibble(counts_quality),n=nrow(counts_quality))"
   ]
  },
  {
   "cell_type": "markdown",
   "id": "b349f7ca-f0e9-4dd1-8e23-cbd51499c69a",
   "metadata": {},
   "source": [
    "### Mean Variable values for each Quality level of Wine"
   ]
  },
  {
   "cell_type": "code",
   "execution_count": 28,
   "id": "797b1047-42de-475d-a8c2-c9836fc7fdee",
   "metadata": {},
   "outputs": [
    {
     "data": {
      "text/html": [
       "<table class=\"dataframe\">\n",
       "<caption>A tibble: 6 × 12</caption>\n",
       "<thead>\n",
       "\t<tr><th scope=col>quality</th><th scope=col>mean_fix_acidity</th><th scope=col>mean_v_acidity</th><th scope=col>mean_citric_acid</th><th scope=col>mean_res_sugar</th><th scope=col>mean_chlorides</th><th scope=col>mean_free_SO2</th><th scope=col>mean_total_SO2</th><th scope=col>mean_density</th><th scope=col>mean_pH</th><th scope=col>mean_sulphates</th><th scope=col>mean_alcohol</th></tr>\n",
       "\t<tr><th scope=col>&lt;fct&gt;</th><th scope=col>&lt;dbl&gt;</th><th scope=col>&lt;dbl&gt;</th><th scope=col>&lt;dbl&gt;</th><th scope=col>&lt;dbl&gt;</th><th scope=col>&lt;dbl&gt;</th><th scope=col>&lt;dbl&gt;</th><th scope=col>&lt;dbl&gt;</th><th scope=col>&lt;dbl&gt;</th><th scope=col>&lt;dbl&gt;</th><th scope=col>&lt;dbl&gt;</th><th scope=col>&lt;dbl&gt;</th></tr>\n",
       "</thead>\n",
       "<tbody>\n",
       "\t<tr><td>3</td><td>90.83333</td><td>0.8783333</td><td>90.83333</td><td>90.83333</td><td>90.83333</td><td>90.83333</td><td>90.83333</td><td>90.83333</td><td>90.83333</td><td>90.83333</td><td>8.500000e+01</td></tr>\n",
       "\t<tr><td>4</td><td>70.87179</td><td>0.6698718</td><td>70.87179</td><td>70.87179</td><td>70.87179</td><td>70.87179</td><td>70.87179</td><td>70.87179</td><td>70.87179</td><td>70.87179</td><td>1.021282e+02</td></tr>\n",
       "\t<tr><td>5</td><td>74.09020</td><td>0.5749314</td><td>74.09020</td><td>74.09020</td><td>74.09020</td><td>74.09020</td><td>74.09020</td><td>74.09020</td><td>74.09020</td><td>74.09020</td><td>9.434902e+01</td></tr>\n",
       "\t<tr><td>6</td><td>74.13730</td><td>0.4997234</td><td>74.13730</td><td>74.13730</td><td>74.13730</td><td>74.13730</td><td>74.13730</td><td>74.13730</td><td>74.13730</td><td>74.13730</td><td>4.323770e+11</td></tr>\n",
       "\t<tr><td>7</td><td>80.68966</td><td>0.3982759</td><td>80.68966</td><td>80.68966</td><td>80.68966</td><td>80.68966</td><td>80.68966</td><td>80.68966</td><td>80.68966</td><td>80.68966</td><td>1.050966e+02</td></tr>\n",
       "\t<tr><td>8</td><td>81.85714</td><td>0.3807143</td><td>81.85714</td><td>81.85714</td><td>81.85714</td><td>81.85714</td><td>81.85714</td><td>81.85714</td><td>81.85714</td><td>81.85714</td><td>8.957143e+01</td></tr>\n",
       "</tbody>\n",
       "</table>\n"
      ],
      "text/latex": [
       "A tibble: 6 × 12\n",
       "\\begin{tabular}{llllllllllll}\n",
       " quality & mean\\_fix\\_acidity & mean\\_v\\_acidity & mean\\_citric\\_acid & mean\\_res\\_sugar & mean\\_chlorides & mean\\_free\\_SO2 & mean\\_total\\_SO2 & mean\\_density & mean\\_pH & mean\\_sulphates & mean\\_alcohol\\\\\n",
       " <fct> & <dbl> & <dbl> & <dbl> & <dbl> & <dbl> & <dbl> & <dbl> & <dbl> & <dbl> & <dbl> & <dbl>\\\\\n",
       "\\hline\n",
       "\t 3 & 90.83333 & 0.8783333 & 90.83333 & 90.83333 & 90.83333 & 90.83333 & 90.83333 & 90.83333 & 90.83333 & 90.83333 & 8.500000e+01\\\\\n",
       "\t 4 & 70.87179 & 0.6698718 & 70.87179 & 70.87179 & 70.87179 & 70.87179 & 70.87179 & 70.87179 & 70.87179 & 70.87179 & 1.021282e+02\\\\\n",
       "\t 5 & 74.09020 & 0.5749314 & 74.09020 & 74.09020 & 74.09020 & 74.09020 & 74.09020 & 74.09020 & 74.09020 & 74.09020 & 9.434902e+01\\\\\n",
       "\t 6 & 74.13730 & 0.4997234 & 74.13730 & 74.13730 & 74.13730 & 74.13730 & 74.13730 & 74.13730 & 74.13730 & 74.13730 & 4.323770e+11\\\\\n",
       "\t 7 & 80.68966 & 0.3982759 & 80.68966 & 80.68966 & 80.68966 & 80.68966 & 80.68966 & 80.68966 & 80.68966 & 80.68966 & 1.050966e+02\\\\\n",
       "\t 8 & 81.85714 & 0.3807143 & 81.85714 & 81.85714 & 81.85714 & 81.85714 & 81.85714 & 81.85714 & 81.85714 & 81.85714 & 8.957143e+01\\\\\n",
       "\\end{tabular}\n"
      ],
      "text/markdown": [
       "\n",
       "A tibble: 6 × 12\n",
       "\n",
       "| quality &lt;fct&gt; | mean_fix_acidity &lt;dbl&gt; | mean_v_acidity &lt;dbl&gt; | mean_citric_acid &lt;dbl&gt; | mean_res_sugar &lt;dbl&gt; | mean_chlorides &lt;dbl&gt; | mean_free_SO2 &lt;dbl&gt; | mean_total_SO2 &lt;dbl&gt; | mean_density &lt;dbl&gt; | mean_pH &lt;dbl&gt; | mean_sulphates &lt;dbl&gt; | mean_alcohol &lt;dbl&gt; |\n",
       "|---|---|---|---|---|---|---|---|---|---|---|---|\n",
       "| 3 | 90.83333 | 0.8783333 | 90.83333 | 90.83333 | 90.83333 | 90.83333 | 90.83333 | 90.83333 | 90.83333 | 90.83333 | 8.500000e+01 |\n",
       "| 4 | 70.87179 | 0.6698718 | 70.87179 | 70.87179 | 70.87179 | 70.87179 | 70.87179 | 70.87179 | 70.87179 | 70.87179 | 1.021282e+02 |\n",
       "| 5 | 74.09020 | 0.5749314 | 74.09020 | 74.09020 | 74.09020 | 74.09020 | 74.09020 | 74.09020 | 74.09020 | 74.09020 | 9.434902e+01 |\n",
       "| 6 | 74.13730 | 0.4997234 | 74.13730 | 74.13730 | 74.13730 | 74.13730 | 74.13730 | 74.13730 | 74.13730 | 74.13730 | 4.323770e+11 |\n",
       "| 7 | 80.68966 | 0.3982759 | 80.68966 | 80.68966 | 80.68966 | 80.68966 | 80.68966 | 80.68966 | 80.68966 | 80.68966 | 1.050966e+02 |\n",
       "| 8 | 81.85714 | 0.3807143 | 81.85714 | 81.85714 | 81.85714 | 81.85714 | 81.85714 | 81.85714 | 81.85714 | 81.85714 | 8.957143e+01 |\n",
       "\n"
      ],
      "text/plain": [
       "  quality mean_fix_acidity mean_v_acidity mean_citric_acid mean_res_sugar\n",
       "1 3       90.83333         0.8783333      90.83333         90.83333      \n",
       "2 4       70.87179         0.6698718      70.87179         70.87179      \n",
       "3 5       74.09020         0.5749314      74.09020         74.09020      \n",
       "4 6       74.13730         0.4997234      74.13730         74.13730      \n",
       "5 7       80.68966         0.3982759      80.68966         80.68966      \n",
       "6 8       81.85714         0.3807143      81.85714         81.85714      \n",
       "  mean_chlorides mean_free_SO2 mean_total_SO2 mean_density mean_pH \n",
       "1 90.83333       90.83333      90.83333       90.83333     90.83333\n",
       "2 70.87179       70.87179      70.87179       70.87179     70.87179\n",
       "3 74.09020       74.09020      74.09020       74.09020     74.09020\n",
       "4 74.13730       74.13730      74.13730       74.13730     74.13730\n",
       "5 80.68966       80.68966      80.68966       80.68966     80.68966\n",
       "6 81.85714       81.85714      81.85714       81.85714     81.85714\n",
       "  mean_sulphates mean_alcohol\n",
       "1 90.83333       8.500000e+01\n",
       "2 70.87179       1.021282e+02\n",
       "3 74.09020       9.434902e+01\n",
       "4 74.13730       4.323770e+11\n",
       "5 80.68966       1.050966e+02\n",
       "6 81.85714       8.957143e+01"
      ]
     },
     "metadata": {},
     "output_type": "display_data"
    },
    {
     "data": {
      "text/html": [
       "<table class=\"dataframe\">\n",
       "<caption>A tibble: 7 × 12</caption>\n",
       "<thead>\n",
       "\t<tr><th scope=col>quality</th><th scope=col>mean_fix_acidity</th><th scope=col>mean_v_acidity</th><th scope=col>mean_citric_acid</th><th scope=col>mean_res_sugar</th><th scope=col>mean_chlorides</th><th scope=col>mean_free_SO2</th><th scope=col>mean_total_SO2</th><th scope=col>mean_density</th><th scope=col>mean_pH</th><th scope=col>mean_sulphates</th><th scope=col>mean_alcohol</th></tr>\n",
       "\t<tr><th scope=col>&lt;fct&gt;</th><th scope=col>&lt;dbl&gt;</th><th scope=col>&lt;dbl&gt;</th><th scope=col>&lt;dbl&gt;</th><th scope=col>&lt;dbl&gt;</th><th scope=col>&lt;dbl&gt;</th><th scope=col>&lt;dbl&gt;</th><th scope=col>&lt;dbl&gt;</th><th scope=col>&lt;dbl&gt;</th><th scope=col>&lt;dbl&gt;</th><th scope=col>&lt;dbl&gt;</th><th scope=col>&lt;dbl&gt;</th></tr>\n",
       "</thead>\n",
       "<tbody>\n",
       "\t<tr><td>3</td><td>76.00000</td><td>0.3255263</td><td>76.00000</td><td>76.00000</td><td>76.00000</td><td>76.00000</td><td>76.00000</td><td>76.00000</td><td>76.00000</td><td>76.00000</td><td>8.257895e+01</td></tr>\n",
       "\t<tr><td>4</td><td>63.68992</td><td>0.3833333</td><td>63.68992</td><td>63.68992</td><td>63.68992</td><td>63.68992</td><td>63.68992</td><td>63.68992</td><td>63.68992</td><td>63.68992</td><td>8.944961e+01</td></tr>\n",
       "\t<tr><td>5</td><td>63.94075</td><td>0.3026436</td><td>63.94075</td><td>63.94075</td><td>63.94075</td><td>63.94075</td><td>63.94075</td><td>63.94075</td><td>63.94075</td><td>63.94075</td><td>3.034032e+12</td></tr>\n",
       "\t<tr><td>⋮</td><td>⋮</td><td>⋮</td><td>⋮</td><td>⋮</td><td>⋮</td><td>⋮</td><td>⋮</td><td>⋮</td><td>⋮</td><td>⋮</td><td>⋮</td></tr>\n",
       "\t<tr><td>7</td><td>59.29697</td><td>0.2619167</td><td>59.29697</td><td>59.29697</td><td>59.29697</td><td>59.29697</td><td>59.29697</td><td>59.29697</td><td>59.29697</td><td>59.29697</td><td>8.574747e+11</td></tr>\n",
       "\t<tr><td>8</td><td>57.99200</td><td>0.2823600</td><td>57.99200</td><td>57.99200</td><td>57.99200</td><td>57.99200</td><td>57.99200</td><td>57.99200</td><td>57.99200</td><td>57.99200</td><td>1.052000e+02</td></tr>\n",
       "\t<tr><td>9</td><td>74.20000</td><td>0.2980000</td><td>74.20000</td><td>74.20000</td><td>74.20000</td><td>74.20000</td><td>74.20000</td><td>74.20000</td><td>74.20000</td><td>74.20000</td><td>1.218000e+02</td></tr>\n",
       "</tbody>\n",
       "</table>\n"
      ],
      "text/latex": [
       "A tibble: 7 × 12\n",
       "\\begin{tabular}{llllllllllll}\n",
       " quality & mean\\_fix\\_acidity & mean\\_v\\_acidity & mean\\_citric\\_acid & mean\\_res\\_sugar & mean\\_chlorides & mean\\_free\\_SO2 & mean\\_total\\_SO2 & mean\\_density & mean\\_pH & mean\\_sulphates & mean\\_alcohol\\\\\n",
       " <fct> & <dbl> & <dbl> & <dbl> & <dbl> & <dbl> & <dbl> & <dbl> & <dbl> & <dbl> & <dbl> & <dbl>\\\\\n",
       "\\hline\n",
       "\t 3 & 76.00000 & 0.3255263 & 76.00000 & 76.00000 & 76.00000 & 76.00000 & 76.00000 & 76.00000 & 76.00000 & 76.00000 & 8.257895e+01\\\\\n",
       "\t 4 & 63.68992 & 0.3833333 & 63.68992 & 63.68992 & 63.68992 & 63.68992 & 63.68992 & 63.68992 & 63.68992 & 63.68992 & 8.944961e+01\\\\\n",
       "\t 5 & 63.94075 & 0.3026436 & 63.94075 & 63.94075 & 63.94075 & 63.94075 & 63.94075 & 63.94075 & 63.94075 & 63.94075 & 3.034032e+12\\\\\n",
       "\t ⋮ & ⋮ & ⋮ & ⋮ & ⋮ & ⋮ & ⋮ & ⋮ & ⋮ & ⋮ & ⋮ & ⋮\\\\\n",
       "\t 7 & 59.29697 & 0.2619167 & 59.29697 & 59.29697 & 59.29697 & 59.29697 & 59.29697 & 59.29697 & 59.29697 & 59.29697 & 8.574747e+11\\\\\n",
       "\t 8 & 57.99200 & 0.2823600 & 57.99200 & 57.99200 & 57.99200 & 57.99200 & 57.99200 & 57.99200 & 57.99200 & 57.99200 & 1.052000e+02\\\\\n",
       "\t 9 & 74.20000 & 0.2980000 & 74.20000 & 74.20000 & 74.20000 & 74.20000 & 74.20000 & 74.20000 & 74.20000 & 74.20000 & 1.218000e+02\\\\\n",
       "\\end{tabular}\n"
      ],
      "text/markdown": [
       "\n",
       "A tibble: 7 × 12\n",
       "\n",
       "| quality &lt;fct&gt; | mean_fix_acidity &lt;dbl&gt; | mean_v_acidity &lt;dbl&gt; | mean_citric_acid &lt;dbl&gt; | mean_res_sugar &lt;dbl&gt; | mean_chlorides &lt;dbl&gt; | mean_free_SO2 &lt;dbl&gt; | mean_total_SO2 &lt;dbl&gt; | mean_density &lt;dbl&gt; | mean_pH &lt;dbl&gt; | mean_sulphates &lt;dbl&gt; | mean_alcohol &lt;dbl&gt; |\n",
       "|---|---|---|---|---|---|---|---|---|---|---|---|\n",
       "| 3 | 76.00000 | 0.3255263 | 76.00000 | 76.00000 | 76.00000 | 76.00000 | 76.00000 | 76.00000 | 76.00000 | 76.00000 | 8.257895e+01 |\n",
       "| 4 | 63.68992 | 0.3833333 | 63.68992 | 63.68992 | 63.68992 | 63.68992 | 63.68992 | 63.68992 | 63.68992 | 63.68992 | 8.944961e+01 |\n",
       "| 5 | 63.94075 | 0.3026436 | 63.94075 | 63.94075 | 63.94075 | 63.94075 | 63.94075 | 63.94075 | 63.94075 | 63.94075 | 3.034032e+12 |\n",
       "| ⋮ | ⋮ | ⋮ | ⋮ | ⋮ | ⋮ | ⋮ | ⋮ | ⋮ | ⋮ | ⋮ | ⋮ |\n",
       "| 7 | 59.29697 | 0.2619167 | 59.29697 | 59.29697 | 59.29697 | 59.29697 | 59.29697 | 59.29697 | 59.29697 | 59.29697 | 8.574747e+11 |\n",
       "| 8 | 57.99200 | 0.2823600 | 57.99200 | 57.99200 | 57.99200 | 57.99200 | 57.99200 | 57.99200 | 57.99200 | 57.99200 | 1.052000e+02 |\n",
       "| 9 | 74.20000 | 0.2980000 | 74.20000 | 74.20000 | 74.20000 | 74.20000 | 74.20000 | 74.20000 | 74.20000 | 74.20000 | 1.218000e+02 |\n",
       "\n"
      ],
      "text/plain": [
       "  quality mean_fix_acidity mean_v_acidity mean_citric_acid mean_res_sugar\n",
       "1 3       76.00000         0.3255263      76.00000         76.00000      \n",
       "2 4       63.68992         0.3833333      63.68992         63.68992      \n",
       "3 5       63.94075         0.3026436      63.94075         63.94075      \n",
       "⋮ ⋮       ⋮                ⋮              ⋮                ⋮             \n",
       "5 7       59.29697         0.2619167      59.29697         59.29697      \n",
       "6 8       57.99200         0.2823600      57.99200         57.99200      \n",
       "7 9       74.20000         0.2980000      74.20000         74.20000      \n",
       "  mean_chlorides mean_free_SO2 mean_total_SO2 mean_density mean_pH \n",
       "1 76.00000       76.00000      76.00000       76.00000     76.00000\n",
       "2 63.68992       63.68992      63.68992       63.68992     63.68992\n",
       "3 63.94075       63.94075      63.94075       63.94075     63.94075\n",
       "⋮ ⋮              ⋮             ⋮              ⋮            ⋮       \n",
       "5 59.29697       59.29697      59.29697       59.29697     59.29697\n",
       "6 57.99200       57.99200      57.99200       57.99200     57.99200\n",
       "7 74.20000       74.20000      74.20000       74.20000     74.20000\n",
       "  mean_sulphates mean_alcohol\n",
       "1 76.00000       8.257895e+01\n",
       "2 63.68992       8.944961e+01\n",
       "3 63.94075       3.034032e+12\n",
       "⋮ ⋮              ⋮           \n",
       "5 59.29697       8.574747e+11\n",
       "6 57.99200       1.052000e+02\n",
       "7 74.20000       1.218000e+02"
      ]
     },
     "metadata": {},
     "output_type": "display_data"
    }
   ],
   "source": [
    "# separate the training data into red and white\n",
    "red_wine_train <- wine_training |>\n",
    "                  filter(type == \"red\")\n",
    "\n",
    "white_wine_train <- wine_training |>\n",
    "                    filter(type == \"white\")\n",
    "                  \n",
    "\n",
    "red_wine_means <- red_wine_train |>\n",
    "                  group_by(quality) |>\n",
    "                  summarize(mean_fix_acidity = mean(fixed_acidity, na.rm = TRUE),\n",
    "                  mean_v_acidity = mean(volatile_acidity, na.rm = TRUE),\n",
    "                  mean_citric_acid = mean(fixed_acidity, na.rm = TRUE),\n",
    "                  mean_res_sugar = mean(fixed_acidity, na.rm = TRUE),\n",
    "                  mean_chlorides = mean(fixed_acidity, na.rm = TRUE),\n",
    "                  mean_free_SO2 = mean(fixed_acidity, na.rm = TRUE),\n",
    "                  mean_total_SO2 = mean(fixed_acidity, na.rm = TRUE),\n",
    "                  mean_density = mean(fixed_acidity, na.rm = TRUE),\n",
    "                  mean_pH = mean(fixed_acidity, na.rm = TRUE),\n",
    "                  mean_sulphates = mean(fixed_acidity, na.rm = TRUE),\n",
    "                  mean_alcohol = mean(alcohol, na.rm = TRUE))\n",
    "\n",
    "white_wine_means <- white_wine_train |>\n",
    "                    group_by(quality) |>\n",
    "                    summarize(mean_fix_acidity = mean(fixed_acidity, na.rm = TRUE),\n",
    "                    mean_v_acidity = mean(volatile_acidity, na.rm = TRUE),\n",
    "                    mean_citric_acid = mean(fixed_acidity, na.rm = TRUE),\n",
    "                    mean_res_sugar = mean(fixed_acidity, na.rm = TRUE),\n",
    "                    mean_chlorides = mean(fixed_acidity, na.rm = TRUE),\n",
    "                    mean_free_SO2 = mean(fixed_acidity, na.rm = TRUE),\n",
    "                    mean_total_SO2 = mean(fixed_acidity, na.rm = TRUE),\n",
    "                    mean_density = mean(fixed_acidity, na.rm = TRUE),\n",
    "                    mean_pH = mean(fixed_acidity, na.rm = TRUE),\n",
    "                    mean_sulphates = mean(fixed_acidity, na.rm = TRUE),\n",
    "                    mean_alcohol = mean(alcohol, na.rm = TRUE))\n",
    "\n",
    "red_wine_means\n",
    "white_wine_means"
   ]
  },
  {
   "cell_type": "code",
   "execution_count": null,
   "id": "111c9e65-5653-47f1-8328-a8823b698f24",
   "metadata": {},
   "outputs": [],
   "source": []
  }
 ],
 "metadata": {
  "kernelspec": {
   "display_name": "R",
   "language": "R",
   "name": "ir"
  },
  "language_info": {
   "codemirror_mode": "r",
   "file_extension": ".r",
   "mimetype": "text/x-r-source",
   "name": "R",
   "pygments_lexer": "r",
   "version": "4.1.3"
  }
 },
 "nbformat": 4,
 "nbformat_minor": 5
}

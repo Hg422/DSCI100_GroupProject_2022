{
 "cells": [
  {
   "cell_type": "markdown",
   "id": "7ca34c8c-3900-4b8a-9fd5-1055f4247fdc",
   "metadata": {},
   "source": [
    "DSCI 100 Project Proposal Group#100"
   ]
  },
  {
   "cell_type": "code",
   "execution_count": null,
   "id": "540de259-1e7e-4a40-bf0e-9ac65d4259d5",
   "metadata": {},
   "outputs": [],
   "source": [
    "Dataset: Tennis"
   ]
  }
 ],
 "metadata": {
  "kernelspec": {
   "display_name": "R",
   "language": "R",
   "name": "ir"
  },
  "language_info": {
   "codemirror_mode": "r",
   "file_extension": ".r",
   "mimetype": "text/x-r-source",
   "name": "R",
   "pygments_lexer": "r",
   "version": "4.1.3"
  }
 },
 "nbformat": 4,
 "nbformat_minor": 5
}

Title 
Introduction
